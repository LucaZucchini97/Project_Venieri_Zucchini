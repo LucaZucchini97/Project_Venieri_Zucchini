{
 "cells": [
  {
   "cell_type": "markdown",
   "metadata": {},
   "source": [
    "# FAIKR module 3 project\n",
    "\n",
    "#Lorenzo Venieri\n",
    "#Luca Zucchini"
   ]
  },
  {
   "cell_type": "markdown",
   "metadata": {},
   "source": [
    "#todo riscrivere outcomoe in diabete"
   ]
  },
  {
   "cell_type": "markdown",
   "metadata": {},
   "source": [
    "## Introduction\n",
    "\n",
    "Diabetes is a serious disease affecting millions of people across the entire world. Thus, correct and timely prediction of this disease is very important due to the complications it can have in the case of other life-threatening diseases.\n",
    "\n",
    "Objective of this project..."
   ]
  },
  {
   "cell_type": "code",
   "execution_count": null,
   "metadata": {},
   "outputs": [],
   "source": [
    "%pip install pgmpy"
   ]
  },
  {
   "cell_type": "markdown",
   "metadata": {},
   "source": [
    "## Dataset\n",
    "\n",
    "768 rows, 9 columns\n",
    "\n",
    "This dataset is originally from the National Institute of Diabetes and Digestive and Kidney\n",
    "Diseases. The objective of the dataset is to diagnostically predict whether a patient has diabetes,\n",
    "based on certain diagnostic measurements included in the dataset. Several constraints were placed\n",
    "on the selection of these instances from a larger database. In particular, all patients here are females\n",
    "at least 21 years old of Pima Indian heritage.\n",
    "\n",
    "From the data set in the (.csv) file we can find several variables, some of them are independent\n",
    "(several medical predictor variables) and only one target dependent variable (Outcome).\n",
    "\n",
    "We have 9 different attributes:\n",
    "1. Pregnancies: number of pregnancies\n",
    "2. Glucose: plasma glucose concentrarion \n",
    "3. BloodPressure: diastolic blood pressure mm/Hg\n",
    "4. SkinThickness: triceps skin fold thickness (mm)\n",
    "5. Insulin: insulin in U/mL\n",
    "6. BMI: Body mass index (weight in kg/(height in m)^2)\n",
    "7. Diabetes Pedigree Function: scores likelihood of diabetes based on family history\n",
    "8. Age: age of the person (years)\n",
    "9. Outcome: patient has diabetes (0 = No, 1 = Yes)"
   ]
  },
  {
   "cell_type": "code",
   "execution_count": 1,
   "metadata": {},
   "outputs": [
    {
     "data": {
      "text/html": [
       "<div>\n",
       "<style scoped>\n",
       "    .dataframe tbody tr th:only-of-type {\n",
       "        vertical-align: middle;\n",
       "    }\n",
       "\n",
       "    .dataframe tbody tr th {\n",
       "        vertical-align: top;\n",
       "    }\n",
       "\n",
       "    .dataframe thead th {\n",
       "        text-align: right;\n",
       "    }\n",
       "</style>\n",
       "<table border=\"1\" class=\"dataframe\">\n",
       "  <thead>\n",
       "    <tr style=\"text-align: right;\">\n",
       "      <th></th>\n",
       "      <th>Pregnancies</th>\n",
       "      <th>Glucose</th>\n",
       "      <th>BloodPressure</th>\n",
       "      <th>SkinThickness</th>\n",
       "      <th>Insulin</th>\n",
       "      <th>BMI</th>\n",
       "      <th>DiabetesPedigreeFunction</th>\n",
       "      <th>Age</th>\n",
       "      <th>Outcome</th>\n",
       "    </tr>\n",
       "  </thead>\n",
       "  <tbody>\n",
       "    <tr>\n",
       "      <th>0</th>\n",
       "      <td>6</td>\n",
       "      <td>148</td>\n",
       "      <td>72</td>\n",
       "      <td>35</td>\n",
       "      <td>0</td>\n",
       "      <td>33.6</td>\n",
       "      <td>0.627</td>\n",
       "      <td>50</td>\n",
       "      <td>1</td>\n",
       "    </tr>\n",
       "    <tr>\n",
       "      <th>1</th>\n",
       "      <td>1</td>\n",
       "      <td>85</td>\n",
       "      <td>66</td>\n",
       "      <td>29</td>\n",
       "      <td>0</td>\n",
       "      <td>26.6</td>\n",
       "      <td>0.351</td>\n",
       "      <td>31</td>\n",
       "      <td>0</td>\n",
       "    </tr>\n",
       "    <tr>\n",
       "      <th>2</th>\n",
       "      <td>8</td>\n",
       "      <td>183</td>\n",
       "      <td>64</td>\n",
       "      <td>0</td>\n",
       "      <td>0</td>\n",
       "      <td>23.3</td>\n",
       "      <td>0.672</td>\n",
       "      <td>32</td>\n",
       "      <td>1</td>\n",
       "    </tr>\n",
       "    <tr>\n",
       "      <th>3</th>\n",
       "      <td>1</td>\n",
       "      <td>89</td>\n",
       "      <td>66</td>\n",
       "      <td>23</td>\n",
       "      <td>94</td>\n",
       "      <td>28.1</td>\n",
       "      <td>0.167</td>\n",
       "      <td>21</td>\n",
       "      <td>0</td>\n",
       "    </tr>\n",
       "    <tr>\n",
       "      <th>4</th>\n",
       "      <td>0</td>\n",
       "      <td>137</td>\n",
       "      <td>40</td>\n",
       "      <td>35</td>\n",
       "      <td>168</td>\n",
       "      <td>43.1</td>\n",
       "      <td>2.288</td>\n",
       "      <td>33</td>\n",
       "      <td>1</td>\n",
       "    </tr>\n",
       "  </tbody>\n",
       "</table>\n",
       "</div>"
      ],
      "text/plain": [
       "   Pregnancies  Glucose  BloodPressure  SkinThickness  Insulin   BMI  \\\n",
       "0            6      148             72             35        0  33.6   \n",
       "1            1       85             66             29        0  26.6   \n",
       "2            8      183             64              0        0  23.3   \n",
       "3            1       89             66             23       94  28.1   \n",
       "4            0      137             40             35      168  43.1   \n",
       "\n",
       "   DiabetesPedigreeFunction  Age  Outcome  \n",
       "0                     0.627   50        1  \n",
       "1                     0.351   31        0  \n",
       "2                     0.672   32        1  \n",
       "3                     0.167   21        0  \n",
       "4                     2.288   33        1  "
      ]
     },
     "execution_count": 1,
     "metadata": {},
     "output_type": "execute_result"
    }
   ],
   "source": [
    "import pandas as pd\n",
    "import numpy as np\n",
    "import seaborn as sns\n",
    "import matplotlib.pyplot as plt\n",
    "\n",
    "df_raw = pd.read_csv(\"data/diabetes.csv\")\n",
    "df_raw.head()"
   ]
  },
  {
   "cell_type": "markdown",
   "metadata": {},
   "source": [
    "## Exploratory Data Analysis"
   ]
  },
  {
   "cell_type": "code",
   "execution_count": 6,
   "metadata": {},
   "outputs": [
    {
     "data": {
      "text/plain": [
       "0    500\n",
       "1    268\n",
       "Name: Outcome, dtype: int64"
      ]
     },
     "execution_count": 6,
     "metadata": {},
     "output_type": "execute_result"
    }
   ],
   "source": [
    "#Diabetes distribution in the dataset\n",
    "\n",
    "df_raw['Outcome'].value_counts()"
   ]
  },
  {
   "cell_type": "markdown",
   "metadata": {},
   "source": [
    "In the dataset there are 268 patients with diabetes and 500 without. The Outcome column is imbalanced: only about 35% of the entries have diabetes."
   ]
  },
  {
   "cell_type": "code",
   "execution_count": null,
   "metadata": {},
   "outputs": [],
   "source": [
    "#Visualization of the other 8 (continuous) features\n",
    "\n",
    "fig, axs = plt.subplots(4, 2, figsize=(18,16))\n",
    "axs = axs.flatten()\n",
    "sns.distplot(df_raw['Pregnancies'],rug=True,ax=axs[0])\n",
    "sns.distplot(df_raw['Glucose'],rug=True,ax=axs[1])\n",
    "sns.distplot(df_raw['BloodPressure'],rug=True,ax=axs[2])\n",
    "sns.distplot(df_raw['SkinThickness'],rug=True,ax=axs[3])\n",
    "sns.distplot(df_raw['Insulin'],rug=True,ax=axs[4])\n",
    "sns.distplot(df_raw['BMI'],rug=True,ax=axs[5])\n",
    "sns.distplot(df_raw['DiabetesPedigreeFunction'],rug=True,ax=axs[6])\n",
    "sns.distplot(df_raw['Age'],rug=True,ax=axs[7])\n",
    "plt.show()"
   ]
  },
  {
   "cell_type": "code",
   "execution_count": null,
   "metadata": {},
   "outputs": [],
   "source": [
    "###################\n",
    "count_1 = 0\n",
    "count_2 = 1\n",
    "for i in range(df_raw.shape[0]):\n",
    "    if df_raw[\"Insulin\"][i] < 1 and df_raw[\"Outcome\"][i] == 1 :\n",
    "        count_1 += 1\n",
    "print(\"presumibilmente ci sono \",count_1,\"pazienti con diabete di tipo 1\")"
   ]
  },
  {
   "cell_type": "markdown",
   "metadata": {},
   "source": [
    "### Data cleaning"
   ]
  },
  {
   "cell_type": "markdown",
   "metadata": {},
   "source": [
    "Vediamo che ci sono tanti valori nulli nel dataset. Sarebbero da togliere dato che sono dei NaN. Allo stesso tempo possiamo usare questa cosa per iniziare un downsample dei dati con Outcome '0'\n",
    "\n",
    "In the dataset there are many null values that we have to handle. We decided to remove them instead of using statistical methods to predict the missing values, since we have few data and we want them to be as much predictive as possible. By the way, we have to consider that null values of Insulin are interesting data since they usually indicate the presence of Diabetes"
   ]
  },
  {
   "cell_type": "code",
   "execution_count": 51,
   "metadata": {},
   "outputs": [
    {
     "name": "stdout",
     "output_type": "stream",
     "text": [
      "In the column Pregnancies there are 111 null values\n",
      "In the column Glucose there are 5 null values\n",
      "In the column BloodPressure there are 35 null values\n",
      "In the column SkinThickness there are 227 null values\n",
      "In the column Insulin there are 374 null values\n",
      "In the column BMI there are 11 null values\n",
      "In the column DiabetesPedigreeFunction there are 0 null values\n",
      "In the column Age there are 0 null values\n"
     ]
    }
   ],
   "source": [
    "for item in df_raw.columns :\n",
    "    if item != \"Outcome\":\n",
    "        print(\"In the column\", item,\"there are\",(df_raw[item].values == 0).sum(),\"null values\")"
   ]
  },
  {
   "cell_type": "markdown",
   "metadata": {},
   "source": [
    "We proceed with the removal of rows that have a null value in the columns: 'Glucose', 'BloodPressure', 'SkinThickness', 'Insulin','BMI'.  \n",
    "Previous analysis showed that DiabetesPedigreeFunction column and Age column don't contain any null values."
   ]
  },
  {
   "cell_type": "code",
   "execution_count": 82,
   "metadata": {},
   "outputs": [],
   "source": [
    "df_clean = df_raw.copy(deep=True)\n",
    "df_clean.rename(columns={\"Outcome\": \"Diabetes_2\"},inplace=True)"
   ]
  },
  {
   "cell_type": "code",
   "execution_count": 83,
   "metadata": {},
   "outputs": [
    {
     "name": "stdout",
     "output_type": "stream",
     "text": [
      "Column Glucose has been cleaned\n",
      "Column BloodPressure has been cleaned\n",
      "Column SkinThickness has been cleaned\n",
      "Column BMI has been cleaned\n"
     ]
    }
   ],
   "source": [
    "columns_to_clean = ['Glucose', 'BloodPressure', 'SkinThickness','BMI']\n",
    "for item in columns_to_clean:\n",
    "    drop_list = []\n",
    "    for i in range(len(df_clean[item])):\n",
    "        if df_clean[item][i] == 0 :\n",
    "            drop_list.append(i)\n",
    "    print(\"Column\",item,\"has been cleaned\")\n",
    "    df_clean.drop(labels= drop_list, axis= 0, inplace= True)\n",
    "    df_clean.reset_index(drop=True, inplace=True)\n",
    "    "
   ]
  },
  {
   "cell_type": "markdown",
   "metadata": {},
   "source": [
    "With regard to the Insulin column we consider the fact that a null value of insulin in the blood is a sure sign of the presence of (type 1) Diabetes, so we proceed with removing all the rows that have a null value of both Insuline and Outcome"
   ]
  },
  {
   "cell_type": "code",
   "execution_count": 85,
   "metadata": {},
   "outputs": [
    {
     "name": "stdout",
     "output_type": "stream",
     "text": [
      "Column 'Insulin' has been cleaned\n"
     ]
    }
   ],
   "source": [
    "for i in range(len(df_clean[\"Insulin\"])):\n",
    "    if df_clean[\"Insulin\"][i] == 0 and df_clean[\"Diabetes_2\"][i] == 0:\n",
    "        df_clean.drop(labels= i, axis= 0, inplace= True)\n",
    "print(\"Column 'Insulin' has been cleaned\")\n",
    "df_clean.reset_index(drop=True, inplace=True)"
   ]
  },
  {
   "cell_type": "code",
   "execution_count": null,
   "metadata": {},
   "outputs": [],
   "source": [
    "df_clean[\"Diabetes_1\"] = np.zeros(df_clean.shape[0])\n",
    "\n",
    "for i in range(df_clean.shape[0]):\n",
    "    if df_clean[\"Insulin\"][i] == 0 and df_clean[\"Diabetes_2\"][i] == 1:\n",
    "        df_clean[\"Diabetes_2\"][i] = 0\n",
    "        df_clean[\"Diabetes_1\"][i] = 1\n",
    "\n",
    "df_clean['Diabetes_1'] = df_clean['Diabetes_1'].apply(np.int64)"
   ]
  },
  {
   "cell_type": "markdown",
   "metadata": {},
   "source": [
    "We check now if the dataset is balanced with respect to the Diabetes columns"
   ]
  },
  {
   "cell_type": "code",
   "execution_count": null,
   "metadata": {},
   "outputs": [],
   "source": [
    "print(\"Total number of patient with diabetes\", (df_clean[\"Diabetes_2\"] == 1).sum() + (df_clean[\"Diabetes_1\"] == 1.0).sum())\n",
    "print(\"Total number of patient without diabetes\", df_clean.shape[0] - ((df_clean[\"Diabetes_2\"] == 1).sum() + (df_clean[\"Diabetes_1\"] == 1.0).sum()))\n"
   ]
  },
  {
   "cell_type": "markdown",
   "metadata": {},
   "source": [
    "As we notice there is the need of a balancing of the dataset since the '0' outcomes are 50% more than the '1' outcomes. We deal with this using the resample method provided by sklearn\n",
    "OVVIAMENTE QUESTO MATCHA LA REALTA'"
   ]
  },
  {
   "cell_type": "code",
   "execution_count": null,
   "metadata": {},
   "outputs": [],
   "source": [
    "from sklearn.utils import resample"
   ]
  },
  {
   "cell_type": "code",
   "execution_count": null,
   "metadata": {},
   "outputs": [],
   "source": [
    "df_positive_outcome = df_clean[df_clean[\"Outcome\"] == 1]\n",
    "df_negative_outcome = df_clean[df_clean[\"Outcome\"] == 0]\n",
    "#-----------\n",
    "\n",
    "df_negative_outcome_downsampled = resample(df_negative_outcome,\n",
    "             replace=True,\n",
    "             n_samples=len(df_positive_outcome),\n",
    "             random_state=42)\n",
    "print(df_negative_outcome_downsampled.shape)\n",
    "#-----------------\n",
    "\n",
    "df_balanced = pd.concat([df_negative_outcome_downsampled, df_positive_outcome])\n",
    "#-----------\n",
    "\n",
    "df_balanced.reset_index(drop=True, inplace=True)\n",
    "\n",
    "print(\"Total number of Outcomes without diabetes\", (df_balanced[\"Outcome\"] == 0).sum())\n",
    "print(\"Total number of Outcomes with diabetes\", (df_balanced[\"Outcome\"] == 1).sum())\n"
   ]
  },
  {
   "cell_type": "markdown",
   "metadata": {},
   "source": [
    "SEMPLICEMENTE FACCIAMO I BIN\n",
    "We have now a balanced dataset, the next step is to modify the values of columns from continuous values to discrete values. This transition is necessary in order to work with a bayesian network.\n",
    "The binnarization was made trying to group values ​​into ranges of interest, rather than splitting them into 'n' number of bins.  "
   ]
  },
  {
   "cell_type": "code",
   "execution_count": null,
   "metadata": {},
   "outputs": [],
   "source": [
    "for item in df_clean:\n",
    "    print(\"valori di \",item)\n",
    "    temp = df_clean[item].unique()\n",
    "    temp.sort()\n",
    "    #print(df_raw[item].unique())\n",
    "    print(temp)\n",
    "    print(\"----------------------\")"
   ]
  },
  {
   "cell_type": "markdown",
   "metadata": {},
   "source": [
    "#### Binnerization"
   ]
  },
  {
   "cell_type": "code",
   "execution_count": 105,
   "metadata": {},
   "outputs": [],
   "source": [
    "df_bin = df_clean.copy(deep=True)"
   ]
  },
  {
   "cell_type": "code",
   "execution_count": 109,
   "metadata": {},
   "outputs": [
    {
     "data": {
      "text/html": [
       "<div>\n",
       "<style scoped>\n",
       "    .dataframe tbody tr th:only-of-type {\n",
       "        vertical-align: middle;\n",
       "    }\n",
       "\n",
       "    .dataframe tbody tr th {\n",
       "        vertical-align: top;\n",
       "    }\n",
       "\n",
       "    .dataframe thead th {\n",
       "        text-align: right;\n",
       "    }\n",
       "</style>\n",
       "<table border=\"1\" class=\"dataframe\">\n",
       "  <thead>\n",
       "    <tr style=\"text-align: right;\">\n",
       "      <th></th>\n",
       "      <th>Pregnancies</th>\n",
       "      <th>Glucose</th>\n",
       "      <th>BloodPressure</th>\n",
       "      <th>SkinThickness</th>\n",
       "      <th>Insulin</th>\n",
       "      <th>BMI</th>\n",
       "      <th>DiabetesPedigreeFunction</th>\n",
       "      <th>Age</th>\n",
       "      <th>Diabetes_2</th>\n",
       "      <th>Diabetes_1</th>\n",
       "    </tr>\n",
       "  </thead>\n",
       "  <tbody>\n",
       "    <tr>\n",
       "      <th>0</th>\n",
       "      <td>3-6</td>\n",
       "      <td>140-200</td>\n",
       "      <td>60-80</td>\n",
       "      <td>30-40</td>\n",
       "      <td>0-5</td>\n",
       "      <td>30+</td>\n",
       "      <td>0.5-0.7</td>\n",
       "      <td>40-50</td>\n",
       "      <td>0</td>\n",
       "      <td>1</td>\n",
       "    </tr>\n",
       "    <tr>\n",
       "      <th>1</th>\n",
       "      <td>0-3</td>\n",
       "      <td>70-100</td>\n",
       "      <td>60-80</td>\n",
       "      <td>15-30</td>\n",
       "      <td>50-120</td>\n",
       "      <td>25-30</td>\n",
       "      <td>0-0.2</td>\n",
       "      <td>20-30</td>\n",
       "      <td>0</td>\n",
       "      <td>0</td>\n",
       "    </tr>\n",
       "    <tr>\n",
       "      <th>2</th>\n",
       "      <td>0-3</td>\n",
       "      <td>100-140</td>\n",
       "      <td>30-60</td>\n",
       "      <td>30-40</td>\n",
       "      <td>150-250</td>\n",
       "      <td>30+</td>\n",
       "      <td>0.9+</td>\n",
       "      <td>30-40</td>\n",
       "      <td>1</td>\n",
       "      <td>0</td>\n",
       "    </tr>\n",
       "    <tr>\n",
       "      <th>3</th>\n",
       "      <td>0-3</td>\n",
       "      <td>70-100</td>\n",
       "      <td>30-60</td>\n",
       "      <td>30-40</td>\n",
       "      <td>50-120</td>\n",
       "      <td>30+</td>\n",
       "      <td>0.2-0.3</td>\n",
       "      <td>20-30</td>\n",
       "      <td>1</td>\n",
       "      <td>0</td>\n",
       "    </tr>\n",
       "    <tr>\n",
       "      <th>4</th>\n",
       "      <td>0-3</td>\n",
       "      <td>140-200</td>\n",
       "      <td>60-80</td>\n",
       "      <td>40+</td>\n",
       "      <td>250+</td>\n",
       "      <td>30+</td>\n",
       "      <td>0-0.2</td>\n",
       "      <td>50-60</td>\n",
       "      <td>1</td>\n",
       "      <td>0</td>\n",
       "    </tr>\n",
       "  </tbody>\n",
       "</table>\n",
       "</div>"
      ],
      "text/plain": [
       "  Pregnancies  Glucose BloodPressure SkinThickness  Insulin    BMI  \\\n",
       "0         3-6  140-200         60-80         30-40      0-5    30+   \n",
       "1         0-3   70-100         60-80         15-30   50-120  25-30   \n",
       "2         0-3  100-140         30-60         30-40  150-250    30+   \n",
       "3         0-3   70-100         30-60         30-40   50-120    30+   \n",
       "4         0-3  140-200         60-80           40+     250+    30+   \n",
       "\n",
       "  DiabetesPedigreeFunction    Age  Diabetes_2  Diabetes_1  \n",
       "0                  0.5-0.7  40-50           0           1  \n",
       "1                    0-0.2  20-30           0           0  \n",
       "2                     0.9+  30-40           1           0  \n",
       "3                  0.2-0.3  20-30           1           0  \n",
       "4                    0-0.2  50-60           1           0  "
      ]
     },
     "execution_count": 109,
     "metadata": {},
     "output_type": "execute_result"
    }
   ],
   "source": [
    "df_bin.head()"
   ]
  },
  {
   "cell_type": "code",
   "execution_count": 106,
   "metadata": {},
   "outputs": [],
   "source": [
    "#dictionary di configurazione per la binnerizzazione\n",
    "\n",
    "conf = {\"Pregnancies\" :{\n",
    "            \"bins\" : [-1,3,6,11,18],\n",
    "            \"labels\": [\"0-3\",\"3-6\",\"6-11\",\"11+\"]},\n",
    "\n",
    "        \"Glucose\" :{\n",
    "            \"bins\" : [70,100,140,np.max(df_clean[\"Glucose\"])],\n",
    "            \"labels\" : [\"70-100\",\"100-140\",\"140-200\"]},\n",
    "\n",
    "        \"BloodPressure\" :{\n",
    "            \"bins\" : [29,60,80,85,90,100,110],\n",
    "            \"labels\" : [\"30-60\",\"60-80\",\"80-85\",\"85-90\",\"90-100\",\"100-110\"]},\n",
    "\n",
    "        \"SkinThickness\" :{\n",
    "            \"bins\" : [6,15,30,40,np.max(df_clean[\"SkinThickness\"])],\n",
    "            \"labels\" : [\"7-15\",\"15-30\",\"30-40\",\"40+\"]},\n",
    "\n",
    "        \"Insulin\" : {\n",
    "            \"bins\" : [-1,5,25,50,120,150,250,np.max(df_clean[\"Insulin\"])],\n",
    "            \"labels\" : [\"0-5\",\"5-25\",\"25-50\",\"50-120\",\"120-150\",\"150-250\",\"250+\"]},\n",
    "            \n",
    "        \"BMI\" :{\n",
    "            \"bins\" : [19,25,30,np.max(df_clean[\"BMI\"])],\n",
    "            \"labels\" : [\"19-25\",\"25-30\",\"30+\"]},\n",
    "\n",
    "        \"DiabetesPedigreeFunction\" :{\n",
    "            \"bins\" : [-1,0.2,0.3,0.5,0.7,0.9,np.max(df_clean[\"DiabetesPedigreeFunction\"])],\n",
    "            \"labels\" : [\"0-0.2\",\"0.2-0.3\",\"0.3-0.5\",\"0.5-0.7\",\"0.7-0.9\",\"0.9+\"]},\n",
    "            \n",
    "        \"Age\" :{\n",
    "            \"bins\" : [20,30,40,50,60,np.max(df_clean[\"Age\"])],\n",
    "            \"labels\" : [\"20-30\",\"30-40\",\"40-50\",\"50-60\",\"60+\"]}\n",
    "        }       \n"
   ]
  },
  {
   "cell_type": "code",
   "execution_count": 107,
   "metadata": {},
   "outputs": [],
   "source": [
    "for item in conf.keys():\n",
    "    df_bin[item] = pd.cut(x=df_clean[item], bins=conf[item][\"bins\"],\n",
    "                        labels=conf[item][\"labels\"])"
   ]
  },
  {
   "cell_type": "code",
   "execution_count": null,
   "metadata": {},
   "outputs": [],
   "source": [
    "for item in df_bin:\n",
    "    print(\"valori di \",item)\n",
    "    temp = df_bin[item].unique()\n",
    "    #print(df_raw[item].unique())\n",
    "    print(temp)\n",
    "    print(\"----------------------\")"
   ]
  },
  {
   "cell_type": "code",
   "execution_count": null,
   "metadata": {},
   "outputs": [],
   "source": [
    "#Visualization of the binerized features distributions\n",
    "\n",
    "fig, axs = plt.subplots(5, 2, figsize=(18,20))\n",
    "axs = axs.flatten()\n",
    "for n,column_name in enumerate(df_bin.columns):\n",
    "    df_bin[column_name].value_counts().plot(kind='bar', title = column_name, ax = axs[n-1])\n"
   ]
  },
  {
   "cell_type": "markdown",
   "metadata": {},
   "source": [
    "Now that bins have been correctly crated, we move to desing the network"
   ]
  },
  {
   "cell_type": "markdown",
   "metadata": {},
   "source": [
    "# Network\n"
   ]
  },
  {
   "cell_type": "markdown",
   "metadata": {},
   "source": [
    "In this chapter we will build the network by analyzing correlations between the columns and scientific papers related to the topic. We will then explore a variety of methods related to the analysis of Bayesian Networks."
   ]
  },
  {
   "cell_type": "markdown",
   "metadata": {},
   "source": [
    "Analyzing the correlations between the columns of the dataframe can help us reason about the causal relationships between them. "
   ]
  },
  {
   "cell_type": "code",
   "execution_count": 62,
   "metadata": {},
   "outputs": [
    {
     "data": {
      "text/plain": [
       "<AxesSubplot:>"
      ]
     },
     "execution_count": 62,
     "metadata": {},
     "output_type": "execute_result"
    },
    {
     "data": {
      "image/png": "[encoded data removed]",
      "text/plain": [
       "<Figure size 720x360 with 2 Axes>"
      ]
     },
     "metadata": {
      "needs_background": "light"
     },
     "output_type": "display_data"
    }
   ],
   "source": [
    "corr = df_clean.corr()\n",
    "plt.figure(figsize=(10,5))\n",
    "sns.heatmap(corr, annot=True)"
   ]
  },
  {
   "cell_type": "markdown",
   "metadata": {},
   "source": [
    "Age - pregnancies  \n",
    "Age - outcome  \n",
    "Outcome - glucose  \n",
    "insulin - glucose  \n",
    "insulin - skinthickness  \n",
    "bmi - skinthickness  "
   ]
  },
  {
   "cell_type": "markdown",
   "metadata": {},
   "source": [
    "### Showing the network\n",
    "\n",
    "We show a graphical preliminary overview of the network using the visual library daft of pgmpy.  \n",
    "The acronyms related to dataset attributes are the followings:\n",
    "\n",
    "...\n"
   ]
  },
  {
   "cell_type": "code",
   "execution_count": null,
   "metadata": {},
   "outputs": [],
   "source": [
    "%pip install daft"
   ]
  },
  {
   "cell_type": "code",
   "execution_count": 63,
   "metadata": {},
   "outputs": [
    {
     "data": {
      "image/png": "[encoded data removed]",
      "text/plain": [
       "<Figure size 209.764x209.764 with 1 Axes>"
      ]
     },
     "metadata": {},
     "output_type": "display_data"
    }
   ],
   "source": [
    "import daft\n",
    "import matplotlib.pyplot as plt\n",
    "from daft import PGM\n",
    "\n",
    "pgm = PGM()\n",
    "\n",
    "pgm.add_node(daft.Node('Age', \"Age\", 2, 4))\n",
    "pgm.add_node(daft.Node('DPF', \"DPF\", 3, 4))\n",
    "pgm.add_node(daft.Node('BMI', \"BMI\", 4, 4))\n",
    "\n",
    "pgm.add_node(daft.Node('Pr', \"Pr\", 1, 3.5))\n",
    "\n",
    "pgm.add_node(daft.Node('Diab', \"Diab\", 2, 3))\n",
    "\n",
    "pgm.add_node(daft.Node('Glu', \"Glu\", 1, 2))\n",
    "pgm.add_node(daft.Node('Ins', \"Ins\", 2, 2))\n",
    "\n",
    "pgm.add_node(daft.Node('BP', \"BP\", 3, 1))\n",
    "pgm.add_node(daft.Node('ST', \"ST\", 4, 1))\n",
    "\n",
    "pgm.add_edge('Age', 'Pr')\n",
    "pgm.add_edge('Pr', 'Diab')\n",
    "pgm.add_edge('DPF', 'Diab')\n",
    "pgm.add_edge('Age', 'Diab')\n",
    "pgm.add_edge('BMI','Diab')\n",
    "pgm.add_edge('BMI','ST')\n",
    "pgm.add_edge('BMI', 'BP')\n",
    "pgm.add_edge('Diab', 'Glu')\n",
    "pgm.add_edge('Diab', 'Ins')\n",
    "pgm.add_edge('Glu', 'BP')\n",
    "pgm.add_edge('Ins', 'BP')\n",
    "\n",
    "pgm.render()\n",
    "plt.show()"
   ]
  },
  {
   "cell_type": "markdown",
   "metadata": {},
   "source": [
    "Examples of connections between nodes (e.g. direct cause, causal trail) refering to this specific Network are here shown:\n",
    "\n",
    "#Direct cause\n",
    "\n",
    "#Causal trail\n",
    "\n",
    "#Common effect"
   ]
  },
  {
   "cell_type": "markdown",
   "metadata": {},
   "source": [
    "## Creating the network\n",
    "\n",
    "Connections between nodes have been implemented from scratch refering to a variety of scientific medical sources. Being the causal links in the medical field particularly challenging to model (i.e. often a huge variety of attributes are interlaced, causing directly or indirectly effects on each others) in this work only links that have been considered particularly relevant were defined.\n",
    "\n",
    "Some of the connections are here explained and referenced:\n"
   ]
  },
  {
   "cell_type": "code",
   "execution_count": 64,
   "metadata": {},
   "outputs": [
    {
     "name": "stderr",
     "output_type": "stream",
     "text": [
      "c:\\Users\\Luca\\.virtualenvs\\ML4downsyndrome-D1DocbTt\\lib\\site-packages\\tqdm\\auto.py:22: TqdmWarning: IProgress not found. Please update jupyter and ipywidgets. See https://ipywidgets.readthedocs.io/en/stable/user_install.html\n",
      "  from .autonotebook import tqdm as notebook_tqdm\n"
     ]
    }
   ],
   "source": [
    "import pgmpy\n",
    "from pgmpy.models import BayesianNetwork\n",
    "\n",
    "model = BayesianNetwork([('Age','Pregnancies'),('Pregnancies', 'Diabetes'),('DiabetesPedigreeFunction', 'Diabetes'),('Age', 'Diabetes'),('BMI','Diabetes'),\n",
    "('BMI','SkinThickness'),('BMI', 'BloodPressure'),('Diabetes', 'Glucose'),('Diabetes', 'Insulin'),('Glucose', 'BloodPressure'),('Insulin','BloodPressure')])"
   ]
  },
  {
   "cell_type": "markdown",
   "metadata": {},
   "source": [
    "###Analyzing the network\n",
    "\n",
    "Follows a series of experiments done on the network by applying a variety of methods provided by the pgmpy library in order to see in practice all the concepts addressed during the course."
   ]
  },
  {
   "cell_type": "code",
   "execution_count": 65,
   "metadata": {},
   "outputs": [
    {
     "data": {
      "text/plain": [
       "NodeView(('Age', 'Pregnancies', 'Diabetes', 'DiabetesPedigreeFunction', 'BMI', 'SkinThickness', 'BloodPressure', 'Glucose', 'Insulin'))"
      ]
     },
     "execution_count": 65,
     "metadata": {},
     "output_type": "execute_result"
    }
   ],
   "source": [
    "# Showing all the nodes of the model\n",
    "model.nodes()"
   ]
  },
  {
   "cell_type": "code",
   "execution_count": null,
   "metadata": {},
   "outputs": [],
   "source": [
    "# Showing all the edges of the model\n",
    "model.edges()"
   ]
  },
  {
   "cell_type": "code",
   "execution_count": null,
   "metadata": {},
   "outputs": [],
   "source": [
    "# Local independencies of a single node\n",
    "model.local_independencies(\"Diabetes\")"
   ]
  },
  {
   "cell_type": "code",
   "execution_count": null,
   "metadata": {},
   "outputs": [],
   "source": [
    "model.local_independencies(\"SkinThickness\")"
   ]
  },
  {
   "cell_type": "code",
   "execution_count": null,
   "metadata": {},
   "outputs": [],
   "source": [
    "# Checking d-separation between variables with and without evidence\n",
    "# Two sets of nodes X, Y are d-separated given Z if there is no active trail between any x ∈ X and y ∈ Y given Z\n",
    "\n",
    "print(model.is_dconnected(\"Glucose\", \"Insuline\"))\n",
    "print(model.is_dconnected(\"Glucose\", \"Insuline\",observed=[\"Diabetes\"] ))"
   ]
  },
  {
   "cell_type": "code",
   "execution_count": 66,
   "metadata": {},
   "outputs": [
    {
     "name": "stdout",
     "output_type": "stream",
     "text": [
      "Node Glucose is irrelevant with resepect to Insuline given the evidence Diabetes\n"
     ]
    }
   ],
   "source": [
    "# Function is_irrelevant recalls the definition of irrelevance given during the course \n",
    "\n",
    "def is_irrelevant(node1,node2,evidence):\n",
    "  if ((node2 in (model.get_ancestral_graph(node1)and model.get_ancestral_graph(evidence))) and model.is_dconnected(node1, node2,observed=evidence )):\n",
    "    print(\"Node\", node1, \"is not irrelevant with resepect to\", node2, \"given the evidence\", evidence)\n",
    "  else:\n",
    "    print(\"Node\", node1, \"is irrelevant with resepect to\", node2, \"given the evidence\", evidence)\n",
    "\n",
    "is_irrelevant(\"Glucose\", \"Insuline\", \"Diabetes\")"
   ]
  },
  {
   "cell_type": "code",
   "execution_count": null,
   "metadata": {},
   "outputs": [],
   "source": [
    "# Checking active trails from blood pressure given the evidence diabetes\n",
    "model.active_trail_nodes('BloodPressure', observed='Diabetes')"
   ]
  },
  {
   "cell_type": "code",
   "execution_count": null,
   "metadata": {},
   "outputs": [],
   "source": [
    "# Checking the markov blanket of the node BloodPressure\n",
    "model.get_markov_blanket(\"BloodPressure\")"
   ]
  },
  {
   "cell_type": "markdown",
   "metadata": {},
   "source": [
    "### Parameter learning\n",
    "\n",
    "Learning Bayesian networks from data, knowing the structure of the network, boils down to parameter estimation. In pgmpy a variety of estimators is available, going from IVestimator to SEMestimator, but the main choice for this problem fell on two of them: Maximum Likelihood and Bayesian Estimator.\n",
    "\n",
    "MLE, which depends solely on the outcomes of observed data, could be a reasonable simple starting point, however, it is notorious for becoming easily biased when the data is minimal. Moreover, in situations where observed data is sparse, Bayesian estimation’s incorporation of prior knowledge can help in attaining a more accurate model. \n",
    "\n",
    "On the other hand, unreliable priors can lead to a slippery slope of highly biased models that require large amounts of seen data to remedy; so priors need to be well defined and contain relevant insight to the problem in order to avoid that. \n",
    "\n",
    "Taken into consideration pros and cons of both approaches, given the minimal dataset used for this work the Bayesian Estimator is choosen.\n",
    "\n",
    "Pgmpy also offer a variety of possible priors, among them a possible choice is Bayesian Dirichlet equivalent uniform prior (BDeu), choosen with its default settings (i.e. equivalent_sample_size equal to 5).\n",
    "\n",
    "In the following cell the parameter estimation process takes place and the learned CPTs are shown."
   ]
  },
  {
   "cell_type": "code",
   "execution_count": 67,
   "metadata": {},
   "outputs": [],
   "source": [
    "from pgmpy.estimators import BayesianEstimator"
   ]
  },
  {
   "cell_type": "code",
   "execution_count": 68,
   "metadata": {},
   "outputs": [],
   "source": [
    "df = df_bin.rename(columns = {'Outcome':'Diabetes'}) #column names and node names must be the same"
   ]
  },
  {
   "cell_type": "code",
   "execution_count": null,
   "metadata": {},
   "outputs": [],
   "source": [
    "df.head()"
   ]
  },
  {
   "cell_type": "code",
   "execution_count": 69,
   "metadata": {},
   "outputs": [
    {
     "name": "stdout",
     "output_type": "stream",
     "text": [
      "CPT of Age:\n",
      "+------------+-----------+\n",
      "| Age(20-30) | 0.591324  |\n",
      "+------------+-----------+\n",
      "| Age(30-40) | 0.200913  |\n",
      "+------------+-----------+\n",
      "| Age(40-50) | 0.127854  |\n",
      "+------------+-----------+\n",
      "| Age(50-60) | 0.06621   |\n",
      "+------------+-----------+\n",
      "| Age(60+)   | 0.0136986 |\n",
      "+------------+-----------+ \n",
      "\n",
      "CPT of Pregnancies:\n",
      "+-------------------+-----+----------------------+\n",
      "| Age               | ... | Age(60+)             |\n",
      "+-------------------+-----+----------------------+\n",
      "| Pregnancies(0-3)  | ... | 0.20833333333333334  |\n",
      "+-------------------+-----+----------------------+\n",
      "| Pregnancies(11+)  | ... | 0.041666666666666664 |\n",
      "+-------------------+-----+----------------------+\n",
      "| Pregnancies(3-6)  | ... | 0.20833333333333334  |\n",
      "+-------------------+-----+----------------------+\n",
      "| Pregnancies(6-11) | ... | 0.5416666666666666   |\n",
      "+-------------------+-----+----------------------+ \n",
      "\n",
      "CPT of Diabetes:\n",
      "+--------------------------+-----+--------------------------------+\n",
      "| Age                      | ... | Age(60+)                       |\n",
      "+--------------------------+-----+--------------------------------+\n",
      "| BMI                      | ... | BMI(30+)                       |\n",
      "+--------------------------+-----+--------------------------------+\n",
      "| DiabetesPedigreeFunction | ... | DiabetesPedigreeFunction(0.9+) |\n",
      "+--------------------------+-----+--------------------------------+\n",
      "| Pregnancies              | ... | Pregnancies(6-11)              |\n",
      "+--------------------------+-----+--------------------------------+\n",
      "| Diabetes(0)              | ... | 0.5                            |\n",
      "+--------------------------+-----+--------------------------------+\n",
      "| Diabetes(1)              | ... | 0.5                            |\n",
      "+--------------------------+-----+--------------------------------+ \n",
      "\n",
      "CPT of DiabetesPedigreeFunction:\n",
      "+-----------------------------------+----------+\n",
      "| DiabetesPedigreeFunction(0-0.2)   | 0.109209 |\n",
      "+-----------------------------------+----------+\n",
      "| DiabetesPedigreeFunction(0.2-0.3) | 0.184551 |\n",
      "+-----------------------------------+----------+\n",
      "| DiabetesPedigreeFunction(0.3-0.5) | 0.266743 |\n",
      "+-----------------------------------+----------+\n",
      "| DiabetesPedigreeFunction(0.5-0.7) | 0.202816 |\n",
      "+-----------------------------------+----------+\n",
      "| DiabetesPedigreeFunction(0.7-0.9) | 0.116058 |\n",
      "+-----------------------------------+----------+\n",
      "| DiabetesPedigreeFunction(0.9+)    | 0.120624 |\n",
      "+-----------------------------------+----------+ \n",
      "\n",
      "CPT of BMI:\n",
      "+------------+-----------+\n",
      "| BMI(19-25) | 0.0996956 |\n",
      "+------------+-----------+\n",
      "| BMI(25-30) | 0.222983  |\n",
      "+------------+-----------+\n",
      "| BMI(30+)   | 0.677321  |\n",
      "+------------+-----------+ \n",
      "\n",
      "CPT of SkinThickness:\n",
      "+----------------------+-----+----------------------+\n",
      "| BMI                  | ... | BMI(30+)             |\n",
      "+----------------------+-----+----------------------+\n",
      "| SkinThickness(15-30) | ... | 0.36882022471910114  |\n",
      "+----------------------+-----+----------------------+\n",
      "| SkinThickness(30-40) | ... | 0.37219101123595505  |\n",
      "+----------------------+-----+----------------------+\n",
      "| SkinThickness(40+)   | ... | 0.23398876404494381  |\n",
      "+----------------------+-----+----------------------+\n",
      "| SkinThickness(7-15)  | ... | 0.024999999999999998 |\n",
      "+----------------------+-----+----------------------+ \n",
      "\n",
      "CPT of BloodPressure:\n",
      "+------------------------+-----+------------------------+\n",
      "| BMI                    | ... | BMI(30+)               |\n",
      "+------------------------+-----+------------------------+\n",
      "| Glucose                | ... | Glucose(70-100)        |\n",
      "+------------------------+-----+------------------------+\n",
      "| Insulin                | ... | Insulin(50-120)        |\n",
      "+------------------------+-----+------------------------+\n",
      "| BloodPressure(100-110) | ... | 0.00033003300330033004 |\n",
      "+------------------------+-----+------------------------+\n",
      "| BloodPressure(30-60)   | ... | 0.2248844884488449     |\n",
      "+------------------------+-----+------------------------+\n",
      "| BloodPressure(60-80)   | ... | 0.6490429042904291     |\n",
      "+------------------------+-----+------------------------+\n",
      "| BloodPressure(80-85)   | ... | 0.025280528052805284   |\n",
      "+------------------------+-----+------------------------+\n",
      "| BloodPressure(85-90)   | ... | 0.07518151815181519    |\n",
      "+------------------------+-----+------------------------+\n",
      "| BloodPressure(90-100)  | ... | 0.025280528052805284   |\n",
      "+------------------------+-----+------------------------+ \n",
      "\n",
      "CPT of Glucose:\n",
      "+------------------+---------------------+---------------------+\n",
      "| Diabetes         | Diabetes(0)         | Diabetes(1)         |\n",
      "+------------------+---------------------+---------------------+\n",
      "| Glucose(100-140) | 0.47517730496453897 | 0.38904363974001854 |\n",
      "+------------------+---------------------+---------------------+\n",
      "| Glucose(140-200) | 0.13862024500322373 | 0.5171773444753945  |\n",
      "+------------------+---------------------+---------------------+\n",
      "| Glucose(70-100)  | 0.38620245003223724 | 0.0937790157845868  |\n",
      "+------------------+---------------------+---------------------+ \n",
      "\n",
      "CPT of Insulin:\n",
      "+------------------+-----------------------+----------------------+\n",
      "| Diabetes         | Diabetes(0)           | Diabetes(1)          |\n",
      "+------------------+-----------------------+----------------------+\n",
      "| Insulin(0-5)     | 0.0013815971262779775 | 0.26382809391165934  |\n",
      "+------------------+-----------------------+----------------------+\n",
      "| Insulin(120-150) | 0.10196186791931473   | 0.1301233585356148   |\n",
      "+------------------+-----------------------+----------------------+\n",
      "| Insulin(150-250) | 0.1831997789444598    | 0.28054118583366494  |\n",
      "+------------------+-----------------------+----------------------+\n",
      "| Insulin(25-50)   | 0.10196186791931473   | 0.01870274572224433  |\n",
      "+------------------+-----------------------+----------------------+\n",
      "| Insulin(250+)    | 0.10583033987289307   | 0.16354954237962596  |\n",
      "+------------------+-----------------------+----------------------+\n",
      "| Insulin(5-25)    | 0.02072395689416966   | 0.007560684440907283 |\n",
      "+------------------+-----------------------+----------------------+\n",
      "| Insulin(50-120)  | 0.48494059132357004   | 0.13569438917628332  |\n",
      "+------------------+-----------------------+----------------------+ \n",
      "\n",
      "CPT of Age:\n",
      "+------------+-----------+\n",
      "| Age(20-30) | 0.591324  |\n",
      "+------------+-----------+\n",
      "| Age(30-40) | 0.200913  |\n",
      "+------------+-----------+\n",
      "| Age(40-50) | 0.127854  |\n",
      "+------------+-----------+\n",
      "| Age(50-60) | 0.06621   |\n",
      "+------------+-----------+\n",
      "| Age(60+)   | 0.0136986 |\n",
      "+------------+-----------+ \n",
      "\n",
      "CPT of Pregnancies:\n",
      "+-------------------+-----+----------------------+\n",
      "| Age               | ... | Age(60+)             |\n",
      "+-------------------+-----+----------------------+\n",
      "| Pregnancies(0-3)  | ... | 0.20833333333333334  |\n",
      "+-------------------+-----+----------------------+\n",
      "| Pregnancies(11+)  | ... | 0.041666666666666664 |\n",
      "+-------------------+-----+----------------------+\n",
      "| Pregnancies(3-6)  | ... | 0.20833333333333334  |\n",
      "+-------------------+-----+----------------------+\n",
      "| Pregnancies(6-11) | ... | 0.5416666666666666   |\n",
      "+-------------------+-----+----------------------+ \n",
      "\n",
      "CPT of Diabetes:\n",
      "+--------------------------+-----+--------------------------------+\n",
      "| Age                      | ... | Age(60+)                       |\n",
      "+--------------------------+-----+--------------------------------+\n",
      "| BMI                      | ... | BMI(30+)                       |\n",
      "+--------------------------+-----+--------------------------------+\n",
      "| DiabetesPedigreeFunction | ... | DiabetesPedigreeFunction(0.9+) |\n",
      "+--------------------------+-----+--------------------------------+\n",
      "| Pregnancies              | ... | Pregnancies(6-11)              |\n",
      "+--------------------------+-----+--------------------------------+\n",
      "| Diabetes(0)              | ... | 0.5                            |\n",
      "+--------------------------+-----+--------------------------------+\n",
      "| Diabetes(1)              | ... | 0.5                            |\n",
      "+--------------------------+-----+--------------------------------+ \n",
      "\n",
      "CPT of DiabetesPedigreeFunction:\n",
      "+-----------------------------------+----------+\n",
      "| DiabetesPedigreeFunction(0-0.2)   | 0.109209 |\n",
      "+-----------------------------------+----------+\n",
      "| DiabetesPedigreeFunction(0.2-0.3) | 0.184551 |\n",
      "+-----------------------------------+----------+\n",
      "| DiabetesPedigreeFunction(0.3-0.5) | 0.266743 |\n",
      "+-----------------------------------+----------+\n",
      "| DiabetesPedigreeFunction(0.5-0.7) | 0.202816 |\n",
      "+-----------------------------------+----------+\n",
      "| DiabetesPedigreeFunction(0.7-0.9) | 0.116058 |\n",
      "+-----------------------------------+----------+\n",
      "| DiabetesPedigreeFunction(0.9+)    | 0.120624 |\n",
      "+-----------------------------------+----------+ \n",
      "\n",
      "CPT of BMI:\n",
      "+------------+-----------+\n",
      "| BMI(19-25) | 0.0996956 |\n",
      "+------------+-----------+\n",
      "| BMI(25-30) | 0.222983  |\n",
      "+------------+-----------+\n",
      "| BMI(30+)   | 0.677321  |\n",
      "+------------+-----------+ \n",
      "\n",
      "CPT of SkinThickness:\n",
      "+----------------------+-----+----------------------+\n",
      "| BMI                  | ... | BMI(30+)             |\n",
      "+----------------------+-----+----------------------+\n",
      "| SkinThickness(15-30) | ... | 0.36882022471910114  |\n",
      "+----------------------+-----+----------------------+\n",
      "| SkinThickness(30-40) | ... | 0.37219101123595505  |\n",
      "+----------------------+-----+----------------------+\n",
      "| SkinThickness(40+)   | ... | 0.23398876404494381  |\n",
      "+----------------------+-----+----------------------+\n",
      "| SkinThickness(7-15)  | ... | 0.024999999999999998 |\n",
      "+----------------------+-----+----------------------+ \n",
      "\n",
      "CPT of BloodPressure:\n",
      "+------------------------+-----+------------------------+\n",
      "| BMI                    | ... | BMI(30+)               |\n",
      "+------------------------+-----+------------------------+\n",
      "| Glucose                | ... | Glucose(70-100)        |\n",
      "+------------------------+-----+------------------------+\n",
      "| Insulin                | ... | Insulin(50-120)        |\n",
      "+------------------------+-----+------------------------+\n",
      "| BloodPressure(100-110) | ... | 0.00033003300330033004 |\n",
      "+------------------------+-----+------------------------+\n",
      "| BloodPressure(30-60)   | ... | 0.2248844884488449     |\n",
      "+------------------------+-----+------------------------+\n",
      "| BloodPressure(60-80)   | ... | 0.6490429042904291     |\n",
      "+------------------------+-----+------------------------+\n",
      "| BloodPressure(80-85)   | ... | 0.025280528052805284   |\n",
      "+------------------------+-----+------------------------+\n",
      "| BloodPressure(85-90)   | ... | 0.07518151815181519    |\n",
      "+------------------------+-----+------------------------+\n",
      "| BloodPressure(90-100)  | ... | 0.025280528052805284   |\n",
      "+------------------------+-----+------------------------+ \n",
      "\n",
      "CPT of Glucose:\n",
      "+------------------+---------------------+---------------------+\n",
      "| Diabetes         | Diabetes(0)         | Diabetes(1)         |\n",
      "+------------------+---------------------+---------------------+\n",
      "| Glucose(100-140) | 0.47517730496453897 | 0.38904363974001854 |\n",
      "+------------------+---------------------+---------------------+\n",
      "| Glucose(140-200) | 0.13862024500322373 | 0.5171773444753945  |\n",
      "+------------------+---------------------+---------------------+\n",
      "| Glucose(70-100)  | 0.38620245003223724 | 0.0937790157845868  |\n",
      "+------------------+---------------------+---------------------+ \n",
      "\n",
      "CPT of Insulin:\n",
      "+------------------+-----------------------+----------------------+\n",
      "| Diabetes         | Diabetes(0)           | Diabetes(1)          |\n",
      "+------------------+-----------------------+----------------------+\n",
      "| Insulin(0-5)     | 0.0013815971262779775 | 0.26382809391165934  |\n",
      "+------------------+-----------------------+----------------------+\n",
      "| Insulin(120-150) | 0.10196186791931473   | 0.1301233585356148   |\n",
      "+------------------+-----------------------+----------------------+\n",
      "| Insulin(150-250) | 0.1831997789444598    | 0.28054118583366494  |\n",
      "+------------------+-----------------------+----------------------+\n",
      "| Insulin(25-50)   | 0.10196186791931473   | 0.01870274572224433  |\n",
      "+------------------+-----------------------+----------------------+\n",
      "| Insulin(250+)    | 0.10583033987289307   | 0.16354954237962596  |\n",
      "+------------------+-----------------------+----------------------+\n",
      "| Insulin(5-25)    | 0.02072395689416966   | 0.007560684440907283 |\n",
      "+------------------+-----------------------+----------------------+\n",
      "| Insulin(50-120)  | 0.48494059132357004   | 0.13569438917628332  |\n",
      "+------------------+-----------------------+----------------------+ \n",
      "\n"
     ]
    }
   ],
   "source": [
    "model.cpds = []\n",
    "model.fit(data=df, estimator=BayesianEstimator, prior_type=\"BDeu\")\n",
    "\n",
    "for cpd in model.get_cpds():\n",
    "    print(f'CPT of {cpd.variable}:')\n",
    "    print(cpd, '\\n')\n",
    "model.cpds = []\n",
    "model.fit(data=df, estimator=BayesianEstimator, prior_type=\"BDeu\")\n",
    "\n",
    "for cpd in model.get_cpds():\n",
    "    print(f'CPT of {cpd.variable}:')\n",
    "    print(cpd, '\\n')"
   ]
  },
  {
   "cell_type": "code",
   "execution_count": null,
   "metadata": {},
   "outputs": [],
   "source": [
    "# Checking the validity of the model \n",
    "# This method checks if the sum of the probabilities for each state is equal to 1 (tol=0.01) and if the CPDs associated with nodes are consistent with their parents.\n",
    "model.check_model()"
   ]
  },
  {
   "cell_type": "code",
   "execution_count": null,
   "metadata": {},
   "outputs": [],
   "source": [
    "#Cardinality of all model nodes\n",
    "model.get_cardinality()"
   ]
  },
  {
   "cell_type": "markdown",
   "metadata": {},
   "source": [
    "## Inferences\n",
    "\n",
    "Pgmpy allows to develop both exact and approximate inference on the Bayesian Network, in particular in this section both are presented exploring a variety of different methods related."
   ]
  },
  {
   "cell_type": "markdown",
   "metadata": {},
   "source": [
    "### Exact inference\n",
    "\n",
    "Exact Inference in pgmpy is implemented through the Variable Elimination Method and Belief Propagation rather than with simple enumeration; being one of the purpouses of this work exploring topics seen in class, the former is choosen.\n"
   ]
  },
  {
   "cell_type": "code",
   "execution_count": 70,
   "metadata": {},
   "outputs": [],
   "source": [
    "from pgmpy.inference import VariableElimination\n",
    "infer = VariableElimination(model)"
   ]
  },
  {
   "cell_type": "code",
   "execution_count": null,
   "metadata": {},
   "outputs": [],
   "source": [
    "#Causal inference (prediction): probability that the patient has diabetes given her number of pregnancies\n",
    "print('Probability of having diabetes with 0 to 3 pregnancies:')\n",
    "print(infer.query([\"Diabetes\"],evidence={\"Pregnancies\": '0-3'}))\n",
    "\n",
    "print('Probability of having diabetes with more than 11 pregnancies:')\n",
    "print(infer.query([\"Diabetes\"],evidence={\"Pregnancies\": '11+'}))"
   ]
  },
  {
   "cell_type": "code",
   "execution_count": 77,
   "metadata": {},
   "outputs": [
    {
     "name": "stdout",
     "output_type": "stream",
     "text": [
      "+-------------+-----------------+\n",
      "| Diabetes    |   phi(Diabetes) |\n",
      "+=============+=================+\n",
      "| Diabetes(0) |          0.4847 |\n",
      "+-------------+-----------------+\n",
      "| Diabetes(1) |          0.5153 |\n",
      "+-------------+-----------------+\n"
     ]
    }
   ],
   "source": [
    "#Evidential inference (explanation): probability of having diabetes given that the patient has very high insulin level\n",
    "#TODO add evidence of insulin = 0\n",
    "print(infer.query([\"Diabetes\"],evidence={\"Insulin\": '250+'}))"
   ]
  },
  {
   "cell_type": "code",
   "execution_count": null,
   "metadata": {},
   "outputs": [],
   "source": [
    "#Intercausal inference (explaining away): why she has high blood pressure given the fact that she hasn't diabetes\n",
    "print(infer.query([\"BMI\"],evidence={\"BloodPressure\": '100-110' , \"Diabetes\": 0}))"
   ]
  },
  {
   "cell_type": "markdown",
   "metadata": {},
   "source": [
    "Maximum a posteriori (MAP) queries find the most probable configuration (called MAP configuration) of some specific variables of interest (also called MAP variable), given observations of some evidence variables.\n",
    "The result of MAP queries is (in case of discrete random variables) a single value rather than a probability which encodes the instantiation of the MAP variable with higher probability given the evidence."
   ]
  },
  {
   "cell_type": "code",
   "execution_count": null,
   "metadata": {},
   "outputs": [],
   "source": [
    "#Infer MAP queries\n",
    "print(infer.map_query([\"Insulin\"]))\n",
    "print(infer.map_query([\"Insulin\"], evidence={'Glucose': '70-100'}))\n",
    "print(infer.map_query([\"Insulin\"], evidence={'Diabetes': 1}))"
   ]
  },
  {
   "cell_type": "markdown",
   "metadata": {},
   "source": [
    "## Approximate Inference"
   ]
  },
  {
   "cell_type": "code",
   "execution_count": null,
   "metadata": {},
   "outputs": [],
   "source": [
    "from pgmpy.inference import ApproxInference\n",
    "from pgmpy.sampling import BayesianModelSampling"
   ]
  },
  {
   "cell_type": "code",
   "execution_count": null,
   "metadata": {},
   "outputs": [],
   "source": [
    "infer = ApproxInference(model)\n",
    "inference = BayesianModelSampling(model)"
   ]
  },
  {
   "cell_type": "code",
   "execution_count": null,
   "metadata": {},
   "outputs": [],
   "source": [
    "# Sampling from an empty network\n",
    "print(infer.query(variables=[\"Diabetes\"], n_samples=100)) "
   ]
  },
  {
   "cell_type": "code",
   "execution_count": null,
   "metadata": {},
   "outputs": [],
   "source": [
    "# Showing the convergence increasing number of samples\n",
    "print(infer.query(variables=[\"BloodPressure\"], n_samples=10)) #approximate probability with a low number of samples\n",
    "\n",
    "print(infer.query(variables=[\"BloodPressure\"], n_samples=10000)) #approximate probability with an high number of samples\n",
    "\n",
    "print(VariableElimination(model).query([\"BloodPressure\"]))      #true probability"
   ]
  },
  {
   "cell_type": "code",
   "execution_count": null,
   "metadata": {},
   "outputs": [],
   "source": [
    "print(infer.query(variables=[\"Diabetes\"], n_samples=10)) #approximate probability with a low number of samples\n",
    "\n",
    "print(infer.query(variables=[\"Diabetes\"], n_samples=100)) #approximate probability with a medium number of samples\n",
    "\n",
    "print(infer.query(variables=[\"Diabetes\"], n_samples=10000)) #approximate probability with an high number of samples\n",
    "\n",
    "print('True probability:')\n",
    "print(VariableElimination(model).query([\"Diabetes\"]))      #true probability"
   ]
  },
  {
   "cell_type": "markdown",
   "metadata": {},
   "source": [
    "We can observe that with a small number of samples we don't even find all the possible events for BloodPressure."
   ]
  },
  {
   "cell_type": "code",
   "execution_count": null,
   "metadata": {},
   "outputs": [],
   "source": [
    "# Likelihood weighting\n",
    "#let's see the results of a sampling process\n",
    "print(inference.likelihood_weighted_sample( size=10)) #size: number of samples\n"
   ]
  },
  {
   "cell_type": "code",
   "execution_count": null,
   "metadata": {},
   "outputs": [],
   "source": [
    "# We observe the distribution obtained to derive the approx probabilities\n",
    "print(infer.get_distribution(inference.likelihood_weighted_sample( size=1000), [\"Diabetes\"], joint=True))"
   ]
  },
  {
   "cell_type": "code",
   "execution_count": null,
   "metadata": {},
   "outputs": [],
   "source": [
    "# Rejection sampling\n",
    "print(infer.get_distribution(inference.rejection_sample( size=1000), [\"Diabetes\"]))"
   ]
  },
  {
   "cell_type": "markdown",
   "metadata": {},
   "source": [
    "We observe that, given the same number of samples, sampling from an empty network, likelihood weighting and rejection sampling give us different results. This was expected as we would need more samples to reach convergence for all theese three methods."
   ]
  },
  {
   "cell_type": "markdown",
   "metadata": {},
   "source": [
    "# Conclusions\n",
    "\n",
    "Now that we have explored some functionalities of pgmpy to deal with our network we will explore our model to see if we can get some useful insights about diabetes and the related fetures from what the model has learned using the provided dataset."
   ]
  },
  {
   "cell_type": "markdown",
   "metadata": {},
   "source": []
  }
 ],
 "metadata": {
  "kernelspec": {
   "display_name": "Python 3.9.10 ('ML4downsyndrome-D1DocbTt')",
   "language": "python",
   "name": "python3"
  },
  "language_info": {
   "codemirror_mode": {
    "name": "ipython",
    "version": 3
   },
   "file_extension": ".py",
   "mimetype": "text/x-python",
   "name": "python",
   "nbconvert_exporter": "python",
   "pygments_lexer": "ipython3",
   "version": "3.9.10"
  },
  "orig_nbformat": 4,
  "vscode": {
   "interpreter": {
    "hash": "e765655f724514810ca5f5619b481f72aea2afcac92a9986adb907bce56ced13"
   }
  }
 },
 "nbformat": 4,
 "nbformat_minor": 2
}
