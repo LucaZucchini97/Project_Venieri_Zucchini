{
 "cells": [
  {
   "cell_type": "markdown",
   "metadata": {},
   "source": [
    "# FAIKR module 3 project\n",
    "\n",
    "#Lorenzo Venieri\n",
    "#Luca Zucchini"
   ]
  },
  {
   "cell_type": "markdown",
   "metadata": {},
   "source": [
    "## Introduction\n",
    "\n",
    "...."
   ]
  },
  {
   "cell_type": "markdown",
   "metadata": {},
   "source": [
    "TODO:\n",
    "-Aggiungere funzione per trovare correlazione tra features\n",
    "-Considerare il fatto che il diabete causa durezza della pella, ma quest'ultima non è direttamente causa di diabete (=> != <=>)+\n",
    "-Piccola spiegazione del ragionamento dietro le correlazioni NON trovate\n",
    "-Fattore di rischio\n",
    "-\n"
   ]
  },
  {
   "cell_type": "code",
   "execution_count": null,
   "metadata": {},
   "outputs": [],
   "source": [
    "!pip install pgmpy"
   ]
  },
  {
   "cell_type": "markdown",
   "metadata": {},
   "source": [
    "#prva"
   ]
  },
  {
   "cell_type": "markdown",
   "metadata": {},
   "source": [
    "## Dataset\n",
    "\n",
    "768 rows, 9 columns\n",
    "\n",
    "This dataset is originally from the National Institute of Diabetes and Digestive and Kidney\n",
    "Diseases. The objective of the dataset is to diagnostically predict whether a patient has diabetes,\n",
    "based on certain diagnostic measurements included in the dataset. Several constraints were placed\n",
    "on the selection of these instances from a larger database. In particular, all patients here are females\n",
    "at least 21 years old of Pima Indian heritage.2\n",
    "From the data set in the (.csv) File We can find several variables, some of them are independent\n",
    "(several medical predictor variables) and only one target dependent variable (Outcome)."
   ]
  },
  {
   "cell_type": "code",
   "execution_count": 15,
   "metadata": {},
   "outputs": [
    {
     "data": {
      "text/html": [
       "<div>\n",
       "<style scoped>\n",
       "    .dataframe tbody tr th:only-of-type {\n",
       "        vertical-align: middle;\n",
       "    }\n",
       "\n",
       "    .dataframe tbody tr th {\n",
       "        vertical-align: top;\n",
       "    }\n",
       "\n",
       "    .dataframe thead th {\n",
       "        text-align: right;\n",
       "    }\n",
       "</style>\n",
       "<table border=\"1\" class=\"dataframe\">\n",
       "  <thead>\n",
       "    <tr style=\"text-align: right;\">\n",
       "      <th></th>\n",
       "      <th>Pregnancies</th>\n",
       "      <th>Glucose</th>\n",
       "      <th>BloodPressure</th>\n",
       "      <th>SkinThickness</th>\n",
       "      <th>Insulin</th>\n",
       "      <th>BMI</th>\n",
       "      <th>DiabetesPedigreeFunction</th>\n",
       "      <th>Age</th>\n",
       "      <th>Outcome</th>\n",
       "    </tr>\n",
       "  </thead>\n",
       "  <tbody>\n",
       "    <tr>\n",
       "      <th>0</th>\n",
       "      <td>6</td>\n",
       "      <td>148</td>\n",
       "      <td>72</td>\n",
       "      <td>35</td>\n",
       "      <td>0</td>\n",
       "      <td>33.6</td>\n",
       "      <td>0.627</td>\n",
       "      <td>50</td>\n",
       "      <td>1</td>\n",
       "    </tr>\n",
       "    <tr>\n",
       "      <th>1</th>\n",
       "      <td>1</td>\n",
       "      <td>85</td>\n",
       "      <td>66</td>\n",
       "      <td>29</td>\n",
       "      <td>0</td>\n",
       "      <td>26.6</td>\n",
       "      <td>0.351</td>\n",
       "      <td>31</td>\n",
       "      <td>0</td>\n",
       "    </tr>\n",
       "    <tr>\n",
       "      <th>2</th>\n",
       "      <td>8</td>\n",
       "      <td>183</td>\n",
       "      <td>64</td>\n",
       "      <td>0</td>\n",
       "      <td>0</td>\n",
       "      <td>23.3</td>\n",
       "      <td>0.672</td>\n",
       "      <td>32</td>\n",
       "      <td>1</td>\n",
       "    </tr>\n",
       "    <tr>\n",
       "      <th>3</th>\n",
       "      <td>1</td>\n",
       "      <td>89</td>\n",
       "      <td>66</td>\n",
       "      <td>23</td>\n",
       "      <td>94</td>\n",
       "      <td>28.1</td>\n",
       "      <td>0.167</td>\n",
       "      <td>21</td>\n",
       "      <td>0</td>\n",
       "    </tr>\n",
       "    <tr>\n",
       "      <th>4</th>\n",
       "      <td>0</td>\n",
       "      <td>137</td>\n",
       "      <td>40</td>\n",
       "      <td>35</td>\n",
       "      <td>168</td>\n",
       "      <td>43.1</td>\n",
       "      <td>2.288</td>\n",
       "      <td>33</td>\n",
       "      <td>1</td>\n",
       "    </tr>\n",
       "  </tbody>\n",
       "</table>\n",
       "</div>"
      ],
      "text/plain": [
       "   Pregnancies  Glucose  BloodPressure  SkinThickness  Insulin   BMI  \\\n",
       "0            6      148             72             35        0  33.6   \n",
       "1            1       85             66             29        0  26.6   \n",
       "2            8      183             64              0        0  23.3   \n",
       "3            1       89             66             23       94  28.1   \n",
       "4            0      137             40             35      168  43.1   \n",
       "\n",
       "   DiabetesPedigreeFunction  Age  Outcome  \n",
       "0                     0.627   50        1  \n",
       "1                     0.351   31        0  \n",
       "2                     0.672   32        1  \n",
       "3                     0.167   21        0  \n",
       "4                     2.288   33        1  "
      ]
     },
     "execution_count": 15,
     "metadata": {},
     "output_type": "execute_result"
    }
   ],
   "source": [
    "import pandas as pd\n",
    "import numpy as np\n",
    "\n",
    "df_raw = pd.read_csv(\"data/diabetes.csv\")\n",
    "df_raw.head()"
   ]
  },
  {
   "cell_type": "code",
   "execution_count": null,
   "metadata": {},
   "outputs": [],
   "source": [
    "df_raw.corr()"
   ]
  },
  {
   "cell_type": "code",
   "execution_count": 5,
   "metadata": {},
   "outputs": [
    {
     "data": {
      "text/plain": [
       "array([ 6,  1,  8,  0,  5,  3, 10,  2,  4,  7,  9, 11, 13, 15, 17, 12, 14],\n",
       "      dtype=int64)"
      ]
     },
     "execution_count": 5,
     "metadata": {},
     "output_type": "execute_result"
    }
   ],
   "source": [
    "df_raw[\"Pregnancies\"].unique()"
   ]
  },
  {
   "cell_type": "code",
   "execution_count": 6,
   "metadata": {},
   "outputs": [
    {
     "data": {
      "text/plain": [
       "Index(['Pregnancies', 'Glucose', 'BloodPressure', 'SkinThickness', 'Insulin',\n",
       "       'BMI', 'DiabetesPedigreeFunction', 'Age', 'Outcome'],\n",
       "      dtype='object')"
      ]
     },
     "execution_count": 6,
     "metadata": {},
     "output_type": "execute_result"
    }
   ],
   "source": [
    "df_raw.columns"
   ]
  },
  {
   "cell_type": "code",
   "execution_count": 14,
   "metadata": {},
   "outputs": [
    {
     "name": "stdout",
     "output_type": "stream",
     "text": [
      "valori di  Pregnancies\n",
      "[ 0  1  2  3  4  5  6  7  8  9 10 11 12 13 14 15 17]\n",
      "----------------------\n",
      "valori di  Glucose\n",
      "[  0  44  56  57  61  62  65  67  68  71  72  73  74  75  76  77  78  79\n",
      "  80  81  82  83  84  85  86  87  88  89  90  91  92  93  94  95  96  97\n",
      "  98  99 100 101 102 103 104 105 106 107 108 109 110 111 112 113 114 115\n",
      " 116 117 118 119 120 121 122 123 124 125 126 127 128 129 130 131 132 133\n",
      " 134 135 136 137 138 139 140 141 142 143 144 145 146 147 148 149 150 151\n",
      " 152 153 154 155 156 157 158 159 160 161 162 163 164 165 166 167 168 169\n",
      " 170 171 172 173 174 175 176 177 178 179 180 181 182 183 184 186 187 188\n",
      " 189 190 191 193 194 195 196 197 198 199]\n",
      "----------------------\n",
      "valori di  BloodPressure\n",
      "[  0  24  30  38  40  44  46  48  50  52  54  55  56  58  60  61  62  64\n",
      "  65  66  68  70  72  74  75  76  78  80  82  84  85  86  88  90  92  94\n",
      "  95  96  98 100 102 104 106 108 110 114 122]\n",
      "----------------------\n",
      "valori di  SkinThickness\n",
      "[ 0  7  8 10 11 12 13 14 15 16 17 18 19 20 21 22 23 24 25 26 27 28 29 30\n",
      " 31 32 33 34 35 36 37 38 39 40 41 42 43 44 45 46 47 48 49 50 51 52 54 56\n",
      " 60 63 99]\n",
      "----------------------\n",
      "valori di  Insulin\n",
      "[  0  14  15  16  18  22  23  25  29  32  36  37  38  40  41  42  43  44\n",
      "  45  46  48  49  50  51  52  53  54  55  56  57  58  59  60  61  63  64\n",
      "  65  66  67  68  70  71  72  73  74  75  76  77  78  79  81  82  83  84\n",
      "  85  86  87  88  89  90  91  92  94  95  96  99 100 105 106 108 110 112\n",
      " 114 115 116 119 120 122 125 126 127 128 129 130 132 135 140 142 144 145\n",
      " 146 148 150 152 155 156 158 159 160 165 166 167 168 170 171 175 176 178\n",
      " 180 182 183 184 185 188 190 191 192 193 194 196 200 204 205 207 210 215\n",
      " 220 225 228 230 231 235 237 240 245 249 250 255 258 265 270 271 272 274\n",
      " 275 277 278 280 284 285 291 293 300 304 310 318 321 325 326 328 330 335\n",
      " 342 360 370 375 387 392 402 415 440 465 474 478 480 485 495 510 540 543\n",
      " 545 579 600 680 744 846]\n",
      "----------------------\n",
      "valori di  BMI\n",
      "[ 0.  18.2 18.4 19.1 19.3 19.4 19.5 19.6 19.9 20.  20.1 20.4 20.8 21.\n",
      " 21.1 21.2 21.7 21.8 21.9 22.1 22.2 22.3 22.4 22.5 22.6 22.7 22.9 23.\n",
      " 23.1 23.2 23.3 23.4 23.5 23.6 23.7 23.8 23.9 24.  24.1 24.2 24.3 24.4\n",
      " 24.5 24.6 24.7 24.8 24.9 25.  25.1 25.2 25.3 25.4 25.5 25.6 25.8 25.9\n",
      " 26.  26.1 26.2 26.3 26.4 26.5 26.6 26.7 26.8 26.9 27.  27.1 27.2 27.3\n",
      " 27.4 27.5 27.6 27.7 27.8 27.9 28.  28.1 28.2 28.3 28.4 28.5 28.6 28.7\n",
      " 28.8 28.9 29.  29.2 29.3 29.5 29.6 29.7 29.8 29.9 30.  30.1 30.2 30.3\n",
      " 30.4 30.5 30.7 30.8 30.9 31.  31.1 31.2 31.3 31.6 31.9 32.  32.1 32.2\n",
      " 32.3 32.4 32.5 32.6 32.7 32.8 32.9 33.1 33.2 33.3 33.5 33.6 33.7 33.8\n",
      " 33.9 34.  34.1 34.2 34.3 34.4 34.5 34.6 34.7 34.8 34.9 35.  35.1 35.2\n",
      " 35.3 35.4 35.5 35.6 35.7 35.8 35.9 36.  36.1 36.2 36.3 36.4 36.5 36.6\n",
      " 36.7 36.8 36.9 37.  37.1 37.2 37.3 37.4 37.5 37.6 37.7 37.8 37.9 38.\n",
      " 38.1 38.2 38.3 38.4 38.5 38.6 38.7 38.8 38.9 39.  39.1 39.2 39.3 39.4\n",
      " 39.5 39.6 39.7 39.8 39.9 40.  40.1 40.2 40.5 40.6 40.7 40.8 40.9 41.\n",
      " 41.2 41.3 41.5 41.8 42.  42.1 42.2 42.3 42.4 42.6 42.7 42.8 42.9 43.1\n",
      " 43.2 43.3 43.4 43.5 43.6 44.  44.1 44.2 44.5 44.6 45.  45.2 45.3 45.4\n",
      " 45.5 45.6 45.7 45.8 46.1 46.2 46.3 46.5 46.7 46.8 47.9 48.3 48.8 49.3\n",
      " 49.6 49.7 50.  52.3 52.9 53.2 55.  57.3 59.4 67.1]\n",
      "----------------------\n",
      "valori di  DiabetesPedigreeFunction\n",
      "[0.078 0.084 0.085 0.088 0.089 0.092 0.096 0.1   0.101 0.102 0.107 0.108\n",
      " 0.115 0.118 0.121 0.122 0.123 0.126 0.127 0.128 0.129 0.13  0.133 0.134\n",
      " 0.135 0.136 0.137 0.138 0.14  0.141 0.142 0.143 0.144 0.145 0.147 0.148\n",
      " 0.149 0.15  0.151 0.153 0.154 0.155 0.156 0.157 0.158 0.159 0.16  0.161\n",
      " 0.162 0.163 0.164 0.165 0.166 0.167 0.17  0.171 0.173 0.174 0.175 0.176\n",
      " 0.177 0.178 0.179 0.18  0.181 0.182 0.183 0.186 0.187 0.188 0.189 0.19\n",
      " 0.191 0.192 0.194 0.196 0.197 0.198 0.199 0.2   0.201 0.203 0.204 0.205\n",
      " 0.206 0.207 0.209 0.21  0.212 0.215 0.217 0.218 0.219 0.22  0.221 0.222\n",
      " 0.223 0.225 0.226 0.227 0.229 0.23  0.231 0.232 0.233 0.234 0.235 0.236\n",
      " 0.237 0.238 0.239 0.24  0.241 0.243 0.244 0.245 0.246 0.247 0.248 0.249\n",
      " 0.251 0.252 0.253 0.254 0.255 0.256 0.257 0.258 0.259 0.26  0.261 0.262\n",
      " 0.263 0.264 0.265 0.267 0.268 0.269 0.27  0.271 0.272 0.277 0.278 0.279\n",
      " 0.28  0.282 0.283 0.284 0.285 0.286 0.287 0.289 0.29  0.292 0.293 0.294\n",
      " 0.295 0.296 0.297 0.299 0.3   0.302 0.303 0.304 0.305 0.306 0.307 0.313\n",
      " 0.314 0.315 0.317 0.318 0.319 0.323 0.324 0.325 0.326 0.328 0.329 0.33\n",
      " 0.331 0.332 0.334 0.335 0.336 0.337 0.338 0.34  0.341 0.342 0.343 0.344\n",
      " 0.345 0.346 0.347 0.349 0.351 0.352 0.355 0.356 0.358 0.361 0.362 0.364\n",
      " 0.365 0.366 0.368 0.37  0.371 0.374 0.375 0.376 0.378 0.38  0.381 0.382\n",
      " 0.383 0.385 0.388 0.389 0.391 0.393 0.394 0.395 0.396 0.398 0.399 0.4\n",
      " 0.401 0.402 0.403 0.404 0.407 0.408 0.409 0.411 0.412 0.415 0.416 0.417\n",
      " 0.419 0.42  0.421 0.422 0.423 0.426 0.427 0.43  0.431 0.432 0.433 0.434\n",
      " 0.435 0.439 0.441 0.443 0.444 0.446 0.447 0.451 0.452 0.453 0.454 0.455\n",
      " 0.457 0.46  0.463 0.464 0.465 0.466 0.467 0.471 0.472 0.479 0.482 0.483\n",
      " 0.484 0.485 0.487 0.488 0.491 0.493 0.495 0.496 0.497 0.498 0.499 0.501\n",
      " 0.502 0.503 0.507 0.509 0.51  0.512 0.514 0.515 0.516 0.52  0.525 0.526\n",
      " 0.527 0.528 0.529 0.532 0.534 0.536 0.537 0.539 0.542 0.543 0.545 0.546\n",
      " 0.547 0.549 0.551 0.554 0.557 0.559 0.56  0.561 0.564 0.565 0.569 0.571\n",
      " 0.572 0.575 0.578 0.58  0.582 0.583 0.586 0.587 0.588 0.591 0.593 0.595\n",
      " 0.597 0.598 0.6   0.601 0.605 0.607 0.61  0.612 0.613 0.614 0.615 0.619\n",
      " 0.624 0.626 0.627 0.629 0.63  0.631 0.637 0.64  0.645 0.646 0.647 0.649\n",
      " 0.652 0.654 0.655 0.658 0.66  0.661 0.665 0.666 0.672 0.673 0.674 0.677\n",
      " 0.678 0.68  0.682 0.686 0.687 0.692 0.693 0.695 0.696 0.698 0.699 0.702\n",
      " 0.703 0.704 0.705 0.709 0.711 0.717 0.718 0.719 0.721 0.722 0.725 0.727\n",
      " 0.73  0.731 0.732 0.733 0.734 0.735 0.738 0.741 0.742 0.743 0.744 0.745\n",
      " 0.748 0.757 0.759 0.761 0.766 0.767 0.771 0.773 0.785 0.787 0.801 0.803\n",
      " 0.804 0.805 0.808 0.813 0.816 0.817 0.821 0.825 0.826 0.828 0.831 0.832\n",
      " 0.833 0.839 0.84  0.845 0.851 0.855 0.856 0.867 0.871 0.874 0.875 0.878\n",
      " 0.88  0.881 0.886 0.892 0.893 0.904 0.905 0.917 0.925 0.926 0.93  0.932\n",
      " 0.933 0.944 0.947 0.949 0.955 0.956 0.962 0.966 0.968 0.97  0.997 1.001\n",
      " 1.021 1.022 1.034 1.057 1.072 1.076 1.095 1.096 1.101 1.114 1.127 1.136\n",
      " 1.138 1.144 1.154 1.159 1.162 1.174 1.182 1.189 1.191 1.213 1.222 1.224\n",
      " 1.251 1.258 1.268 1.282 1.292 1.318 1.321 1.353 1.39  1.391 1.394 1.4\n",
      " 1.441 1.461 1.476 1.6   1.698 1.699 1.731 1.781 1.893 2.137 2.288 2.329\n",
      " 2.42 ]\n",
      "----------------------\n",
      "valori di  Age\n",
      "[21 22 23 24 25 26 27 28 29 30 31 32 33 34 35 36 37 38 39 40 41 42 43 44\n",
      " 45 46 47 48 49 50 51 52 53 54 55 56 57 58 59 60 61 62 63 64 65 66 67 68\n",
      " 69 70 72 81]\n",
      "----------------------\n",
      "valori di  Outcome\n",
      "[0 1]\n",
      "----------------------\n"
     ]
    }
   ],
   "source": [
    "for item in df_raw.columns:\n",
    "    print(\"valori di \",item)\n",
    "    temp = df_raw[item].unique()\n",
    "    temp.sort()\n",
    "    #print(df_raw[item].unique())\n",
    "    print(temp)\n",
    "    print(\"----------------------\")\n",
    "    #\n",
    "    #chiedere a Sten dei bin sensati per questi valori"
   ]
  },
  {
   "cell_type": "markdown",
   "metadata": {},
   "source": [
    "### Data Preprocessing\n",
    "\n",
    "Togliamo il numero di gravidanze e discretiziamo quello da discretizzare"
   ]
  },
  {
   "cell_type": "code",
   "execution_count": null,
   "metadata": {},
   "outputs": [],
   "source": [
    "#Printing the min and max values of age in order to better discretize the age parameter\n",
    "print('Age range is: ', np.min(df_raw['Age']), ' - ', np.max(df_raw['Age']))"
   ]
  },
  {
   "cell_type": "markdown",
   "metadata": {},
   "source": [
    "## Network\n"
   ]
  },
  {
   "cell_type": "markdown",
   "metadata": {},
   "source": [
    "\"In this chapter both the structure of the network, created from scratch by analyzing scientific papers related to the topic, and the parameter learning process are taken into account.\n",
    "\n",
    "In particular, a variety of methods related to the analysis of Bayesian Networks are explored.\""
   ]
  },
  {
   "cell_type": "markdown",
   "metadata": {},
   "source": [
    "### Showing the network\n",
    "\n",
    "A graphical preliminary overview of the network is shown using the visual library of pgmpy, the acronyms related to dataset attributes are the followings:\n",
    "\n",
    "...\n"
   ]
  },
  {
   "cell_type": "code",
   "execution_count": null,
   "metadata": {},
   "outputs": [],
   "source": [
    "!pip install daft"
   ]
  },
  {
   "cell_type": "code",
   "execution_count": null,
   "metadata": {},
   "outputs": [],
   "source": [
    "import daft\n",
    "import matplotlib.pyplot as plt\n",
    "from daft import PGM\n",
    "\n",
    "pgm = PGM(shape=[6, 7])\n",
    "\n",
    "pgm.add_node(daft.Node('Gen', r\"Gen\", 2, 6))\n",
    "pgm.add_node(daft.Node('Age', r\"Age\", 1, 6))\n",
    "pgm.add_node(daft.Node('CPK', r\"CPK\", 3, 6))\n",
    "pgm.add_node(daft.Node('Smo', r\"Smo\", 4, 6))\n",
    "pgm.add_node(daft.Node('Sod', r\"Sod\", 5, 6))\n",
    "\n",
    "\n",
    "pgm.add_node(daft.Node('Ana', r\"Ana\", 2, 5))\n",
    "\n",
    "pgm.add_node(daft.Node('Dia', r\"Dia\", 1, 3))\n",
    "pgm.add_node(daft.Node('Blo', r\"Blo\", 3, 3))\n",
    "\n",
    "pgm.add_node(daft.Node('Fai', r\"Fai\", 3, 2))\n",
    "\n",
    "pgm.add_node(daft.Node('Eje', r\"Eje\", 2, 1))\n",
    "pgm.add_node(daft.Node('Pla', r\"Pla\", 4, 1))\n",
    "\n",
    "pgm.add_edge('Gen', 'CPK')\n",
    "pgm.add_edge('Gen', 'Dia')\n",
    "pgm.add_edge('Age', 'Dia')\n",
    "pgm.add_edge('Age', 'Ana')\n",
    "pgm.add_edge('Gen', 'Ana')\n",
    "pgm.add_edge('Dia', 'Blo')\n",
    "pgm.add_edge('CPK', 'Blo')\n",
    "pgm.add_edge('Ana', 'Blo')\n",
    "pgm.add_edge('Smo', 'Blo')\n",
    "pgm.add_edge('Sod', 'Blo')\n",
    "pgm.add_edge('Blo', 'Fai')\n",
    "pgm.add_edge('Dia', 'Fai')\n",
    "pgm.add_edge('Fai', 'Eje')\n",
    "pgm.add_edge('Fai', 'Pla')\n",
    "\n",
    "pgm.render()\n",
    "plt.show()\n"
   ]
  },
  {
   "cell_type": "markdown",
   "metadata": {},
   "source": [
    "Examples of connections between nodes (e.g. direct cause, causal trail) refering to this specific Network are here shown:\n",
    "\n",
    "#Direct cause\n",
    "\n",
    "#Causal trail\n",
    "\n",
    "#Common effect"
   ]
  },
  {
   "cell_type": "markdown",
   "metadata": {},
   "source": [
    "## Creating the network\n",
    "\n",
    "Connections between nodes have been implemented from scratch refering to a variety of scientific medical sources. Being the causal links in the medical field particularly challenging to model (i.e. often a huge variety of attributes are interlaced, causing directly or indirectly effects on each others) in this work only links that have been considered particularly relevant were defined.\n",
    "\n",
    "Some of the connections are here explained and referenced:\n"
   ]
  },
  {
   "cell_type": "code",
   "execution_count": null,
   "metadata": {},
   "outputs": [],
   "source": [
    "from pgmpy.models import BayesianModel\n",
    "\n",
    "..."
   ]
  },
  {
   "cell_type": "markdown",
   "metadata": {},
   "source": [
    "###Analyzing the network\n",
    "\n",
    "Follows a series of experiments done on the network by applying a variety of methods provided by the pgmpy library in order to see in practice all the concepts addressed during the course."
   ]
  },
  {
   "cell_type": "code",
   "execution_count": null,
   "metadata": {},
   "outputs": [],
   "source": [
    "# Showing all the nodes of the model\n",
    "model.nodes()"
   ]
  },
  {
   "cell_type": "code",
   "execution_count": null,
   "metadata": {},
   "outputs": [],
   "source": [
    "# Showing all the edges of the model\n",
    "model.edges()"
   ]
  },
  {
   "cell_type": "code",
   "execution_count": null,
   "metadata": {},
   "outputs": [],
   "source": [
    "# Local independecies of a single node\n",
    "model.local_independencies(\"high_blood_pressure\")"
   ]
  },
  {
   "cell_type": "code",
   "execution_count": null,
   "metadata": {},
   "outputs": [],
   "source": [
    "# Checking d-separation between variables with and without evidence\n",
    "# Two sets of nodes X, Y are d-separated given Z if there is no active trail between any X ∈ X and Y ∈ Y given Z\n",
    "\n",
    "print(model.is_dconnected(\"high_blood_pressure\", \"creatinine_phosphokinase\"))\n",
    "print(model.is_dconnected(\"serum_sodium\", \"diabetes\",observed=[\"anaemia\"] ))"
   ]
  },
  {
   "cell_type": "code",
   "execution_count": null,
   "metadata": {},
   "outputs": [],
   "source": [
    "# Function is_irrelevant made from scratch by the definition of irrelevance given during the course \n",
    "\n",
    "def is_irrelevant (node1,node2,evidence):\n",
    "  if ((node2 in (model.get_ancestral_graph(node1)and model.get_ancestral_graph(evidence))) and model.is_dconnected(node1, node2,observed=evidence )):\n",
    "    print(\"The node {0} is not irrelevant with resepect to {1}, given the evidence {2}.\".format(node1, node2, evidence))\n",
    "  else:\n",
    "    print(\"The node {0} is irrelevant with resepect to {1}, given the evidence {2}\".format(node1, node2, evidence))\n",
    "\n",
    "\n",
    "is_irrelevant(\"ejection_fraction\", \"diabetes\", \"heart_failure\")"
   ]
  },
  {
   "cell_type": "code",
   "execution_count": null,
   "metadata": {},
   "outputs": [],
   "source": [
    "# Checking active trails from high blood pressure given the evidence diabetes\n",
    "model.active_trail_nodes('high_blood_pressure', observed='diabetes')"
   ]
  },
  {
   "cell_type": "code",
   "execution_count": null,
   "metadata": {},
   "outputs": [],
   "source": [
    "# Checking the markov blanket of the node heart failure\n",
    "model.get_markov_blanket(\"heart_failure\")"
   ]
  },
  {
   "cell_type": "markdown",
   "metadata": {},
   "source": [
    "### Parameter learning\n",
    "\n",
    "Learning Bayesian networks from data, knowing the structure of the network, boils down to parameter estimation. In pgmpy a variety of estimators is available, going from IVestimator to SEMestimator, but the main choice for this problem fell on two of them: Maximum Likelihood and Bayesian Estimator.\n",
    "\n",
    "MLE, which depends solely on the outcomes of observed data, could be a reasonable simple starting point, however, it is notorious for becoming easily biased when the data is minimal. Moreover, in situations where observed data is sparse, Bayesian estimation’s incorporation of prior knowledge can help in attaining a more accurate model. \n",
    "\n",
    "On the other hand, unreliable priors can lead to a slippery slope of highly biased models that require large amounts of seen data to remedy; so priors need to be well defined and contain relevant insight to the problem in order to avoid that. \n",
    "\n",
    "Taken into consideration pros and cons of both approaches, given the minimal dataset used for this work the Bayesian Estimator is choosen.\n",
    "\n",
    "Pgmpy also offer a variety of possible priors, among them a possible choice is Bayesian Dirichlet equivalent uniform prior (BDeu), choosen with its default settings (i.e. equivalent_sample_size equal to 5).\n",
    "\n",
    "In the following cell the parameter estimation process takes place and the learned CPTs are shown."
   ]
  },
  {
   "cell_type": "code",
   "execution_count": null,
   "metadata": {},
   "outputs": [],
   "source": [
    "from pgmpy.estimators import BayesianEstimator\n",
    "\n",
    "model.cpds = []\n",
    "model.fit(data=df, estimator=BayesianEstimator, prior_type=\"BDeu\")\n",
    "\n",
    "for cpd in model.get_cpds():\n",
    "    print(f'CPT of {cpd.variable}:')\n",
    "    print(cpd, '\\n')"
   ]
  },
  {
   "cell_type": "code",
   "execution_count": null,
   "metadata": {},
   "outputs": [],
   "source": [
    "# Checking the validity of the model \n",
    "# This method checks if the sum of the probabilities for each state is equal to 1 (tol=0.01) and if the CPDs associated with nodes are consistent with their parents.\n",
    "model.check_model()"
   ]
  },
  {
   "cell_type": "code",
   "execution_count": null,
   "metadata": {},
   "outputs": [],
   "source": []
  },
  {
   "cell_type": "code",
   "execution_count": null,
   "metadata": {},
   "outputs": [],
   "source": []
  }
 ],
 "metadata": {
  "kernelspec": {
   "display_name": "Python 3.7.3 64-bit",
   "language": "python",
   "name": "python3"
  },
  "language_info": {
   "codemirror_mode": {
    "name": "ipython",
    "version": 3
   },
   "file_extension": ".py",
   "mimetype": "text/x-python",
   "name": "python",
   "nbconvert_exporter": "python",
   "pygments_lexer": "ipython3",
   "version": "3.7.3"
  },
  "orig_nbformat": 4,
  "vscode": {
   "interpreter": {
    "hash": "aee8b7b246df8f9039afb4144a1f6fd8d2ca17a180786b69acc140d282b71a49"
   }
  }
 },
 "nbformat": 4,
 "nbformat_minor": 2
}
