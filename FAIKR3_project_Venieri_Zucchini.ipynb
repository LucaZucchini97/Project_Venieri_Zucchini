{
 "cells": [
  {
   "cell_type": "markdown",
   "metadata": {},
   "source": [
    "# FAIKR module 3 project\n",
    "\n",
    "#Lorenzo Venieri\n",
    "#Luca Zucchini"
   ]
  },
  {
   "cell_type": "markdown",
   "metadata": {},
   "source": [
    "## Introduction\n",
    "\n",
    "Diabetes is a serious disease affecting millions of people across the entire world. Thus, correct and timely prediction of this disease is very important due to the complications it can have in the case of other life-threatening diseases.\n",
    "\n",
    "Objective of this project..."
   ]
  },
  {
   "cell_type": "markdown",
   "metadata": {},
   "source": [
    "TODO:\n",
    "-Aggiungere funzione per trovare correlazione tra features\n",
    "-Considerare il fatto che il diabete causa durezza della pella, ma quest'ultima non è direttamente causa di diabete (=> != <=>)+\n",
    "-Piccola spiegazione del ragionamento dietro le correlazioni NON trovate\n",
    "-Fattore di rischio\n",
    "-\n"
   ]
  },
  {
   "cell_type": "code",
   "execution_count": 4,
   "metadata": {},
   "outputs": [
    {
     "name": "stdout",
     "output_type": "stream",
     "text": [
      "Requirement already satisfied: pgmpy in /Users/lorenzovenieri/.pyenv/versions/3.10.7/lib/python3.10/site-packages (0.1.20)\n",
      "Requirement already satisfied: pyparsing in /Users/lorenzovenieri/.pyenv/versions/3.10.7/lib/python3.10/site-packages (from pgmpy) (3.0.9)\n",
      "Requirement already satisfied: statsmodels in /Users/lorenzovenieri/.pyenv/versions/3.10.7/lib/python3.10/site-packages (from pgmpy) (0.13.2)\n",
      "Requirement already satisfied: pandas in /Users/lorenzovenieri/.pyenv/versions/3.10.7/lib/python3.10/site-packages (from pgmpy) (1.5.1)\n",
      "Requirement already satisfied: networkx in /Users/lorenzovenieri/.pyenv/versions/3.10.7/lib/python3.10/site-packages (from pgmpy) (2.8.7)\n",
      "Requirement already satisfied: joblib in /Users/lorenzovenieri/.pyenv/versions/3.10.7/lib/python3.10/site-packages (from pgmpy) (1.2.0)\n",
      "Requirement already satisfied: opt-einsum in /Users/lorenzovenieri/.pyenv/versions/3.10.7/lib/python3.10/site-packages (from pgmpy) (3.3.0)\n",
      "Requirement already satisfied: scikit-learn in /Users/lorenzovenieri/.pyenv/versions/3.10.7/lib/python3.10/site-packages (from pgmpy) (1.1.3)\n",
      "Requirement already satisfied: torch in /Users/lorenzovenieri/.pyenv/versions/3.10.7/lib/python3.10/site-packages (from pgmpy) (1.13.0)\n",
      "Requirement already satisfied: numpy in /Users/lorenzovenieri/.pyenv/versions/3.10.7/lib/python3.10/site-packages (from pgmpy) (1.23.4)\n",
      "Requirement already satisfied: scipy in /Users/lorenzovenieri/.pyenv/versions/3.10.7/lib/python3.10/site-packages (from pgmpy) (1.9.3)\n",
      "Requirement already satisfied: tqdm in /Users/lorenzovenieri/.pyenv/versions/3.10.7/lib/python3.10/site-packages (from pgmpy) (4.64.1)\n",
      "Requirement already satisfied: pytz>=2020.1 in /Users/lorenzovenieri/.pyenv/versions/3.10.7/lib/python3.10/site-packages (from pandas->pgmpy) (2022.5)\n",
      "Requirement already satisfied: python-dateutil>=2.8.1 in /Users/lorenzovenieri/.pyenv/versions/3.10.7/lib/python3.10/site-packages (from pandas->pgmpy) (2.8.2)\n",
      "Requirement already satisfied: threadpoolctl>=2.0.0 in /Users/lorenzovenieri/.pyenv/versions/3.10.7/lib/python3.10/site-packages (from scikit-learn->pgmpy) (3.1.0)\n",
      "Requirement already satisfied: patsy>=0.5.2 in /Users/lorenzovenieri/.pyenv/versions/3.10.7/lib/python3.10/site-packages (from statsmodels->pgmpy) (0.5.3)\n",
      "Requirement already satisfied: packaging>=21.3 in /Users/lorenzovenieri/.pyenv/versions/3.10.7/lib/python3.10/site-packages (from statsmodels->pgmpy) (21.3)\n",
      "Requirement already satisfied: typing-extensions in /Users/lorenzovenieri/.pyenv/versions/3.10.7/lib/python3.10/site-packages (from torch->pgmpy) (4.4.0)\n",
      "Requirement already satisfied: six in /Users/lorenzovenieri/.pyenv/versions/3.10.7/lib/python3.10/site-packages (from patsy>=0.5.2->statsmodels->pgmpy) (1.16.0)\n",
      "Note: you may need to restart the kernel to use updated packages.\n"
     ]
    }
   ],
   "source": [
    "%pip install pgmpy"
   ]
  },
  {
   "cell_type": "markdown",
   "metadata": {},
   "source": [
    "## Dataset\n",
    "\n",
    "768 rows, 9 columns\n",
    "\n",
    "This dataset is originally from the National Institute of Diabetes and Digestive and Kidney\n",
    "Diseases. The objective of the dataset is to diagnostically predict whether a patient has diabetes,\n",
    "based on certain diagnostic measurements included in the dataset. Several constraints were placed\n",
    "on the selection of these instances from a larger database. In particular, all patients here are females\n",
    "at least 21 years old of Pima Indian heritage.\n",
    "\n",
    "From the data set in the (.csv) File We can find several variables, some of them are independent\n",
    "(several medical predictor variables) and only one target dependent variable (Outcome).\n",
    "\n",
    "We have 9 different attributes:\n",
    "1. Pregnancies: number of pregnancies\n",
    "2. Glucose: plasma glucose concentrarion \n",
    "3. BloodPressure: diastolic blood pressure mm/Hg\n",
    "4. SkinThickness: triceps skin fold thickness (mm)\n",
    "5. Insulin: insulin in U/mL\n",
    "6. BMI: Body mass index (weight in kg/(height in m)^2)\n",
    "7. Diabetes Pedigree Function: scores likelihood of diabetes based on family history\n",
    "8. Age: age of the person (years)\n",
    "9. Outcome: patient has diabetes (0 = No, 1 = Yes)"
   ]
  },
  {
   "cell_type": "code",
   "execution_count": 78,
   "metadata": {},
   "outputs": [
    {
     "data": {
      "text/html": [
       "<div>\n",
       "<style scoped>\n",
       "    .dataframe tbody tr th:only-of-type {\n",
       "        vertical-align: middle;\n",
       "    }\n",
       "\n",
       "    .dataframe tbody tr th {\n",
       "        vertical-align: top;\n",
       "    }\n",
       "\n",
       "    .dataframe thead th {\n",
       "        text-align: right;\n",
       "    }\n",
       "</style>\n",
       "<table border=\"1\" class=\"dataframe\">\n",
       "  <thead>\n",
       "    <tr style=\"text-align: right;\">\n",
       "      <th></th>\n",
       "      <th>Pregnancies</th>\n",
       "      <th>Glucose</th>\n",
       "      <th>BloodPressure</th>\n",
       "      <th>SkinThickness</th>\n",
       "      <th>Insulin</th>\n",
       "      <th>BMI</th>\n",
       "      <th>DiabetesPedigreeFunction</th>\n",
       "      <th>Age</th>\n",
       "      <th>Outcome</th>\n",
       "    </tr>\n",
       "  </thead>\n",
       "  <tbody>\n",
       "    <tr>\n",
       "      <th>0</th>\n",
       "      <td>6</td>\n",
       "      <td>148</td>\n",
       "      <td>72</td>\n",
       "      <td>35</td>\n",
       "      <td>0</td>\n",
       "      <td>33.6</td>\n",
       "      <td>0.627</td>\n",
       "      <td>50</td>\n",
       "      <td>1</td>\n",
       "    </tr>\n",
       "    <tr>\n",
       "      <th>1</th>\n",
       "      <td>1</td>\n",
       "      <td>85</td>\n",
       "      <td>66</td>\n",
       "      <td>29</td>\n",
       "      <td>0</td>\n",
       "      <td>26.6</td>\n",
       "      <td>0.351</td>\n",
       "      <td>31</td>\n",
       "      <td>0</td>\n",
       "    </tr>\n",
       "    <tr>\n",
       "      <th>2</th>\n",
       "      <td>8</td>\n",
       "      <td>183</td>\n",
       "      <td>64</td>\n",
       "      <td>0</td>\n",
       "      <td>0</td>\n",
       "      <td>23.3</td>\n",
       "      <td>0.672</td>\n",
       "      <td>32</td>\n",
       "      <td>1</td>\n",
       "    </tr>\n",
       "    <tr>\n",
       "      <th>3</th>\n",
       "      <td>1</td>\n",
       "      <td>89</td>\n",
       "      <td>66</td>\n",
       "      <td>23</td>\n",
       "      <td>94</td>\n",
       "      <td>28.1</td>\n",
       "      <td>0.167</td>\n",
       "      <td>21</td>\n",
       "      <td>0</td>\n",
       "    </tr>\n",
       "    <tr>\n",
       "      <th>4</th>\n",
       "      <td>0</td>\n",
       "      <td>137</td>\n",
       "      <td>40</td>\n",
       "      <td>35</td>\n",
       "      <td>168</td>\n",
       "      <td>43.1</td>\n",
       "      <td>2.288</td>\n",
       "      <td>33</td>\n",
       "      <td>1</td>\n",
       "    </tr>\n",
       "  </tbody>\n",
       "</table>\n",
       "</div>"
      ],
      "text/plain": [
       "   Pregnancies  Glucose  BloodPressure  SkinThickness  Insulin   BMI  \\\n",
       "0            6      148             72             35        0  33.6   \n",
       "1            1       85             66             29        0  26.6   \n",
       "2            8      183             64              0        0  23.3   \n",
       "3            1       89             66             23       94  28.1   \n",
       "4            0      137             40             35      168  43.1   \n",
       "\n",
       "   DiabetesPedigreeFunction  Age  Outcome  \n",
       "0                     0.627   50        1  \n",
       "1                     0.351   31        0  \n",
       "2                     0.672   32        1  \n",
       "3                     0.167   21        0  \n",
       "4                     2.288   33        1  "
      ]
     },
     "execution_count": 78,
     "metadata": {},
     "output_type": "execute_result"
    }
   ],
   "source": [
    "import pandas as pd\n",
    "import numpy as np\n",
    "import seaborn as sns\n",
    "import matplotlib.pyplot as plt\n",
    "\n",
    "df_raw = pd.read_csv(\"data/diabetes.csv\")\n",
    "df_raw.head()"
   ]
  },
  {
   "cell_type": "code",
   "execution_count": 6,
   "metadata": {},
   "outputs": [
    {
     "data": {
      "text/plain": [
       "'1.5.1'"
      ]
     },
     "execution_count": 6,
     "metadata": {},
     "output_type": "execute_result"
    }
   ],
   "source": [
    "pd.__version__"
   ]
  },
  {
   "cell_type": "markdown",
   "metadata": {},
   "source": [
    "## Exploratory Data Analysis"
   ]
  },
  {
   "cell_type": "code",
   "execution_count": 49,
   "metadata": {},
   "outputs": [
    {
     "name": "stdout",
     "output_type": "stream",
     "text": [
      "<class 'pandas.core.frame.DataFrame'>\n",
      "RangeIndex: 768 entries, 0 to 767\n",
      "Data columns (total 9 columns):\n",
      " #   Column                    Non-Null Count  Dtype  \n",
      "---  ------                    --------------  -----  \n",
      " 0   Pregnancies               768 non-null    int64  \n",
      " 1   Glucose                   768 non-null    int64  \n",
      " 2   BloodPressure             768 non-null    int64  \n",
      " 3   SkinThickness             768 non-null    int64  \n",
      " 4   Insulin                   768 non-null    int64  \n",
      " 5   BMI                       768 non-null    float64\n",
      " 6   DiabetesPedigreeFunction  768 non-null    float64\n",
      " 7   Age                       768 non-null    int64  \n",
      " 8   Outcome                   768 non-null    int64  \n",
      "dtypes: float64(2), int64(7)\n",
      "memory usage: 54.1 KB\n"
     ]
    }
   ],
   "source": [
    "df_raw.info()"
   ]
  },
  {
   "cell_type": "code",
   "execution_count": 50,
   "metadata": {},
   "outputs": [
    {
     "data": {
      "text/plain": [
       "0    500\n",
       "1    268\n",
       "Name: Outcome, dtype: int64"
      ]
     },
     "execution_count": 50,
     "metadata": {},
     "output_type": "execute_result"
    }
   ],
   "source": [
    "#Diabetes distribution in the dataset\n",
    "\n",
    "df_raw['Outcome'].value_counts()"
   ]
  },
  {
   "cell_type": "markdown",
   "metadata": {},
   "source": [
    "In our dataset there are 268 patients with diabetes and 500 without. The classes are imbalanced: only about 35% of the entries have diabetes."
   ]
  },
  {
   "cell_type": "code",
   "execution_count": 9,
   "metadata": {},
   "outputs": [
    {
     "name": "stderr",
     "output_type": "stream",
     "text": [
      "/var/folders/fs/gjf_cxjd6t96c48h_6fgwmd40000gn/T/ipykernel_1756/2705674253.py:5: UserWarning: \n",
      "\n",
      "`distplot` is a deprecated function and will be removed in seaborn v0.14.0.\n",
      "\n",
      "Please adapt your code to use either `displot` (a figure-level function with\n",
      "similar flexibility) or `histplot` (an axes-level function for histograms).\n",
      "\n",
      "For a guide to updating your code to use the new functions, please see\n",
      "https://gist.github.com/mwaskom/de44147ed2974457ad6372750bbe5751\n",
      "\n",
      "  sns.distplot(df_raw['Pregnancies'],rug=True,ax=axs[0])\n",
      "/var/folders/fs/gjf_cxjd6t96c48h_6fgwmd40000gn/T/ipykernel_1756/2705674253.py:6: UserWarning: \n",
      "\n",
      "`distplot` is a deprecated function and will be removed in seaborn v0.14.0.\n",
      "\n",
      "Please adapt your code to use either `displot` (a figure-level function with\n",
      "similar flexibility) or `histplot` (an axes-level function for histograms).\n",
      "\n",
      "For a guide to updating your code to use the new functions, please see\n",
      "https://gist.github.com/mwaskom/de44147ed2974457ad6372750bbe5751\n",
      "\n",
      "  sns.distplot(df_raw['Glucose'],rug=True,ax=axs[1])\n",
      "/var/folders/fs/gjf_cxjd6t96c48h_6fgwmd40000gn/T/ipykernel_1756/2705674253.py:7: UserWarning: \n",
      "\n",
      "`distplot` is a deprecated function and will be removed in seaborn v0.14.0.\n",
      "\n",
      "Please adapt your code to use either `displot` (a figure-level function with\n",
      "similar flexibility) or `histplot` (an axes-level function for histograms).\n",
      "\n",
      "For a guide to updating your code to use the new functions, please see\n",
      "https://gist.github.com/mwaskom/de44147ed2974457ad6372750bbe5751\n",
      "\n",
      "  sns.distplot(df_raw['BloodPressure'],rug=True,ax=axs[2])\n",
      "/var/folders/fs/gjf_cxjd6t96c48h_6fgwmd40000gn/T/ipykernel_1756/2705674253.py:8: UserWarning: \n",
      "\n",
      "`distplot` is a deprecated function and will be removed in seaborn v0.14.0.\n",
      "\n",
      "Please adapt your code to use either `displot` (a figure-level function with\n",
      "similar flexibility) or `histplot` (an axes-level function for histograms).\n",
      "\n",
      "For a guide to updating your code to use the new functions, please see\n",
      "https://gist.github.com/mwaskom/de44147ed2974457ad6372750bbe5751\n",
      "\n",
      "  sns.distplot(df_raw['SkinThickness'],rug=True,ax=axs[3])\n",
      "/var/folders/fs/gjf_cxjd6t96c48h_6fgwmd40000gn/T/ipykernel_1756/2705674253.py:9: UserWarning: \n",
      "\n",
      "`distplot` is a deprecated function and will be removed in seaborn v0.14.0.\n",
      "\n",
      "Please adapt your code to use either `displot` (a figure-level function with\n",
      "similar flexibility) or `histplot` (an axes-level function for histograms).\n",
      "\n",
      "For a guide to updating your code to use the new functions, please see\n",
      "https://gist.github.com/mwaskom/de44147ed2974457ad6372750bbe5751\n",
      "\n",
      "  sns.distplot(df_raw['Insulin'],rug=True,ax=axs[4])\n",
      "/var/folders/fs/gjf_cxjd6t96c48h_6fgwmd40000gn/T/ipykernel_1756/2705674253.py:10: UserWarning: \n",
      "\n",
      "`distplot` is a deprecated function and will be removed in seaborn v0.14.0.\n",
      "\n",
      "Please adapt your code to use either `displot` (a figure-level function with\n",
      "similar flexibility) or `histplot` (an axes-level function for histograms).\n",
      "\n",
      "For a guide to updating your code to use the new functions, please see\n",
      "https://gist.github.com/mwaskom/de44147ed2974457ad6372750bbe5751\n",
      "\n",
      "  sns.distplot(df_raw['BMI'],rug=True,ax=axs[5])\n",
      "/var/folders/fs/gjf_cxjd6t96c48h_6fgwmd40000gn/T/ipykernel_1756/2705674253.py:11: UserWarning: \n",
      "\n",
      "`distplot` is a deprecated function and will be removed in seaborn v0.14.0.\n",
      "\n",
      "Please adapt your code to use either `displot` (a figure-level function with\n",
      "similar flexibility) or `histplot` (an axes-level function for histograms).\n",
      "\n",
      "For a guide to updating your code to use the new functions, please see\n",
      "https://gist.github.com/mwaskom/de44147ed2974457ad6372750bbe5751\n",
      "\n",
      "  sns.distplot(df_raw['DiabetesPedigreeFunction'],rug=True,ax=axs[6])\n",
      "/var/folders/fs/gjf_cxjd6t96c48h_6fgwmd40000gn/T/ipykernel_1756/2705674253.py:12: UserWarning: \n",
      "\n",
      "`distplot` is a deprecated function and will be removed in seaborn v0.14.0.\n",
      "\n",
      "Please adapt your code to use either `displot` (a figure-level function with\n",
      "similar flexibility) or `histplot` (an axes-level function for histograms).\n",
      "\n",
      "For a guide to updating your code to use the new functions, please see\n",
      "https://gist.github.com/mwaskom/de44147ed2974457ad6372750bbe5751\n",
      "\n",
      "  sns.distplot(df_raw['Age'],rug=True,ax=axs[7])\n"
     ]
    },
    {
     "data": {
      "image/png": "[encoded data removed]",
      "text/plain": [
       "<Figure size 1800x1600 with 8 Axes>"
      ]
     },
     "metadata": {},
     "output_type": "display_data"
    }
   ],
   "source": [
    "#Visualization of the other 8 (continuous) features\n",
    "\n",
    "fig, axs = plt.subplots(4, 2, figsize=(18,16))\n",
    "axs = axs.flatten()\n",
    "sns.distplot(df_raw['Pregnancies'],rug=True,ax=axs[0])\n",
    "sns.distplot(df_raw['Glucose'],rug=True,ax=axs[1])\n",
    "sns.distplot(df_raw['BloodPressure'],rug=True,ax=axs[2])\n",
    "sns.distplot(df_raw['SkinThickness'],rug=True,ax=axs[3])\n",
    "sns.distplot(df_raw['Insulin'],rug=True,ax=axs[4])\n",
    "sns.distplot(df_raw['BMI'],rug=True,ax=axs[5])\n",
    "sns.distplot(df_raw['DiabetesPedigreeFunction'],rug=True,ax=axs[6])\n",
    "sns.distplot(df_raw['Age'],rug=True,ax=axs[7])\n",
    "plt.show()"
   ]
  },
  {
   "cell_type": "code",
   "execution_count": 10,
   "metadata": {},
   "outputs": [
    {
     "data": {
      "text/html": [
       "<div>\n",
       "<style scoped>\n",
       "    .dataframe tbody tr th:only-of-type {\n",
       "        vertical-align: middle;\n",
       "    }\n",
       "\n",
       "    .dataframe tbody tr th {\n",
       "        vertical-align: top;\n",
       "    }\n",
       "\n",
       "    .dataframe thead th {\n",
       "        text-align: right;\n",
       "    }\n",
       "</style>\n",
       "<table border=\"1\" class=\"dataframe\">\n",
       "  <thead>\n",
       "    <tr style=\"text-align: right;\">\n",
       "      <th></th>\n",
       "      <th>Pregnancies</th>\n",
       "      <th>Glucose</th>\n",
       "      <th>BloodPressure</th>\n",
       "      <th>SkinThickness</th>\n",
       "      <th>Insulin</th>\n",
       "      <th>BMI</th>\n",
       "      <th>DiabetesPedigreeFunction</th>\n",
       "      <th>Age</th>\n",
       "      <th>Outcome</th>\n",
       "    </tr>\n",
       "  </thead>\n",
       "  <tbody>\n",
       "    <tr>\n",
       "      <th>Pregnancies</th>\n",
       "      <td>1.000000</td>\n",
       "      <td>0.129459</td>\n",
       "      <td>0.141282</td>\n",
       "      <td>-0.081672</td>\n",
       "      <td>-0.073535</td>\n",
       "      <td>0.017683</td>\n",
       "      <td>-0.033523</td>\n",
       "      <td>0.544341</td>\n",
       "      <td>0.221898</td>\n",
       "    </tr>\n",
       "    <tr>\n",
       "      <th>Glucose</th>\n",
       "      <td>0.129459</td>\n",
       "      <td>1.000000</td>\n",
       "      <td>0.152590</td>\n",
       "      <td>0.057328</td>\n",
       "      <td>0.331357</td>\n",
       "      <td>0.221071</td>\n",
       "      <td>0.137337</td>\n",
       "      <td>0.263514</td>\n",
       "      <td>0.466581</td>\n",
       "    </tr>\n",
       "    <tr>\n",
       "      <th>BloodPressure</th>\n",
       "      <td>0.141282</td>\n",
       "      <td>0.152590</td>\n",
       "      <td>1.000000</td>\n",
       "      <td>0.207371</td>\n",
       "      <td>0.088933</td>\n",
       "      <td>0.281805</td>\n",
       "      <td>0.041265</td>\n",
       "      <td>0.239528</td>\n",
       "      <td>0.065068</td>\n",
       "    </tr>\n",
       "    <tr>\n",
       "      <th>SkinThickness</th>\n",
       "      <td>-0.081672</td>\n",
       "      <td>0.057328</td>\n",
       "      <td>0.207371</td>\n",
       "      <td>1.000000</td>\n",
       "      <td>0.436783</td>\n",
       "      <td>0.392573</td>\n",
       "      <td>0.183928</td>\n",
       "      <td>-0.113970</td>\n",
       "      <td>0.074752</td>\n",
       "    </tr>\n",
       "    <tr>\n",
       "      <th>Insulin</th>\n",
       "      <td>-0.073535</td>\n",
       "      <td>0.331357</td>\n",
       "      <td>0.088933</td>\n",
       "      <td>0.436783</td>\n",
       "      <td>1.000000</td>\n",
       "      <td>0.197859</td>\n",
       "      <td>0.185071</td>\n",
       "      <td>-0.042163</td>\n",
       "      <td>0.130548</td>\n",
       "    </tr>\n",
       "    <tr>\n",
       "      <th>BMI</th>\n",
       "      <td>0.017683</td>\n",
       "      <td>0.221071</td>\n",
       "      <td>0.281805</td>\n",
       "      <td>0.392573</td>\n",
       "      <td>0.197859</td>\n",
       "      <td>1.000000</td>\n",
       "      <td>0.140647</td>\n",
       "      <td>0.036242</td>\n",
       "      <td>0.292695</td>\n",
       "    </tr>\n",
       "    <tr>\n",
       "      <th>DiabetesPedigreeFunction</th>\n",
       "      <td>-0.033523</td>\n",
       "      <td>0.137337</td>\n",
       "      <td>0.041265</td>\n",
       "      <td>0.183928</td>\n",
       "      <td>0.185071</td>\n",
       "      <td>0.140647</td>\n",
       "      <td>1.000000</td>\n",
       "      <td>0.033561</td>\n",
       "      <td>0.173844</td>\n",
       "    </tr>\n",
       "    <tr>\n",
       "      <th>Age</th>\n",
       "      <td>0.544341</td>\n",
       "      <td>0.263514</td>\n",
       "      <td>0.239528</td>\n",
       "      <td>-0.113970</td>\n",
       "      <td>-0.042163</td>\n",
       "      <td>0.036242</td>\n",
       "      <td>0.033561</td>\n",
       "      <td>1.000000</td>\n",
       "      <td>0.238356</td>\n",
       "    </tr>\n",
       "    <tr>\n",
       "      <th>Outcome</th>\n",
       "      <td>0.221898</td>\n",
       "      <td>0.466581</td>\n",
       "      <td>0.065068</td>\n",
       "      <td>0.074752</td>\n",
       "      <td>0.130548</td>\n",
       "      <td>0.292695</td>\n",
       "      <td>0.173844</td>\n",
       "      <td>0.238356</td>\n",
       "      <td>1.000000</td>\n",
       "    </tr>\n",
       "  </tbody>\n",
       "</table>\n",
       "</div>"
      ],
      "text/plain": [
       "                          Pregnancies   Glucose  BloodPressure  SkinThickness  \\\n",
       "Pregnancies                  1.000000  0.129459       0.141282      -0.081672   \n",
       "Glucose                      0.129459  1.000000       0.152590       0.057328   \n",
       "BloodPressure                0.141282  0.152590       1.000000       0.207371   \n",
       "SkinThickness               -0.081672  0.057328       0.207371       1.000000   \n",
       "Insulin                     -0.073535  0.331357       0.088933       0.436783   \n",
       "BMI                          0.017683  0.221071       0.281805       0.392573   \n",
       "DiabetesPedigreeFunction    -0.033523  0.137337       0.041265       0.183928   \n",
       "Age                          0.544341  0.263514       0.239528      -0.113970   \n",
       "Outcome                      0.221898  0.466581       0.065068       0.074752   \n",
       "\n",
       "                           Insulin       BMI  DiabetesPedigreeFunction  \\\n",
       "Pregnancies              -0.073535  0.017683                 -0.033523   \n",
       "Glucose                   0.331357  0.221071                  0.137337   \n",
       "BloodPressure             0.088933  0.281805                  0.041265   \n",
       "SkinThickness             0.436783  0.392573                  0.183928   \n",
       "Insulin                   1.000000  0.197859                  0.185071   \n",
       "BMI                       0.197859  1.000000                  0.140647   \n",
       "DiabetesPedigreeFunction  0.185071  0.140647                  1.000000   \n",
       "Age                      -0.042163  0.036242                  0.033561   \n",
       "Outcome                   0.130548  0.292695                  0.173844   \n",
       "\n",
       "                               Age   Outcome  \n",
       "Pregnancies               0.544341  0.221898  \n",
       "Glucose                   0.263514  0.466581  \n",
       "BloodPressure             0.239528  0.065068  \n",
       "SkinThickness            -0.113970  0.074752  \n",
       "Insulin                  -0.042163  0.130548  \n",
       "BMI                       0.036242  0.292695  \n",
       "DiabetesPedigreeFunction  0.033561  0.173844  \n",
       "Age                       1.000000  0.238356  \n",
       "Outcome                   0.238356  1.000000  "
      ]
     },
     "execution_count": 10,
     "metadata": {},
     "output_type": "execute_result"
    }
   ],
   "source": [
    "df_raw.corr()"
   ]
  },
  {
   "cell_type": "markdown",
   "metadata": {},
   "source": [
    "Vediamo che il dataset è sbilanciato"
   ]
  },
  {
   "cell_type": "code",
   "execution_count": 11,
   "metadata": {},
   "outputs": [
    {
     "name": "stdout",
     "output_type": "stream",
     "text": [
      "Numero di outcome seza diabete 500\n",
      "Numero di outcome con diabete 268\n"
     ]
    }
   ],
   "source": [
    "print(\"Numero di outcome seza diabete\", (df_raw[\"Outcome\"] == 0).sum())\n",
    "print(\"Numero di outcome con diabete\", (df_raw[\"Outcome\"] == 1).sum())"
   ]
  },
  {
   "cell_type": "markdown",
   "metadata": {},
   "source": [
    "Vediamo che ci sono tanti valori nulli nel dataset. Sarebbero da togliere dato che sono dei NaN. Allo stesso tempo possiamo usare questa cosa per iniziare un downsample dei dati con Outcome '0'"
   ]
  },
  {
   "cell_type": "code",
   "execution_count": 12,
   "metadata": {},
   "outputs": [
    {
     "name": "stdout",
     "output_type": "stream",
     "text": [
      "nella colonna Pregnancies ci sono  73 righe da eliminare che possono semplicemente essere downsamplate\n",
      "nella colonna Glucose ci sono  3 righe da eliminare che possono semplicemente essere downsamplate\n",
      "nella colonna BloodPressure ci sono  19 righe da eliminare che possono semplicemente essere downsamplate\n",
      "nella colonna SkinThickness ci sono  139 righe da eliminare che possono semplicemente essere downsamplate\n",
      "nella colonna Insulin ci sono  236 righe da eliminare che possono semplicemente essere downsamplate\n",
      "nella colonna BMI ci sono  9 righe da eliminare che possono semplicemente essere downsamplate\n",
      "nella colonna DiabetesPedigreeFunction ci sono  0 righe da eliminare che possono semplicemente essere downsamplate\n",
      "nella colonna Age ci sono  0 righe da eliminare che possono semplicemente essere downsamplate\n",
      "nella colonna Outcome ci sono  500 righe da eliminare che possono semplicemente essere downsamplate\n"
     ]
    }
   ],
   "source": [
    "for item in df_raw.columns:\n",
    "    counter = 0\n",
    "    for i in range(len(df_raw[item])):\n",
    "        if df_raw[item][i] == 0 and df_raw[\"Outcome\"][i] == 0:\n",
    "            counter += 1\n",
    "    print(\"nella colonna\", item,\"ci sono \",counter,\"righe da eliminare che possono semplicemente essere downsamplate\")"
   ]
  },
  {
   "cell_type": "code",
   "execution_count": 13,
   "metadata": {},
   "outputs": [
    {
     "name": "stdout",
     "output_type": "stream",
     "text": [
      "valori di  Pregnancies\n",
      "[ 0  1  2  3  4  5  6  7  8  9 10 11 12 13 14 15 17]\n",
      "----------------------\n",
      "valori di  Glucose\n",
      "[  0  44  56  57  61  62  65  67  68  71  72  73  74  75  76  77  78  79\n",
      "  80  81  82  83  84  85  86  87  88  89  90  91  92  93  94  95  96  97\n",
      "  98  99 100 101 102 103 104 105 106 107 108 109 110 111 112 113 114 115\n",
      " 116 117 118 119 120 121 122 123 124 125 126 127 128 129 130 131 132 133\n",
      " 134 135 136 137 138 139 140 141 142 143 144 145 146 147 148 149 150 151\n",
      " 152 153 154 155 156 157 158 159 160 161 162 163 164 165 166 167 168 169\n",
      " 170 171 172 173 174 175 176 177 178 179 180 181 182 183 184 186 187 188\n",
      " 189 190 191 193 194 195 196 197 198 199]\n",
      "----------------------\n",
      "valori di  BloodPressure\n",
      "[  0  24  30  38  40  44  46  48  50  52  54  55  56  58  60  61  62  64\n",
      "  65  66  68  70  72  74  75  76  78  80  82  84  85  86  88  90  92  94\n",
      "  95  96  98 100 102 104 106 108 110 114 122]\n",
      "----------------------\n",
      "valori di  SkinThickness\n",
      "[ 0  7  8 10 11 12 13 14 15 16 17 18 19 20 21 22 23 24 25 26 27 28 29 30\n",
      " 31 32 33 34 35 36 37 38 39 40 41 42 43 44 45 46 47 48 49 50 51 52 54 56\n",
      " 60 63 99]\n",
      "----------------------\n",
      "valori di  Insulin\n",
      "[  0  14  15  16  18  22  23  25  29  32  36  37  38  40  41  42  43  44\n",
      "  45  46  48  49  50  51  52  53  54  55  56  57  58  59  60  61  63  64\n",
      "  65  66  67  68  70  71  72  73  74  75  76  77  78  79  81  82  83  84\n",
      "  85  86  87  88  89  90  91  92  94  95  96  99 100 105 106 108 110 112\n",
      " 114 115 116 119 120 122 125 126 127 128 129 130 132 135 140 142 144 145\n",
      " 146 148 150 152 155 156 158 159 160 165 166 167 168 170 171 175 176 178\n",
      " 180 182 183 184 185 188 190 191 192 193 194 196 200 204 205 207 210 215\n",
      " 220 225 228 230 231 235 237 240 245 249 250 255 258 265 270 271 272 274\n",
      " 275 277 278 280 284 285 291 293 300 304 310 318 321 325 326 328 330 335\n",
      " 342 360 370 375 387 392 402 415 440 465 474 478 480 485 495 510 540 543\n",
      " 545 579 600 680 744 846]\n",
      "----------------------\n",
      "valori di  BMI\n",
      "[ 0.  18.2 18.4 19.1 19.3 19.4 19.5 19.6 19.9 20.  20.1 20.4 20.8 21.\n",
      " 21.1 21.2 21.7 21.8 21.9 22.1 22.2 22.3 22.4 22.5 22.6 22.7 22.9 23.\n",
      " 23.1 23.2 23.3 23.4 23.5 23.6 23.7 23.8 23.9 24.  24.1 24.2 24.3 24.4\n",
      " 24.5 24.6 24.7 24.8 24.9 25.  25.1 25.2 25.3 25.4 25.5 25.6 25.8 25.9\n",
      " 26.  26.1 26.2 26.3 26.4 26.5 26.6 26.7 26.8 26.9 27.  27.1 27.2 27.3\n",
      " 27.4 27.5 27.6 27.7 27.8 27.9 28.  28.1 28.2 28.3 28.4 28.5 28.6 28.7\n",
      " 28.8 28.9 29.  29.2 29.3 29.5 29.6 29.7 29.8 29.9 30.  30.1 30.2 30.3\n",
      " 30.4 30.5 30.7 30.8 30.9 31.  31.1 31.2 31.3 31.6 31.9 32.  32.1 32.2\n",
      " 32.3 32.4 32.5 32.6 32.7 32.8 32.9 33.1 33.2 33.3 33.5 33.6 33.7 33.8\n",
      " 33.9 34.  34.1 34.2 34.3 34.4 34.5 34.6 34.7 34.8 34.9 35.  35.1 35.2\n",
      " 35.3 35.4 35.5 35.6 35.7 35.8 35.9 36.  36.1 36.2 36.3 36.4 36.5 36.6\n",
      " 36.7 36.8 36.9 37.  37.1 37.2 37.3 37.4 37.5 37.6 37.7 37.8 37.9 38.\n",
      " 38.1 38.2 38.3 38.4 38.5 38.6 38.7 38.8 38.9 39.  39.1 39.2 39.3 39.4\n",
      " 39.5 39.6 39.7 39.8 39.9 40.  40.1 40.2 40.5 40.6 40.7 40.8 40.9 41.\n",
      " 41.2 41.3 41.5 41.8 42.  42.1 42.2 42.3 42.4 42.6 42.7 42.8 42.9 43.1\n",
      " 43.2 43.3 43.4 43.5 43.6 44.  44.1 44.2 44.5 44.6 45.  45.2 45.3 45.4\n",
      " 45.5 45.6 45.7 45.8 46.1 46.2 46.3 46.5 46.7 46.8 47.9 48.3 48.8 49.3\n",
      " 49.6 49.7 50.  52.3 52.9 53.2 55.  57.3 59.4 67.1]\n",
      "----------------------\n",
      "valori di  DiabetesPedigreeFunction\n",
      "[0.078 0.084 0.085 0.088 0.089 0.092 0.096 0.1   0.101 0.102 0.107 0.108\n",
      " 0.115 0.118 0.121 0.122 0.123 0.126 0.127 0.128 0.129 0.13  0.133 0.134\n",
      " 0.135 0.136 0.137 0.138 0.14  0.141 0.142 0.143 0.144 0.145 0.147 0.148\n",
      " 0.149 0.15  0.151 0.153 0.154 0.155 0.156 0.157 0.158 0.159 0.16  0.161\n",
      " 0.162 0.163 0.164 0.165 0.166 0.167 0.17  0.171 0.173 0.174 0.175 0.176\n",
      " 0.177 0.178 0.179 0.18  0.181 0.182 0.183 0.186 0.187 0.188 0.189 0.19\n",
      " 0.191 0.192 0.194 0.196 0.197 0.198 0.199 0.2   0.201 0.203 0.204 0.205\n",
      " 0.206 0.207 0.209 0.21  0.212 0.215 0.217 0.218 0.219 0.22  0.221 0.222\n",
      " 0.223 0.225 0.226 0.227 0.229 0.23  0.231 0.232 0.233 0.234 0.235 0.236\n",
      " 0.237 0.238 0.239 0.24  0.241 0.243 0.244 0.245 0.246 0.247 0.248 0.249\n",
      " 0.251 0.252 0.253 0.254 0.255 0.256 0.257 0.258 0.259 0.26  0.261 0.262\n",
      " 0.263 0.264 0.265 0.267 0.268 0.269 0.27  0.271 0.272 0.277 0.278 0.279\n",
      " 0.28  0.282 0.283 0.284 0.285 0.286 0.287 0.289 0.29  0.292 0.293 0.294\n",
      " 0.295 0.296 0.297 0.299 0.3   0.302 0.303 0.304 0.305 0.306 0.307 0.313\n",
      " 0.314 0.315 0.317 0.318 0.319 0.323 0.324 0.325 0.326 0.328 0.329 0.33\n",
      " 0.331 0.332 0.334 0.335 0.336 0.337 0.338 0.34  0.341 0.342 0.343 0.344\n",
      " 0.345 0.346 0.347 0.349 0.351 0.352 0.355 0.356 0.358 0.361 0.362 0.364\n",
      " 0.365 0.366 0.368 0.37  0.371 0.374 0.375 0.376 0.378 0.38  0.381 0.382\n",
      " 0.383 0.385 0.388 0.389 0.391 0.393 0.394 0.395 0.396 0.398 0.399 0.4\n",
      " 0.401 0.402 0.403 0.404 0.407 0.408 0.409 0.411 0.412 0.415 0.416 0.417\n",
      " 0.419 0.42  0.421 0.422 0.423 0.426 0.427 0.43  0.431 0.432 0.433 0.434\n",
      " 0.435 0.439 0.441 0.443 0.444 0.446 0.447 0.451 0.452 0.453 0.454 0.455\n",
      " 0.457 0.46  0.463 0.464 0.465 0.466 0.467 0.471 0.472 0.479 0.482 0.483\n",
      " 0.484 0.485 0.487 0.488 0.491 0.493 0.495 0.496 0.497 0.498 0.499 0.501\n",
      " 0.502 0.503 0.507 0.509 0.51  0.512 0.514 0.515 0.516 0.52  0.525 0.526\n",
      " 0.527 0.528 0.529 0.532 0.534 0.536 0.537 0.539 0.542 0.543 0.545 0.546\n",
      " 0.547 0.549 0.551 0.554 0.557 0.559 0.56  0.561 0.564 0.565 0.569 0.571\n",
      " 0.572 0.575 0.578 0.58  0.582 0.583 0.586 0.587 0.588 0.591 0.593 0.595\n",
      " 0.597 0.598 0.6   0.601 0.605 0.607 0.61  0.612 0.613 0.614 0.615 0.619\n",
      " 0.624 0.626 0.627 0.629 0.63  0.631 0.637 0.64  0.645 0.646 0.647 0.649\n",
      " 0.652 0.654 0.655 0.658 0.66  0.661 0.665 0.666 0.672 0.673 0.674 0.677\n",
      " 0.678 0.68  0.682 0.686 0.687 0.692 0.693 0.695 0.696 0.698 0.699 0.702\n",
      " 0.703 0.704 0.705 0.709 0.711 0.717 0.718 0.719 0.721 0.722 0.725 0.727\n",
      " 0.73  0.731 0.732 0.733 0.734 0.735 0.738 0.741 0.742 0.743 0.744 0.745\n",
      " 0.748 0.757 0.759 0.761 0.766 0.767 0.771 0.773 0.785 0.787 0.801 0.803\n",
      " 0.804 0.805 0.808 0.813 0.816 0.817 0.821 0.825 0.826 0.828 0.831 0.832\n",
      " 0.833 0.839 0.84  0.845 0.851 0.855 0.856 0.867 0.871 0.874 0.875 0.878\n",
      " 0.88  0.881 0.886 0.892 0.893 0.904 0.905 0.917 0.925 0.926 0.93  0.932\n",
      " 0.933 0.944 0.947 0.949 0.955 0.956 0.962 0.966 0.968 0.97  0.997 1.001\n",
      " 1.021 1.022 1.034 1.057 1.072 1.076 1.095 1.096 1.101 1.114 1.127 1.136\n",
      " 1.138 1.144 1.154 1.159 1.162 1.174 1.182 1.189 1.191 1.213 1.222 1.224\n",
      " 1.251 1.258 1.268 1.282 1.292 1.318 1.321 1.353 1.39  1.391 1.394 1.4\n",
      " 1.441 1.461 1.476 1.6   1.698 1.699 1.731 1.781 1.893 2.137 2.288 2.329\n",
      " 2.42 ]\n",
      "----------------------\n",
      "valori di  Age\n",
      "[21 22 23 24 25 26 27 28 29 30 31 32 33 34 35 36 37 38 39 40 41 42 43 44\n",
      " 45 46 47 48 49 50 51 52 53 54 55 56 57 58 59 60 61 62 63 64 65 66 67 68\n",
      " 69 70 72 81]\n",
      "----------------------\n",
      "valori di  Outcome\n",
      "[0 1]\n",
      "----------------------\n"
     ]
    }
   ],
   "source": [
    "for item in df_raw.columns:\n",
    "    print(\"valori di \",item)\n",
    "    temp = df_raw[item].unique()\n",
    "    temp.sort()\n",
    "    #print(df_raw[item].unique())\n",
    "    print(temp)\n",
    "    print(\"----------------------\")\n",
    "    #\n",
    "    #chiedere a Sten dei bin sensati per questi valori"
   ]
  },
  {
   "cell_type": "markdown",
   "metadata": {},
   "source": [
    "Togliamo le righe che hanno un valore nullo aka NaN e un outcome '0'"
   ]
  },
  {
   "cell_type": "code",
   "execution_count": 14,
   "metadata": {},
   "outputs": [],
   "source": [
    "df_clean = df_raw.copy(deep=True)"
   ]
  },
  {
   "cell_type": "code",
   "execution_count": 15,
   "metadata": {},
   "outputs": [
    {
     "name": "stdout",
     "output_type": "stream",
     "text": [
      "SIUUUM\n",
      "SIUUUM\n",
      "SIUUUM\n",
      "SIUUUM\n",
      "SIUUUM\n",
      "SIUUUM\n"
     ]
    }
   ],
   "source": [
    "columns_to_clean = ['Glucose', 'BloodPressure', 'SkinThickness', 'Insulin','BMI','Age']\n",
    "for item in columns_to_clean:\n",
    "    drop_list = []\n",
    "    for i in range(len(df_clean[item])):\n",
    "        if df_clean[item][i] == 0 and df_clean[\"Outcome\"][i] == 0:\n",
    "            drop_list.append(i)\n",
    "    print(\"SIUUUM\")\n",
    "    df_clean.drop(labels= drop_list, axis= 0, inplace= True)\n",
    "    df_clean.reset_index(drop=True, inplace=True)\n"
   ]
  },
  {
   "cell_type": "code",
   "execution_count": 16,
   "metadata": {},
   "outputs": [
    {
     "data": {
      "text/plain": [
       "(530, 9)"
      ]
     },
     "execution_count": 16,
     "metadata": {},
     "output_type": "execute_result"
    }
   ],
   "source": [
    "df_clean.shape"
   ]
  },
  {
   "cell_type": "markdown",
   "metadata": {},
   "source": [
    "Abbiamo tolto un po di roba, adiamo sia a vedere se e quanto è sbilanciato il dataset che a togliere le restati righe che hanno un NaN"
   ]
  },
  {
   "cell_type": "code",
   "execution_count": 17,
   "metadata": {},
   "outputs": [
    {
     "name": "stdout",
     "output_type": "stream",
     "text": [
      "Numero di outcome seza diabete 262\n",
      "Numero di outcome con diabete 268\n"
     ]
    }
   ],
   "source": [
    "print(\"Numero di outcome seza diabete\", (df_clean[\"Outcome\"] == 0).sum())\n",
    "print(\"Numero di outcome con diabete\", (df_clean[\"Outcome\"] == 1).sum())"
   ]
  },
  {
   "cell_type": "markdown",
   "metadata": {},
   "source": [
    "Controllo sull'insulina e sul tipo di diabete"
   ]
  },
  {
   "cell_type": "code",
   "execution_count": 18,
   "metadata": {},
   "outputs": [
    {
     "name": "stdout",
     "output_type": "stream",
     "text": [
      "presumibilmente ci sono  138 pazienti con diabete di tipo 1\n",
      "presumibilmente ci sono  47 pazienti con diabete di tipo 2\n"
     ]
    }
   ],
   "source": [
    "count_1 = 0\n",
    "count_2 = 1\n",
    "for i in range(df_clean.shape[0]):\n",
    "    if df_clean[\"Insulin\"][i] < 1 and df_clean[\"Outcome\"][i] == 1 :\n",
    "        count_1 += 1\n",
    "    if df_clean[\"Insulin\"][i] > 200 and df_clean[\"Outcome\"][i] == 1:\n",
    "        count_2 += 1\n",
    "print(\"presumibilmente ci sono \",count_1,\"pazienti con diabete di tipo 1\")\n",
    "print(\"presumibilmente ci sono \",count_2,\"pazienti con diabete di tipo 2\")"
   ]
  },
  {
   "cell_type": "markdown",
   "metadata": {},
   "source": [
    "Togliamo ora i restanti NaN senza però adare a toccare quelli dell'insulina ( presumiamo siano registrati nulli ) "
   ]
  },
  {
   "cell_type": "code",
   "execution_count": 19,
   "metadata": {},
   "outputs": [
    {
     "name": "stdout",
     "output_type": "stream",
     "text": [
      "    - nella colonna  Pregnancies  sono presenti questi zeri\n",
      "75\n",
      "    - nella colonna  Glucose  sono presenti questi zeri\n",
      "2\n",
      "    - nella colonna  BloodPressure  sono presenti questi zeri\n",
      "16\n",
      "    - nella colonna  SkinThickness  sono presenti questi zeri\n",
      "88\n",
      "    - nella colonna  Insulin  sono presenti questi zeri\n",
      "138\n",
      "    - nella colonna  BMI  sono presenti questi zeri\n",
      "2\n",
      "    - nella colonna  DiabetesPedigreeFunction  sono presenti questi zeri\n",
      "0\n",
      "    - nella colonna  Age  sono presenti questi zeri\n",
      "0\n",
      "    - nella colonna  Outcome  sono presenti questi zeri\n",
      "262\n"
     ]
    }
   ],
   "source": [
    "for item in df_clean.columns:\n",
    "    print(\"    - nella colonna \", item,\" sono presenti questi zeri\")\n",
    "    print((df_clean[item] == 0).sum())"
   ]
  },
  {
   "cell_type": "code",
   "execution_count": 20,
   "metadata": {},
   "outputs": [
    {
     "name": "stdout",
     "output_type": "stream",
     "text": [
      "SIUUUM\n",
      "SIUUUM\n",
      "SIUUUM\n",
      "SIUUUM\n",
      "SIUUUM\n"
     ]
    }
   ],
   "source": [
    "columns_to_clean = ['Glucose', 'BloodPressure', 'SkinThickness', 'BMI','Age']\n",
    "\n",
    "for item in columns_to_clean:\n",
    "    drop_list = []\n",
    "    for i in range(len(df_clean[item])):\n",
    "        if df_clean[item][i] == 0 :\n",
    "            drop_list.append(i)\n",
    "    print(\"SIUUUM\")\n",
    "    df_clean.drop(labels= drop_list, axis= 0, inplace= True)\n",
    "    df_clean.reset_index(drop=True, inplace=True)"
   ]
  },
  {
   "cell_type": "markdown",
   "metadata": {},
   "source": [
    "Bene, andiamo a vedere cosa rimane del dataset originario"
   ]
  },
  {
   "cell_type": "code",
   "execution_count": 21,
   "metadata": {},
   "outputs": [
    {
     "name": "stdout",
     "output_type": "stream",
     "text": [
      "Numero di outcome seza diabete 262\n",
      "Numero di outcome con diabete 177\n"
     ]
    }
   ],
   "source": [
    "print(\"Numero di outcome seza diabete\", (df_clean[\"Outcome\"] == 0).sum())\n",
    "print(\"Numero di outcome con diabete\", (df_clean[\"Outcome\"] == 1).sum())"
   ]
  },
  {
   "cell_type": "markdown",
   "metadata": {},
   "source": [
    "Come notiamo c'è ancora da fare un downsample per bilanciare il dataset"
   ]
  },
  {
   "cell_type": "code",
   "execution_count": 22,
   "metadata": {},
   "outputs": [],
   "source": [
    "from sklearn.utils import resample"
   ]
  },
  {
   "cell_type": "code",
   "execution_count": 23,
   "metadata": {},
   "outputs": [
    {
     "name": "stdout",
     "output_type": "stream",
     "text": [
      "(177, 9)\n",
      "Numero di outcome seza diabete 177\n",
      "Numero di outcome con diabete 177\n"
     ]
    }
   ],
   "source": [
    "df_positive_outcome = df_clean[df_clean[\"Outcome\"] == 1]\n",
    "df_negative_outcome = df_clean[df_clean[\"Outcome\"] == 0]\n",
    "#-----------\n",
    "\n",
    "df_negative_outcome_downsampled = resample(df_negative_outcome,\n",
    "             replace=True,\n",
    "             n_samples=len(df_positive_outcome),\n",
    "             random_state=42)\n",
    "print(df_negative_outcome_downsampled.shape)\n",
    "#-----------------\n",
    "\n",
    "df_balanced = pd.concat([df_negative_outcome_downsampled, df_positive_outcome])\n",
    "#-----------\n",
    "\n",
    "df_balanced.reset_index(drop=True, inplace=True)\n",
    "\n",
    "print(\"Numero di outcome seza diabete\", (df_balanced[\"Outcome\"] == 0).sum())\n",
    "print(\"Numero di outcome con diabete\", (df_balanced[\"Outcome\"] == 1).sum())\n"
   ]
  },
  {
   "cell_type": "markdown",
   "metadata": {},
   "source": [
    "Bene, ora il dataset è bilanciato, non resta che binnarizzarlo"
   ]
  },
  {
   "cell_type": "code",
   "execution_count": 24,
   "metadata": {},
   "outputs": [
    {
     "name": "stdout",
     "output_type": "stream",
     "text": [
      "valori di  Pregnancies\n",
      "[ 0  1  2  3  4  5  6  7  8  9 10 11 12 13 14 15 17]\n",
      "----------------------\n",
      "valori di  Glucose\n",
      "[ 75  78  79  80  81  82  84  85  86  87  88  89  90  91  92  93  94  95\n",
      "  96  97  98  99 100 101 102 103 104 105 106 107 108 109 110 111 112 113\n",
      " 114 115 116 117 118 119 120 121 122 123 124 125 126 127 128 129 130 131\n",
      " 133 134 135 136 137 138 139 140 141 142 143 144 145 146 147 148 149 150\n",
      " 151 152 154 155 156 157 158 160 161 162 163 164 165 166 167 168 169 170\n",
      " 171 172 173 174 175 176 177 179 180 181 184 186 187 188 189 193 194 195\n",
      " 196 197 198 199]\n",
      "----------------------\n",
      "valori di  BloodPressure\n",
      "[ 30  38  40  44  46  48  50  52  54  56  58  60  62  64  65  66  68  70\n",
      "  72  74  76  78  80  82  84  85  86  88  90  92  94  98 100 102 104 106\n",
      " 110]\n",
      "----------------------\n",
      "valori di  SkinThickness\n",
      "[ 7  8 10 11 12 13 14 15 17 18 19 20 21 22 23 24 25 26 27 28 29 30 31 32\n",
      " 33 34 35 36 37 38 39 40 41 42 43 44 45 46 47 48 49 50 51 52 56 60 63 99]\n",
      "----------------------\n",
      "valori di  Insulin\n",
      "[  0  14  16  29  36  37  40  41  44  46  48  49  53  54  55  56  57  58\n",
      "  59  61  64  65  66  68  70  71  73  74  76  77  78  79  81  82  83  86\n",
      "  87  88  90  91  92  94  96  99 100 105 106 108 110 114 115 116 119 120\n",
      " 122 125 126 127 128 129 130 132 135 140 142 144 145 146 150 152 155 156\n",
      " 159 160 165 167 168 170 171 175 176 178 180 182 183 184 185 190 191 192\n",
      " 194 200 205 207 210 215 220 225 230 231 237 240 245 249 250 258 265 271\n",
      " 272 274 275 277 278 280 284 285 293 300 304 310 318 321 325 328 335 360\n",
      " 370 387 392 402 415 465 474 478 480 495 510 540 543 579 600 744 846]\n",
      "----------------------\n",
      "valori di  BMI\n",
      "[19.3 19.4 19.5 20.8 22.1 22.2 22.9 23.1 23.4 23.6 23.7 23.9 24.  24.2\n",
      " 24.3 24.6 24.7 25.1 25.2 25.3 25.4 25.5 25.6 25.8 25.9 26.  26.2 26.4\n",
      " 26.5 26.6 26.8 26.9 27.1 27.4 27.5 27.6 27.7 27.8 27.9 28.  28.2 28.3\n",
      " 28.4 28.5 28.7 28.8 28.9 29.  29.3 29.7 29.8 29.9 30.  30.1 30.2 30.3\n",
      " 30.4 30.5 30.8 30.9 31.  31.1 31.2 31.6 31.9 32.  32.3 32.4 32.5 32.7\n",
      " 32.8 32.9 33.2 33.3 33.6 33.7 33.8 33.9 34.  34.1 34.2 34.3 34.4 34.5\n",
      " 34.6 34.7 34.8 34.9 35.  35.1 35.2 35.4 35.5 35.6 35.7 35.8 35.9 36.1\n",
      " 36.4 36.5 36.6 36.7 36.9 37.  37.1 37.2 37.4 37.5 37.6 37.7 37.8 37.9\n",
      " 38.  38.1 38.2 38.4 38.5 38.7 38.9 39.  39.1 39.2 39.4 39.7 39.9 40.\n",
      " 40.5 40.6 40.7 40.9 41.2 41.3 41.5 41.8 42.  42.1 42.3 42.4 42.6 42.9\n",
      " 43.1 43.3 43.5 43.6 44.  44.1 44.2 44.5 44.6 45.2 45.3 45.4 45.5 45.6\n",
      " 45.8 46.1 46.2 46.3 46.5 46.8 49.3 49.6 49.7 50.  53.2 55.  57.3 59.4\n",
      " 67.1]\n",
      "----------------------\n",
      "valori di  DiabetesPedigreeFunction\n",
      "[0.089 0.115 0.118 0.122 0.123 0.127 0.128 0.141 0.142 0.149 0.15  0.153\n",
      " 0.154 0.158 0.159 0.161 0.163 0.165 0.167 0.171 0.173 0.175 0.176 0.183\n",
      " 0.192 0.196 0.197 0.198 0.199 0.203 0.204 0.205 0.207 0.212 0.215 0.219\n",
      " 0.221 0.222 0.225 0.229 0.23  0.233 0.234 0.235 0.237 0.238 0.239 0.24\n",
      " 0.241 0.245 0.247 0.248 0.254 0.256 0.258 0.26  0.261 0.263 0.264 0.268\n",
      " 0.269 0.27  0.282 0.283 0.284 0.286 0.295 0.296 0.297 0.305 0.306 0.313\n",
      " 0.314 0.315 0.319 0.323 0.324 0.325 0.326 0.328 0.335 0.337 0.34  0.344\n",
      " 0.347 0.349 0.355 0.356 0.358 0.361 0.362 0.364 0.365 0.366 0.37  0.371\n",
      " 0.378 0.38  0.381 0.389 0.395 0.398 0.401 0.403 0.404 0.407 0.408 0.412\n",
      " 0.415 0.422 0.423 0.431 0.433 0.434 0.435 0.439 0.441 0.443 0.447 0.452\n",
      " 0.453 0.455 0.463 0.467 0.471 0.482 0.483 0.488 0.491 0.495 0.496 0.497\n",
      " 0.499 0.502 0.503 0.507 0.51  0.514 0.515 0.516 0.527 0.528 0.529 0.532\n",
      " 0.534 0.536 0.542 0.543 0.547 0.549 0.551 0.554 0.557 0.561 0.565 0.571\n",
      " 0.575 0.583 0.586 0.587 0.588 0.591 0.593 0.598 0.605 0.613 0.614 0.615\n",
      " 0.627 0.631 0.637 0.64  0.646 0.649 0.652 0.654 0.658 0.66  0.661 0.665\n",
      " 0.666 0.673 0.674 0.678 0.682 0.686 0.687 0.692 0.698 0.699 0.702 0.711\n",
      " 0.717 0.719 0.721 0.722 0.73  0.731 0.733 0.742 0.745 0.757 0.759 0.766\n",
      " 0.771 0.785 0.787 0.808 0.813 0.817 0.821 0.825 0.826 0.831 0.833 0.851\n",
      " 0.855 0.867 0.871 0.875 0.88  0.881 0.893 0.905 0.917 0.925 0.926 0.944\n",
      " 0.947 0.949 0.962 0.968 0.97  1.001 1.034 1.057 1.072 1.076 1.096 1.127\n",
      " 1.136 1.144 1.154 1.159 1.162 1.189 1.213 1.224 1.258 1.268 1.282 1.292\n",
      " 1.318 1.321 1.353 1.39  1.391 1.394 1.4   1.6   1.699 1.893 2.137 2.288\n",
      " 2.329 2.42 ]\n",
      "----------------------\n",
      "valori di  Age\n",
      "[21 22 23 24 25 26 27 28 29 30 31 32 33 34 35 36 37 38 39 40 41 42 43 44\n",
      " 45 46 47 48 49 50 51 52 53 54 55 56 57 58 59 60 61 62 63 70]\n",
      "----------------------\n",
      "valori di  Outcome\n",
      "[0 1]\n",
      "----------------------\n"
     ]
    }
   ],
   "source": [
    "for item in df_balanced:\n",
    "    print(\"valori di \",item)\n",
    "    temp = df_balanced[item].unique()\n",
    "    temp.sort()\n",
    "    #print(df_raw[item].unique())\n",
    "    print(temp)\n",
    "    print(\"----------------------\")"
   ]
  },
  {
   "cell_type": "code",
   "execution_count": 25,
   "metadata": {},
   "outputs": [],
   "source": [
    "df_bin = df_balanced.copy(deep=True)"
   ]
  },
  {
   "cell_type": "code",
   "execution_count": 26,
   "metadata": {},
   "outputs": [
    {
     "data": {
      "text/html": [
       "<div>\n",
       "<style scoped>\n",
       "    .dataframe tbody tr th:only-of-type {\n",
       "        vertical-align: middle;\n",
       "    }\n",
       "\n",
       "    .dataframe tbody tr th {\n",
       "        vertical-align: top;\n",
       "    }\n",
       "\n",
       "    .dataframe thead th {\n",
       "        text-align: right;\n",
       "    }\n",
       "</style>\n",
       "<table border=\"1\" class=\"dataframe\">\n",
       "  <thead>\n",
       "    <tr style=\"text-align: right;\">\n",
       "      <th></th>\n",
       "      <th>Pregnancies</th>\n",
       "      <th>Glucose</th>\n",
       "      <th>BloodPressure</th>\n",
       "      <th>SkinThickness</th>\n",
       "      <th>Insulin</th>\n",
       "      <th>BMI</th>\n",
       "      <th>DiabetesPedigreeFunction</th>\n",
       "      <th>Age</th>\n",
       "      <th>Outcome</th>\n",
       "    </tr>\n",
       "  </thead>\n",
       "  <tbody>\n",
       "    <tr>\n",
       "      <th>0</th>\n",
       "      <td>1</td>\n",
       "      <td>95</td>\n",
       "      <td>60</td>\n",
       "      <td>18</td>\n",
       "      <td>58</td>\n",
       "      <td>23.9</td>\n",
       "      <td>0.260</td>\n",
       "      <td>22</td>\n",
       "      <td>0</td>\n",
       "    </tr>\n",
       "    <tr>\n",
       "      <th>1</th>\n",
       "      <td>8</td>\n",
       "      <td>126</td>\n",
       "      <td>88</td>\n",
       "      <td>36</td>\n",
       "      <td>108</td>\n",
       "      <td>38.5</td>\n",
       "      <td>0.349</td>\n",
       "      <td>49</td>\n",
       "      <td>0</td>\n",
       "    </tr>\n",
       "    <tr>\n",
       "      <th>2</th>\n",
       "      <td>9</td>\n",
       "      <td>124</td>\n",
       "      <td>70</td>\n",
       "      <td>33</td>\n",
       "      <td>402</td>\n",
       "      <td>35.4</td>\n",
       "      <td>0.282</td>\n",
       "      <td>34</td>\n",
       "      <td>0</td>\n",
       "    </tr>\n",
       "    <tr>\n",
       "      <th>3</th>\n",
       "      <td>1</td>\n",
       "      <td>84</td>\n",
       "      <td>64</td>\n",
       "      <td>23</td>\n",
       "      <td>115</td>\n",
       "      <td>36.9</td>\n",
       "      <td>0.471</td>\n",
       "      <td>28</td>\n",
       "      <td>0</td>\n",
       "    </tr>\n",
       "    <tr>\n",
       "      <th>4</th>\n",
       "      <td>2</td>\n",
       "      <td>110</td>\n",
       "      <td>74</td>\n",
       "      <td>29</td>\n",
       "      <td>125</td>\n",
       "      <td>32.4</td>\n",
       "      <td>0.698</td>\n",
       "      <td>27</td>\n",
       "      <td>0</td>\n",
       "    </tr>\n",
       "  </tbody>\n",
       "</table>\n",
       "</div>"
      ],
      "text/plain": [
       "   Pregnancies  Glucose  BloodPressure  SkinThickness  Insulin   BMI  \\\n",
       "0            1       95             60             18       58  23.9   \n",
       "1            8      126             88             36      108  38.5   \n",
       "2            9      124             70             33      402  35.4   \n",
       "3            1       84             64             23      115  36.9   \n",
       "4            2      110             74             29      125  32.4   \n",
       "\n",
       "   DiabetesPedigreeFunction  Age  Outcome  \n",
       "0                     0.260   22        0  \n",
       "1                     0.349   49        0  \n",
       "2                     0.282   34        0  \n",
       "3                     0.471   28        0  \n",
       "4                     0.698   27        0  "
      ]
     },
     "execution_count": 26,
     "metadata": {},
     "output_type": "execute_result"
    }
   ],
   "source": [
    "df_bin.head()"
   ]
  },
  {
   "cell_type": "code",
   "execution_count": 27,
   "metadata": {},
   "outputs": [
    {
     "data": {
      "text/plain": [
       "'df_bin[\"Pregnancies\"] = pd.cut(x=df_balanced[\"Pregnancies\"], bins=[-1,3,6,11,18],\\n                        labels=[\"0-3\",\"3-6\",\"6-11\",\"11+\"])\\n\\ndf_bin[\"Glucose\"] = pd.cut(x=df_balanced[\"Glucose\"], bins=[70,100,140,np.max(df_balanced[\"Glucose\"])],\\n                        labels=[\"70-100\",\"100-140\",\"140-200\"])\\n\\ndf_bin[\"BloodPressure\"] = pd.cut(x=df_balanced[\"BloodPressure\"], bins=[29,60,80,85,90,100,110],\\n                        labels=[\"30-60\",\"60-80\",\"80-85\",\"85-90\",\"90-100\",\"100-110\"])\\n\\ndf_bin[\"SkinThickness\"] = pd.cut(x=df_balanced[\"SkinThickness\"], bins=[6,15,30,40,np.max(df_balanced[\"SkinThickness\"])],\\n                        labels=[\"7,15\",\"15,30\",\"30-40\",\"40+\"])\\n\\ndf_bin[\"Insulin\"] = pd.cut(x=df_balanced[\"Insulin\"], bins=[-1,25,50,120,150,250,np.max(df_balanced[\"Insulin\"])],\\n                        labels=[\"0-25\",\"25-50\",\"50-120\",\"120-150\",\"150-250\",\"250+\"])\\n\\ndf_bin[\"BMI\"] = pd.cut(x=df_balanced[\"BMI\"], bins=[19,25,30,np.max(df_balanced[\"BMI\"])],\\n                        labels=[\"19-25\",\"25-30\",\"30+\"])\\n\\ndf_bin[\"DiabetesPedigreeFunction\"] = pd.cut(x=df_balanced[\"DiabetesPedigreeFunction\"], bins=[-1,0.2,0.3,0.5,0.7,0.9,np.max(df_balanced[\"DiabetesPedigreeFunction\"])],\\n                        labels=[\"0-0.2\",\"0.2-0.3\",\"0.3-0.5\",\"0.5-0.7\",\"0.7-0.9\",\"0.9+\"])\\n\\ndf_bin[\"Age\"] = pd.cut(x=df_balanced[\"Age\"], bins=[20,30,40,50,60,np.max(df_balanced[\"Age\"])],\\n                        labels=[\"20-30\",\"30-40\",\"40-50\",\"50-60\",\"60+\"])\\n'"
      ]
     },
     "execution_count": 27,
     "metadata": {},
     "output_type": "execute_result"
    }
   ],
   "source": [
    "#primo approccio alla binnerizzazione, molto manaccione ma funziona. Sotto un apporccio più pulito\n",
    "\n",
    "\"\"\"df_bin[\"Pregnancies\"] = pd.cut(x=df_balanced[\"Pregnancies\"], bins=[-1,3,6,11,18],\n",
    "                        labels=[\"0-3\",\"3-6\",\"6-11\",\"11+\"])\n",
    "\n",
    "df_bin[\"Glucose\"] = pd.cut(x=df_balanced[\"Glucose\"], bins=[70,100,140,np.max(df_balanced[\"Glucose\"])],\n",
    "                        labels=[\"70-100\",\"100-140\",\"140-200\"])\n",
    "\n",
    "df_bin[\"BloodPressure\"] = pd.cut(x=df_balanced[\"BloodPressure\"], bins=[29,60,80,85,90,100,110],\n",
    "                        labels=[\"30-60\",\"60-80\",\"80-85\",\"85-90\",\"90-100\",\"100-110\"])\n",
    "\n",
    "df_bin[\"SkinThickness\"] = pd.cut(x=df_balanced[\"SkinThickness\"], bins=[6,15,30,40,np.max(df_balanced[\"SkinThickness\"])],\n",
    "                        labels=[\"7,15\",\"15,30\",\"30-40\",\"40+\"])\n",
    "\n",
    "df_bin[\"Insulin\"] = pd.cut(x=df_balanced[\"Insulin\"], bins=[-1,25,50,120,150,250,np.max(df_balanced[\"Insulin\"])],\n",
    "                        labels=[\"0-25\",\"25-50\",\"50-120\",\"120-150\",\"150-250\",\"250+\"])\n",
    "\n",
    "df_bin[\"BMI\"] = pd.cut(x=df_balanced[\"BMI\"], bins=[19,25,30,np.max(df_balanced[\"BMI\"])],\n",
    "                        labels=[\"19-25\",\"25-30\",\"30+\"])\n",
    "\n",
    "df_bin[\"DiabetesPedigreeFunction\"] = pd.cut(x=df_balanced[\"DiabetesPedigreeFunction\"], bins=[-1,0.2,0.3,0.5,0.7,0.9,np.max(df_balanced[\"DiabetesPedigreeFunction\"])],\n",
    "                        labels=[\"0-0.2\",\"0.2-0.3\",\"0.3-0.5\",\"0.5-0.7\",\"0.7-0.9\",\"0.9+\"])\n",
    "\n",
    "df_bin[\"Age\"] = pd.cut(x=df_balanced[\"Age\"], bins=[20,30,40,50,60,np.max(df_balanced[\"Age\"])],\n",
    "                        labels=[\"20-30\",\"30-40\",\"40-50\",\"50-60\",\"60+\"])\n",
    "\"\"\""
   ]
  },
  {
   "cell_type": "code",
   "execution_count": 28,
   "metadata": {},
   "outputs": [],
   "source": [
    "#dictionary di configurazione per la binnerizzazione\n",
    "\n",
    "conf = {\"Pregnancies\" :{\n",
    "            \"bins\" : [-1,3,6,11,18],\n",
    "            \"labels\": [\"0-3\",\"3-6\",\"6-11\",\"11+\"]},\n",
    "\n",
    "        \"Glucose\" :{\n",
    "            \"bins\" : [70,100,140,np.max(df_balanced[\"Glucose\"])],\n",
    "            \"labels\" : [\"70-100\",\"100-140\",\"140-200\"]},\n",
    "\n",
    "        \"BloodPressure\" :{\n",
    "            \"bins\" : [29,60,80,85,90,100,110],\n",
    "            \"labels\" : [\"30-60\",\"60-80\",\"80-85\",\"85-90\",\"90-100\",\"100-110\"]},\n",
    "\n",
    "        \"SkinThickness\" :{\n",
    "            \"bins\" : [6,15,30,40,np.max(df_balanced[\"SkinThickness\"])],\n",
    "            \"labels\" : [\"7-15\",\"15-30\",\"30-40\",\"40+\"]},\n",
    "\n",
    "        \"Insulin\" : {\n",
    "            \"bins\" : [-1,25,50,120,150,250,np.max(df_balanced[\"Insulin\"])],\n",
    "            \"labels\" : [\"0-25\",\"25-50\",\"50-120\",\"120-150\",\"150-250\",\"250+\"]},\n",
    "            \n",
    "        \"BMI\" :{\n",
    "            \"bins\" : [19,25,30,np.max(df_balanced[\"BMI\"])],\n",
    "            \"labels\" : [\"19-25\",\"25-30\",\"30+\"]},\n",
    "\n",
    "        \"DiabetesPedigreeFunction\" :{\n",
    "            \"bins\" : [-1,0.2,0.3,0.5,0.7,0.9,np.max(df_balanced[\"DiabetesPedigreeFunction\"])],\n",
    "            \"labels\" : [\"0-0.2\",\"0.2-0.3\",\"0.3-0.5\",\"0.5-0.7\",\"0.7-0.9\",\"0.9+\"]},\n",
    "            \n",
    "        \"Age\" :{\n",
    "            \"bins\" : [20,30,40,50,60,np.max(df_balanced[\"Age\"])],\n",
    "            \"labels\" : [\"20-30\",\"30-40\",\"40-50\",\"50-60\",\"60+\"]}\n",
    "        }       \n"
   ]
  },
  {
   "cell_type": "code",
   "execution_count": 29,
   "metadata": {},
   "outputs": [],
   "source": [
    "for item in conf.keys():\n",
    "    df_bin[item] = pd.cut(x=df_balanced[item], bins=conf[item][\"bins\"],\n",
    "                        labels=conf[item][\"labels\"])"
   ]
  },
  {
   "cell_type": "code",
   "execution_count": 30,
   "metadata": {},
   "outputs": [
    {
     "name": "stdout",
     "output_type": "stream",
     "text": [
      "valori di  Pregnancies\n",
      "['0-3', '6-11', '3-6', '11+']\n",
      "Categories (4, object): ['0-3' < '3-6' < '6-11' < '11+']\n",
      "----------------------\n",
      "valori di  Glucose\n",
      "['70-100', '100-140', '140-200']\n",
      "Categories (3, object): ['70-100' < '100-140' < '140-200']\n",
      "----------------------\n",
      "valori di  BloodPressure\n",
      "['30-60', '85-90', '60-80', '80-85', '90-100', '100-110']\n",
      "Categories (6, object): ['30-60' < '60-80' < '80-85' < '85-90' < '90-100' < '100-110']\n",
      "----------------------\n",
      "valori di  SkinThickness\n",
      "['15-30', '30-40', '7-15', '40+']\n",
      "Categories (4, object): ['7-15' < '15-30' < '30-40' < '40+']\n",
      "----------------------\n",
      "valori di  Insulin\n",
      "['50-120', '250+', '120-150', '150-250', '25-50', '0-25']\n",
      "Categories (6, object): ['0-25' < '25-50' < '50-120' < '120-150' < '150-250' < '250+']\n",
      "----------------------\n",
      "valori di  BMI\n",
      "['19-25', '30+', '25-30']\n",
      "Categories (3, object): ['19-25' < '25-30' < '30+']\n",
      "----------------------\n",
      "valori di  DiabetesPedigreeFunction\n",
      "['0.2-0.3', '0.3-0.5', '0.5-0.7', '0.9+', '0-0.2', '0.7-0.9']\n",
      "Categories (6, object): ['0-0.2' < '0.2-0.3' < '0.3-0.5' < '0.5-0.7' < '0.7-0.9' < '0.9+']\n",
      "----------------------\n",
      "valori di  Age\n",
      "['20-30', '40-50', '30-40', '50-60', '60+']\n",
      "Categories (5, object): ['20-30' < '30-40' < '40-50' < '50-60' < '60+']\n",
      "----------------------\n",
      "valori di  Outcome\n",
      "[0 1]\n",
      "----------------------\n"
     ]
    }
   ],
   "source": [
    "for item in df_bin:\n",
    "    print(\"valori di \",item)\n",
    "    temp = df_bin[item].unique()\n",
    "    #print(df_raw[item].unique())\n",
    "    print(temp)\n",
    "    print(\"----------------------\")"
   ]
  },
  {
   "cell_type": "code",
   "execution_count": 31,
   "metadata": {},
   "outputs": [
    {
     "data": {
      "image/png": "[encoded data removed]",
      "text/plain": [
       "<Figure size 1800x2000 with 8 Axes>"
      ]
     },
     "metadata": {},
     "output_type": "display_data"
    }
   ],
   "source": [
    "#Visualization of the binerized features distributions\n",
    "\n",
    "fig, axs = plt.subplots(4, 2, figsize=(18,20))\n",
    "axs = axs.flatten()\n",
    "for n,column_name in enumerate(df_bin.columns):\n",
    "    df_bin[column_name].value_counts().plot(kind='bar', title = column_name, ax = axs[n-1])\n"
   ]
  },
  {
   "cell_type": "markdown",
   "metadata": {},
   "source": [
    "I bin sono stati creati correttamente"
   ]
  },
  {
   "cell_type": "markdown",
   "metadata": {},
   "source": [
    "## Network\n"
   ]
  },
  {
   "cell_type": "markdown",
   "metadata": {},
   "source": [
    "\"In this chapter both the structure of the network, created from scratch by analyzing scientific papers related to the topic, and the parameter learning process are taken into account.\n",
    "\n",
    "In particular, a variety of methods related to the analysis of Bayesian Networks are explored.\""
   ]
  },
  {
   "cell_type": "markdown",
   "metadata": {},
   "source": [
    "### Showing the network\n",
    "\n",
    "A graphical preliminary overview of the network is shown using the visual library of pgmpy, the acronyms related to dataset attributes are the followings:\n",
    "\n",
    "...\n"
   ]
  },
  {
   "cell_type": "code",
   "execution_count": 32,
   "metadata": {},
   "outputs": [
    {
     "name": "stdout",
     "output_type": "stream",
     "text": [
      "Requirement already satisfied: daft in /Users/lorenzovenieri/.pyenv/versions/3.10.7/lib/python3.10/site-packages (0.1.2)\n",
      "Requirement already satisfied: matplotlib in /Users/lorenzovenieri/.pyenv/versions/3.10.7/lib/python3.10/site-packages (from daft) (3.6.0)\n",
      "Requirement already satisfied: setuptools in /Users/lorenzovenieri/.pyenv/versions/3.10.7/lib/python3.10/site-packages (from daft) (63.2.0)\n",
      "Requirement already satisfied: numpy in /Users/lorenzovenieri/.pyenv/versions/3.10.7/lib/python3.10/site-packages (from daft) (1.23.4)\n",
      "Requirement already satisfied: pyparsing>=2.2.1 in /Users/lorenzovenieri/.pyenv/versions/3.10.7/lib/python3.10/site-packages (from matplotlib->daft) (3.0.9)\n",
      "Requirement already satisfied: pillow>=6.2.0 in /Users/lorenzovenieri/.pyenv/versions/3.10.7/lib/python3.10/site-packages (from matplotlib->daft) (9.3.0)\n",
      "Requirement already satisfied: cycler>=0.10 in /Users/lorenzovenieri/.pyenv/versions/3.10.7/lib/python3.10/site-packages (from matplotlib->daft) (0.11.0)\n",
      "Requirement already satisfied: python-dateutil>=2.7 in /Users/lorenzovenieri/.pyenv/versions/3.10.7/lib/python3.10/site-packages (from matplotlib->daft) (2.8.2)\n",
      "Requirement already satisfied: contourpy>=1.0.1 in /Users/lorenzovenieri/.pyenv/versions/3.10.7/lib/python3.10/site-packages (from matplotlib->daft) (1.0.6)\n",
      "Requirement already satisfied: fonttools>=4.22.0 in /Users/lorenzovenieri/.pyenv/versions/3.10.7/lib/python3.10/site-packages (from matplotlib->daft) (4.38.0)\n",
      "Requirement already satisfied: kiwisolver>=1.0.1 in /Users/lorenzovenieri/.pyenv/versions/3.10.7/lib/python3.10/site-packages (from matplotlib->daft) (1.4.4)\n",
      "Requirement already satisfied: packaging>=20.0 in /Users/lorenzovenieri/.pyenv/versions/3.10.7/lib/python3.10/site-packages (from matplotlib->daft) (21.3)\n",
      "Requirement already satisfied: six>=1.5 in /Users/lorenzovenieri/.pyenv/versions/3.10.7/lib/python3.10/site-packages (from python-dateutil>=2.7->matplotlib->daft) (1.16.0)\n",
      "Note: you may need to restart the kernel to use updated packages.\n"
     ]
    }
   ],
   "source": [
    "%pip install daft"
   ]
  },
  {
   "cell_type": "code",
   "execution_count": 80,
   "metadata": {},
   "outputs": [
    {
     "data": {
      "image/png": "[encoded data removed]",
      "text/plain": [
       "<Figure size 291.339x291.339 with 1 Axes>"
      ]
     },
     "metadata": {},
     "output_type": "display_data"
    }
   ],
   "source": [
    "import daft\n",
    "import matplotlib.pyplot as plt\n",
    "from daft import PGM\n",
    "\n",
    "pgm = PGM()\n",
    "\n",
    "pgm.add_node(daft.Node('Age', \"Age\", 2, 4))\n",
    "pgm.add_node(daft.Node('DPF', \"DPF\", 3, 4))\n",
    "pgm.add_node(daft.Node('BMI', \"BMI\", 4, 4))\n",
    "\n",
    "pgm.add_node(daft.Node('Pr', \"Pr\", 1, 3.5))\n",
    "\n",
    "pgm.add_node(daft.Node('Diab', \"Diab\", 2, 3))\n",
    "\n",
    "pgm.add_node(daft.Node('Glu', \"Glu\", 1, 2))\n",
    "pgm.add_node(daft.Node('Ins', \"Ins\", 2, 2))\n",
    "\n",
    "pgm.add_node(daft.Node('BP', \"BP\", 3, 1))\n",
    "pgm.add_node(daft.Node('ST', \"ST\", 4, 1))\n",
    "\n",
    "pgm.add_edge('Age', 'Pr')\n",
    "pgm.add_edge('Pr', 'Diab')\n",
    "pgm.add_edge('DPF', 'Diab')\n",
    "pgm.add_edge('Age', 'Diab')\n",
    "pgm.add_edge('BMI','Diab')\n",
    "pgm.add_edge('BMI','ST')\n",
    "pgm.add_edge('BMI', 'BP')\n",
    "pgm.add_edge('Diab', 'Glu')\n",
    "pgm.add_edge('Diab', 'Ins')\n",
    "pgm.add_edge('Glu', 'BP')\n",
    "pgm.add_edge('Ins', 'BP')\n",
    "\n",
    "pgm.render()\n",
    "plt.show()"
   ]
  },
  {
   "cell_type": "markdown",
   "metadata": {},
   "source": [
    "Examples of connections between nodes (e.g. direct cause, causal trail) refering to this specific Network are here shown:\n",
    "\n",
    "#Direct cause\n",
    "\n",
    "#Causal trail\n",
    "\n",
    "#Common effect"
   ]
  },
  {
   "cell_type": "markdown",
   "metadata": {},
   "source": [
    "## Creating the network\n",
    "\n",
    "Connections between nodes have been implemented from scratch refering to a variety of scientific medical sources. Being the causal links in the medical field particularly challenging to model (i.e. often a huge variety of attributes are interlaced, causing directly or indirectly effects on each others) in this work only links that have been considered particularly relevant were defined.\n",
    "\n",
    "Some of the connections are here explained and referenced:\n"
   ]
  },
  {
   "cell_type": "code",
   "execution_count": 81,
   "metadata": {},
   "outputs": [],
   "source": [
    "import pgmpy\n",
    "from pgmpy.models import BayesianNetwork\n",
    "\n",
    "model = BayesianNetwork([('Age','Pregnancies'),('Pregnancies', 'Diabetes'),('DiabetesPedigreeFunction', 'Diabetes'),('Age', 'Diabetes'),('BMI','Diabetes'),\n",
    "('BMI','SkinThickness'),('BMI', 'BloodPressure'),('Diabetes', 'Glucose'),('Diabetes', 'Insulin'),('Glucose', 'BloodPressure'),('Insulin','BloodPressure')])"
   ]
  },
  {
   "cell_type": "markdown",
   "metadata": {},
   "source": [
    "###Analyzing the network\n",
    "\n",
    "Follows a series of experiments done on the network by applying a variety of methods provided by the pgmpy library in order to see in practice all the concepts addressed during the course."
   ]
  },
  {
   "cell_type": "code",
   "execution_count": 82,
   "metadata": {},
   "outputs": [
    {
     "data": {
      "text/plain": [
       "NodeView(('Age', 'Pregnancies', 'Diabetes', 'DiabetesPedigreeFunction', 'BMI', 'SkinThickness', 'BloodPressure', 'Glucose', 'Insulin'))"
      ]
     },
     "execution_count": 82,
     "metadata": {},
     "output_type": "execute_result"
    }
   ],
   "source": [
    "# Showing all the nodes of the model\n",
    "model.nodes()"
   ]
  },
  {
   "cell_type": "code",
   "execution_count": 83,
   "metadata": {},
   "outputs": [
    {
     "data": {
      "text/plain": [
       "OutEdgeView([('Age', 'Pregnancies'), ('Age', 'Diabetes'), ('Pregnancies', 'Diabetes'), ('Diabetes', 'Glucose'), ('Diabetes', 'Insulin'), ('DiabetesPedigreeFunction', 'Diabetes'), ('BMI', 'Diabetes'), ('BMI', 'SkinThickness'), ('BMI', 'BloodPressure'), ('Glucose', 'BloodPressure'), ('Insulin', 'BloodPressure')])"
      ]
     },
     "execution_count": 83,
     "metadata": {},
     "output_type": "execute_result"
    }
   ],
   "source": [
    "# Showing all the edges of the model\n",
    "model.edges()"
   ]
  },
  {
   "cell_type": "code",
   "execution_count": 84,
   "metadata": {},
   "outputs": [
    {
     "data": {
      "text/plain": [
       "(Diabetes ⟂ SkinThickness | DiabetesPedigreeFunction, Age, BMI, Pregnancies)"
      ]
     },
     "execution_count": 84,
     "metadata": {},
     "output_type": "execute_result"
    }
   ],
   "source": [
    "# Local independecies of a single node\n",
    "model.local_independencies(\"Diabetes\")"
   ]
  },
  {
   "cell_type": "code",
   "execution_count": 85,
   "metadata": {},
   "outputs": [
    {
     "data": {
      "text/plain": [
       "(SkinThickness ⟂ DiabetesPedigreeFunction, Age, Diabetes, Insulin, Glucose, BloodPressure, Pregnancies | BMI)"
      ]
     },
     "execution_count": 85,
     "metadata": {},
     "output_type": "execute_result"
    }
   ],
   "source": [
    "model.local_independencies(\"SkinThickness\")"
   ]
  },
  {
   "cell_type": "code",
   "execution_count": 86,
   "metadata": {},
   "outputs": [
    {
     "name": "stdout",
     "output_type": "stream",
     "text": [
      "False\n",
      "False\n"
     ]
    }
   ],
   "source": [
    "# Checking d-separation between variables with and without evidence\n",
    "# Two sets of nodes X, Y are d-separated given Z if there is no active trail between any x ∈ X and y ∈ Y given Z\n",
    "\n",
    "print(model.is_dconnected(\"Glucose\", \"Insuline\"))\n",
    "print(model.is_dconnected(\"Glucose\", \"Insuline\",observed=[\"Diabetes\"] ))"
   ]
  },
  {
   "cell_type": "code",
   "execution_count": 87,
   "metadata": {},
   "outputs": [
    {
     "name": "stdout",
     "output_type": "stream",
     "text": [
      "Node Glucose is irrelevant with resepect to Insuline given the evidence Diabetes\n"
     ]
    }
   ],
   "source": [
    "# Function is_irrelevant recalls the definition of irrelevance given during the course \n",
    "\n",
    "def is_irrelevant(node1,node2,evidence):\n",
    "  if ((node2 in (model.get_ancestral_graph(node1)and model.get_ancestral_graph(evidence))) and model.is_dconnected(node1, node2,observed=evidence )):\n",
    "    print(\"Node\", node1, \"is not irrelevant with resepect to\", node2, \"given the evidence\", evidence)\n",
    "  else:\n",
    "    print(\"Node\", node1, \"is irrelevant with resepect to\", node2, \"given the evidence\", evidence)\n",
    "\n",
    "is_irrelevant(\"Glucose\", \"Insuline\", \"Diabetes\")"
   ]
  },
  {
   "cell_type": "code",
   "execution_count": 88,
   "metadata": {},
   "outputs": [
    {
     "data": {
      "text/plain": [
       "{'BloodPressure': {'Age',\n",
       "  'BMI',\n",
       "  'BloodPressure',\n",
       "  'DiabetesPedigreeFunction',\n",
       "  'Glucose',\n",
       "  'Insulin',\n",
       "  'Pregnancies',\n",
       "  'SkinThickness'}}"
      ]
     },
     "execution_count": 88,
     "metadata": {},
     "output_type": "execute_result"
    }
   ],
   "source": [
    "# Checking active trails from blood pressure given the evidence diabetes\n",
    "model.active_trail_nodes('BloodPressure', observed='Diabetes')"
   ]
  },
  {
   "cell_type": "code",
   "execution_count": 89,
   "metadata": {},
   "outputs": [
    {
     "data": {
      "text/plain": [
       "['Insulin', 'Glucose', 'BMI']"
      ]
     },
     "execution_count": 89,
     "metadata": {},
     "output_type": "execute_result"
    }
   ],
   "source": [
    "# Checking the markov blanket of the node BloodPressure\n",
    "model.get_markov_blanket(\"BloodPressure\")"
   ]
  },
  {
   "cell_type": "markdown",
   "metadata": {},
   "source": [
    "### Parameter learning\n",
    "\n",
    "Learning Bayesian networks from data, knowing the structure of the network, boils down to parameter estimation. In pgmpy a variety of estimators is available, going from IVestimator to SEMestimator, but the main choice for this problem fell on two of them: Maximum Likelihood and Bayesian Estimator.\n",
    "\n",
    "MLE, which depends solely on the outcomes of observed data, could be a reasonable simple starting point, however, it is notorious for becoming easily biased when the data is minimal. Moreover, in situations where observed data is sparse, Bayesian estimation’s incorporation of prior knowledge can help in attaining a more accurate model. \n",
    "\n",
    "On the other hand, unreliable priors can lead to a slippery slope of highly biased models that require large amounts of seen data to remedy; so priors need to be well defined and contain relevant insight to the problem in order to avoid that. \n",
    "\n",
    "Taken into consideration pros and cons of both approaches, given the minimal dataset used for this work the Bayesian Estimator is choosen.\n",
    "\n",
    "Pgmpy also offer a variety of possible priors, among them a possible choice is Bayesian Dirichlet equivalent uniform prior (BDeu), choosen with its default settings (i.e. equivalent_sample_size equal to 5).\n",
    "\n",
    "In the following cell the parameter estimation process takes place and the learned CPTs are shown."
   ]
  },
  {
   "cell_type": "code",
   "execution_count": 43,
   "metadata": {},
   "outputs": [],
   "source": [
    "from pgmpy.estimators import BayesianEstimator"
   ]
  },
  {
   "cell_type": "code",
   "execution_count": 46,
   "metadata": {},
   "outputs": [],
   "source": [
    "df = df_bin.rename(columns = {'Outcome':'Diabetes'}) #column names and node names must be the same"
   ]
  },
  {
   "cell_type": "code",
   "execution_count": 47,
   "metadata": {},
   "outputs": [
    {
     "data": {
      "text/html": [
       "<div>\n",
       "<style scoped>\n",
       "    .dataframe tbody tr th:only-of-type {\n",
       "        vertical-align: middle;\n",
       "    }\n",
       "\n",
       "    .dataframe tbody tr th {\n",
       "        vertical-align: top;\n",
       "    }\n",
       "\n",
       "    .dataframe thead th {\n",
       "        text-align: right;\n",
       "    }\n",
       "</style>\n",
       "<table border=\"1\" class=\"dataframe\">\n",
       "  <thead>\n",
       "    <tr style=\"text-align: right;\">\n",
       "      <th></th>\n",
       "      <th>Pregnancies</th>\n",
       "      <th>Glucose</th>\n",
       "      <th>BloodPressure</th>\n",
       "      <th>SkinThickness</th>\n",
       "      <th>Insulin</th>\n",
       "      <th>BMI</th>\n",
       "      <th>DiabetesPedigreeFunction</th>\n",
       "      <th>Age</th>\n",
       "      <th>Diabetes</th>\n",
       "    </tr>\n",
       "  </thead>\n",
       "  <tbody>\n",
       "    <tr>\n",
       "      <th>0</th>\n",
       "      <td>0-3</td>\n",
       "      <td>70-100</td>\n",
       "      <td>30-60</td>\n",
       "      <td>15-30</td>\n",
       "      <td>50-120</td>\n",
       "      <td>19-25</td>\n",
       "      <td>0.2-0.3</td>\n",
       "      <td>20-30</td>\n",
       "      <td>0</td>\n",
       "    </tr>\n",
       "    <tr>\n",
       "      <th>1</th>\n",
       "      <td>6-11</td>\n",
       "      <td>100-140</td>\n",
       "      <td>85-90</td>\n",
       "      <td>30-40</td>\n",
       "      <td>50-120</td>\n",
       "      <td>30+</td>\n",
       "      <td>0.3-0.5</td>\n",
       "      <td>40-50</td>\n",
       "      <td>0</td>\n",
       "    </tr>\n",
       "    <tr>\n",
       "      <th>2</th>\n",
       "      <td>6-11</td>\n",
       "      <td>100-140</td>\n",
       "      <td>60-80</td>\n",
       "      <td>30-40</td>\n",
       "      <td>250+</td>\n",
       "      <td>30+</td>\n",
       "      <td>0.2-0.3</td>\n",
       "      <td>30-40</td>\n",
       "      <td>0</td>\n",
       "    </tr>\n",
       "    <tr>\n",
       "      <th>3</th>\n",
       "      <td>0-3</td>\n",
       "      <td>70-100</td>\n",
       "      <td>60-80</td>\n",
       "      <td>15-30</td>\n",
       "      <td>50-120</td>\n",
       "      <td>30+</td>\n",
       "      <td>0.3-0.5</td>\n",
       "      <td>20-30</td>\n",
       "      <td>0</td>\n",
       "    </tr>\n",
       "    <tr>\n",
       "      <th>4</th>\n",
       "      <td>0-3</td>\n",
       "      <td>100-140</td>\n",
       "      <td>60-80</td>\n",
       "      <td>15-30</td>\n",
       "      <td>120-150</td>\n",
       "      <td>30+</td>\n",
       "      <td>0.5-0.7</td>\n",
       "      <td>20-30</td>\n",
       "      <td>0</td>\n",
       "    </tr>\n",
       "  </tbody>\n",
       "</table>\n",
       "</div>"
      ],
      "text/plain": [
       "  Pregnancies  Glucose BloodPressure SkinThickness  Insulin    BMI  \\\n",
       "0         0-3   70-100         30-60         15-30   50-120  19-25   \n",
       "1        6-11  100-140         85-90         30-40   50-120    30+   \n",
       "2        6-11  100-140         60-80         30-40     250+    30+   \n",
       "3         0-3   70-100         60-80         15-30   50-120    30+   \n",
       "4         0-3  100-140         60-80         15-30  120-150    30+   \n",
       "\n",
       "  DiabetesPedigreeFunction    Age  Diabetes  \n",
       "0                  0.2-0.3  20-30         0  \n",
       "1                  0.3-0.5  40-50         0  \n",
       "2                  0.2-0.3  30-40         0  \n",
       "3                  0.3-0.5  20-30         0  \n",
       "4                  0.5-0.7  20-30         0  "
      ]
     },
     "execution_count": 47,
     "metadata": {},
     "output_type": "execute_result"
    }
   ],
   "source": [
    "df.head()"
   ]
  },
  {
   "cell_type": "code",
   "execution_count": 91,
   "metadata": {},
   "outputs": [
    {
     "name": "stdout",
     "output_type": "stream",
     "text": [
      "CPT of Age:\n",
      "+------------+-----------+\n",
      "| Age(20-30) | 0.573816  |\n",
      "+------------+-----------+\n",
      "| Age(30-40) | 0.197772  |\n",
      "+------------+-----------+\n",
      "| Age(40-50) | 0.13649   |\n",
      "+------------+-----------+\n",
      "| Age(50-60) | 0.0752089 |\n",
      "+------------+-----------+\n",
      "| Age(60+)   | 0.0167131 |\n",
      "+------------+-----------+ \n",
      "\n",
      "CPT of Pregnancies:\n",
      "+-------------------+-----+----------------------+\n",
      "| Age               | ... | Age(60+)             |\n",
      "+-------------------+-----+----------------------+\n",
      "| Pregnancies(0-3)  | ... | 0.20833333333333334  |\n",
      "+-------------------+-----+----------------------+\n",
      "| Pregnancies(11+)  | ... | 0.041666666666666664 |\n",
      "+-------------------+-----+----------------------+\n",
      "| Pregnancies(3-6)  | ... | 0.20833333333333334  |\n",
      "+-------------------+-----+----------------------+\n",
      "| Pregnancies(6-11) | ... | 0.5416666666666666   |\n",
      "+-------------------+-----+----------------------+ \n",
      "\n",
      "CPT of Diabetes:\n",
      "+--------------------------+-----+--------------------------------+\n",
      "| Age                      | ... | Age(60+)                       |\n",
      "+--------------------------+-----+--------------------------------+\n",
      "| BMI                      | ... | BMI(30+)                       |\n",
      "+--------------------------+-----+--------------------------------+\n",
      "| DiabetesPedigreeFunction | ... | DiabetesPedigreeFunction(0.9+) |\n",
      "+--------------------------+-----+--------------------------------+\n",
      "| Pregnancies              | ... | Pregnancies(6-11)              |\n",
      "+--------------------------+-----+--------------------------------+\n",
      "| Diabetes(0)              | ... | 0.5                            |\n",
      "+--------------------------+-----+--------------------------------+\n",
      "| Diabetes(1)              | ... | 0.5                            |\n",
      "+--------------------------+-----+--------------------------------+ \n",
      "\n",
      "CPT of DiabetesPedigreeFunction:\n",
      "+-----------------------------------+----------+\n",
      "| DiabetesPedigreeFunction(0-0.2)   | 0.122098 |\n",
      "+-----------------------------------+----------+\n",
      "| DiabetesPedigreeFunction(0.2-0.3) | 0.161096 |\n",
      "+-----------------------------------+----------+\n",
      "| DiabetesPedigreeFunction(0.3-0.5) | 0.241876 |\n",
      "+-----------------------------------+----------+\n",
      "| DiabetesPedigreeFunction(0.5-0.7) | 0.219591 |\n",
      "+-----------------------------------+----------+\n",
      "| DiabetesPedigreeFunction(0.7-0.9) | 0.110956 |\n",
      "+-----------------------------------+----------+\n",
      "| DiabetesPedigreeFunction(0.9+)    | 0.144383 |\n",
      "+-----------------------------------+----------+ \n",
      "\n",
      "CPT of BMI:\n",
      "+------------+----------+\n",
      "| BMI(19-25) | 0.082637 |\n",
      "+------------+----------+\n",
      "| BMI(25-30) | 0.238626 |\n",
      "+------------+----------+\n",
      "| BMI(30+)   | 0.678737 |\n",
      "+------------+----------+ \n",
      "\n",
      "CPT of SkinThickness:\n",
      "+----------------------+-----+----------------------+\n",
      "| BMI                  | ... | BMI(30+)             |\n",
      "+----------------------+-----+----------------------+\n",
      "| SkinThickness(15-30) | ... | 0.375170998632011    |\n",
      "+----------------------+-----+----------------------+\n",
      "| SkinThickness(30-40) | ... | 0.39569083447332426  |\n",
      "+----------------------+-----+----------------------+\n",
      "| SkinThickness(40+)   | ... | 0.2110123119015048   |\n",
      "+----------------------+-----+----------------------+\n",
      "| SkinThickness(7-15)  | ... | 0.018125854993160058 |\n",
      "+----------------------+-----+----------------------+ \n",
      "\n",
      "CPT of BloodPressure:\n",
      "+------------------------+-----+-----------------------+\n",
      "| BMI                    | ... | BMI(30+)              |\n",
      "+------------------------+-----+-----------------------+\n",
      "| Glucose                | ... | Glucose(70-100)       |\n",
      "+------------------------+-----+-----------------------+\n",
      "| Insulin                | ... | Insulin(50-120)       |\n",
      "+------------------------+-----+-----------------------+\n",
      "| BloodPressure(100-110) | ... | 0.0004963271788763151 |\n",
      "+------------------------+-----+-----------------------+\n",
      "| BloodPressure(30-60)   | ... | 0.35427834028191374   |\n",
      "+------------------------+-----+-----------------------+\n",
      "| BloodPressure(60-80)   | ... | 0.5472503474290251    |\n",
      "+------------------------+-----+-----------------------+\n",
      "| BloodPressure(80-85)   | ... | 0.03265832837006154   |\n",
      "+------------------------+-----+-----------------------+\n",
      "| BloodPressure(85-90)   | ... | 0.06482032956124675   |\n",
      "+------------------------+-----+-----------------------+\n",
      "| BloodPressure(90-100)  | ... | 0.0004963271788763151 |\n",
      "+------------------------+-----+-----------------------+ \n",
      "\n",
      "CPT of Glucose:\n",
      "+------------------+---------------------+---------------------+\n",
      "| Diabetes         | Diabetes(0)         | Diabetes(1)         |\n",
      "+------------------+---------------------+---------------------+\n",
      "| Glucose(100-140) | 0.4781801299907149  | 0.38904363974001854 |\n",
      "+------------------+---------------------+---------------------+\n",
      "| Glucose(140-200) | 0.12163416898792943 | 0.5171773444753945  |\n",
      "+------------------+---------------------+---------------------+\n",
      "| Glucose(70-100)  | 0.4001857010213556  | 0.0937790157845868  |\n",
      "+------------------+---------------------+---------------------+ \n",
      "\n",
      "CPT of Insulin:\n",
      "+------------------+----------------------+---------------------+\n",
      "| Diabetes         | Diabetes(0)          | Diabetes(1)         |\n",
      "+------------------+----------------------+---------------------+\n",
      "| Insulin(0-25)    | 0.007892293407613743 | 0.2697307335190343  |\n",
      "+------------------+----------------------+---------------------+\n",
      "| Insulin(120-150) | 0.10259981429897864  | 0.13045496750232127 |\n",
      "+------------------+----------------------+---------------------+\n",
      "| Insulin(150-250) | 0.1583101207056639   | 0.28087279480037136 |\n",
      "+------------------+----------------------+---------------------+\n",
      "| Insulin(25-50)   | 0.08588672237697308  | 0.01903435468895079 |\n",
      "+------------------+----------------------+---------------------+\n",
      "| Insulin(250+)    | 0.1137418755803157   | 0.1638811513463324  |\n",
      "+------------------+----------------------+---------------------+\n",
      "| Insulin(50-120)  | 0.531569173630455    | 0.1360259981429898  |\n",
      "+------------------+----------------------+---------------------+ \n",
      "\n",
      "CPT of Age:\n",
      "+------------+-----------+\n",
      "| Age(20-30) | 0.573816  |\n",
      "+------------+-----------+\n",
      "| Age(30-40) | 0.197772  |\n",
      "+------------+-----------+\n",
      "| Age(40-50) | 0.13649   |\n",
      "+------------+-----------+\n",
      "| Age(50-60) | 0.0752089 |\n",
      "+------------+-----------+\n",
      "| Age(60+)   | 0.0167131 |\n",
      "+------------+-----------+ \n",
      "\n",
      "CPT of Pregnancies:\n",
      "+-------------------+-----+----------------------+\n",
      "| Age               | ... | Age(60+)             |\n",
      "+-------------------+-----+----------------------+\n",
      "| Pregnancies(0-3)  | ... | 0.20833333333333334  |\n",
      "+-------------------+-----+----------------------+\n",
      "| Pregnancies(11+)  | ... | 0.041666666666666664 |\n",
      "+-------------------+-----+----------------------+\n",
      "| Pregnancies(3-6)  | ... | 0.20833333333333334  |\n",
      "+-------------------+-----+----------------------+\n",
      "| Pregnancies(6-11) | ... | 0.5416666666666666   |\n",
      "+-------------------+-----+----------------------+ \n",
      "\n",
      "CPT of Diabetes:\n",
      "+--------------------------+-----+--------------------------------+\n",
      "| Age                      | ... | Age(60+)                       |\n",
      "+--------------------------+-----+--------------------------------+\n",
      "| BMI                      | ... | BMI(30+)                       |\n",
      "+--------------------------+-----+--------------------------------+\n",
      "| DiabetesPedigreeFunction | ... | DiabetesPedigreeFunction(0.9+) |\n",
      "+--------------------------+-----+--------------------------------+\n",
      "| Pregnancies              | ... | Pregnancies(6-11)              |\n",
      "+--------------------------+-----+--------------------------------+\n",
      "| Diabetes(0)              | ... | 0.5                            |\n",
      "+--------------------------+-----+--------------------------------+\n",
      "| Diabetes(1)              | ... | 0.5                            |\n",
      "+--------------------------+-----+--------------------------------+ \n",
      "\n",
      "CPT of DiabetesPedigreeFunction:\n",
      "+-----------------------------------+----------+\n",
      "| DiabetesPedigreeFunction(0-0.2)   | 0.122098 |\n",
      "+-----------------------------------+----------+\n",
      "| DiabetesPedigreeFunction(0.2-0.3) | 0.161096 |\n",
      "+-----------------------------------+----------+\n",
      "| DiabetesPedigreeFunction(0.3-0.5) | 0.241876 |\n",
      "+-----------------------------------+----------+\n",
      "| DiabetesPedigreeFunction(0.5-0.7) | 0.219591 |\n",
      "+-----------------------------------+----------+\n",
      "| DiabetesPedigreeFunction(0.7-0.9) | 0.110956 |\n",
      "+-----------------------------------+----------+\n",
      "| DiabetesPedigreeFunction(0.9+)    | 0.144383 |\n",
      "+-----------------------------------+----------+ \n",
      "\n",
      "CPT of BMI:\n",
      "+------------+----------+\n",
      "| BMI(19-25) | 0.082637 |\n",
      "+------------+----------+\n",
      "| BMI(25-30) | 0.238626 |\n",
      "+------------+----------+\n",
      "| BMI(30+)   | 0.678737 |\n",
      "+------------+----------+ \n",
      "\n",
      "CPT of SkinThickness:\n",
      "+----------------------+-----+----------------------+\n",
      "| BMI                  | ... | BMI(30+)             |\n",
      "+----------------------+-----+----------------------+\n",
      "| SkinThickness(15-30) | ... | 0.375170998632011    |\n",
      "+----------------------+-----+----------------------+\n",
      "| SkinThickness(30-40) | ... | 0.39569083447332426  |\n",
      "+----------------------+-----+----------------------+\n",
      "| SkinThickness(40+)   | ... | 0.2110123119015048   |\n",
      "+----------------------+-----+----------------------+\n",
      "| SkinThickness(7-15)  | ... | 0.018125854993160058 |\n",
      "+----------------------+-----+----------------------+ \n",
      "\n",
      "CPT of BloodPressure:\n",
      "+------------------------+-----+-----------------------+\n",
      "| BMI                    | ... | BMI(30+)              |\n",
      "+------------------------+-----+-----------------------+\n",
      "| Glucose                | ... | Glucose(70-100)       |\n",
      "+------------------------+-----+-----------------------+\n",
      "| Insulin                | ... | Insulin(50-120)       |\n",
      "+------------------------+-----+-----------------------+\n",
      "| BloodPressure(100-110) | ... | 0.0004963271788763151 |\n",
      "+------------------------+-----+-----------------------+\n",
      "| BloodPressure(30-60)   | ... | 0.35427834028191374   |\n",
      "+------------------------+-----+-----------------------+\n",
      "| BloodPressure(60-80)   | ... | 0.5472503474290251    |\n",
      "+------------------------+-----+-----------------------+\n",
      "| BloodPressure(80-85)   | ... | 0.03265832837006154   |\n",
      "+------------------------+-----+-----------------------+\n",
      "| BloodPressure(85-90)   | ... | 0.06482032956124675   |\n",
      "+------------------------+-----+-----------------------+\n",
      "| BloodPressure(90-100)  | ... | 0.0004963271788763151 |\n",
      "+------------------------+-----+-----------------------+ \n",
      "\n",
      "CPT of Glucose:\n",
      "+------------------+---------------------+---------------------+\n",
      "| Diabetes         | Diabetes(0)         | Diabetes(1)         |\n",
      "+------------------+---------------------+---------------------+\n",
      "| Glucose(100-140) | 0.4781801299907149  | 0.38904363974001854 |\n",
      "+------------------+---------------------+---------------------+\n",
      "| Glucose(140-200) | 0.12163416898792943 | 0.5171773444753945  |\n",
      "+------------------+---------------------+---------------------+\n",
      "| Glucose(70-100)  | 0.4001857010213556  | 0.0937790157845868  |\n",
      "+------------------+---------------------+---------------------+ \n",
      "\n",
      "CPT of Insulin:\n",
      "+------------------+----------------------+---------------------+\n",
      "| Diabetes         | Diabetes(0)          | Diabetes(1)         |\n",
      "+------------------+----------------------+---------------------+\n",
      "| Insulin(0-25)    | 0.007892293407613743 | 0.2697307335190343  |\n",
      "+------------------+----------------------+---------------------+\n",
      "| Insulin(120-150) | 0.10259981429897864  | 0.13045496750232127 |\n",
      "+------------------+----------------------+---------------------+\n",
      "| Insulin(150-250) | 0.1583101207056639   | 0.28087279480037136 |\n",
      "+------------------+----------------------+---------------------+\n",
      "| Insulin(25-50)   | 0.08588672237697308  | 0.01903435468895079 |\n",
      "+------------------+----------------------+---------------------+\n",
      "| Insulin(250+)    | 0.1137418755803157   | 0.1638811513463324  |\n",
      "+------------------+----------------------+---------------------+\n",
      "| Insulin(50-120)  | 0.531569173630455    | 0.1360259981429898  |\n",
      "+------------------+----------------------+---------------------+ \n",
      "\n"
     ]
    }
   ],
   "source": [
    "model.cpds = []\n",
    "model.fit(data=df, estimator=BayesianEstimator, prior_type=\"BDeu\")\n",
    "\n",
    "for cpd in model.get_cpds():\n",
    "    print(f'CPT of {cpd.variable}:')\n",
    "    print(cpd, '\\n')\n",
    "model.cpds = []\n",
    "model.fit(data=df, estimator=BayesianEstimator, prior_type=\"BDeu\")\n",
    "\n",
    "for cpd in model.get_cpds():\n",
    "    print(f'CPT of {cpd.variable}:')\n",
    "    print(cpd, '\\n')"
   ]
  },
  {
   "cell_type": "code",
   "execution_count": 93,
   "metadata": {},
   "outputs": [
    {
     "data": {
      "text/plain": [
       "True"
      ]
     },
     "execution_count": 93,
     "metadata": {},
     "output_type": "execute_result"
    }
   ],
   "source": [
    "# Checking the validity of the model \n",
    "# This method checks if the sum of the probabilities for each state is equal to 1 (tol=0.01) and if the CPDs associated with nodes are consistent with their parents.\n",
    "model.check_model()"
   ]
  },
  {
   "cell_type": "code",
   "execution_count": 92,
   "metadata": {},
   "outputs": [
    {
     "data": {
      "text/plain": [
       "defaultdict(int,\n",
       "            {'Age': 5,\n",
       "             'Pregnancies': 4,\n",
       "             'Diabetes': 2,\n",
       "             'DiabetesPedigreeFunction': 6,\n",
       "             'BMI': 3,\n",
       "             'SkinThickness': 4,\n",
       "             'BloodPressure': 6,\n",
       "             'Glucose': 3,\n",
       "             'Insulin': 6})"
      ]
     },
     "execution_count": 92,
     "metadata": {},
     "output_type": "execute_result"
    }
   ],
   "source": [
    "#Cardinality of all model nodes\n",
    "model.get_cardinality()"
   ]
  },
  {
   "cell_type": "markdown",
   "metadata": {},
   "source": [
    "## Inferences\n",
    "\n",
    "Pgmpy allows to develop both exact and approximate inference on the Bayesian Network, in particular in this section both are presented exploring a variety of different methods related."
   ]
  },
  {
   "cell_type": "markdown",
   "metadata": {},
   "source": [
    "### Exact inference\n",
    "\n",
    "Exact Inference in pgmpy is implemented through the Variable Elimination Method and Belief Propagation rather than with simple enumeration; being one of the purpouses of this work exploring topics seen in class, the former is choosen.\n"
   ]
  },
  {
   "cell_type": "code",
   "execution_count": 98,
   "metadata": {},
   "outputs": [],
   "source": [
    "from pgmpy.inference import VariableElimination\n",
    "infer = VariableElimination(model)"
   ]
  },
  {
   "cell_type": "code",
   "execution_count": 99,
   "metadata": {},
   "outputs": [
    {
     "name": "stdout",
     "output_type": "stream",
     "text": [
      "Probability of having diabetes with 0 to 3 pregnancies:\n",
      "+-------------+-----------------+\n",
      "| Diabetes    |   phi(Diabetes) |\n",
      "+=============+=================+\n",
      "| Diabetes(0) |          0.5797 |\n",
      "+-------------+-----------------+\n",
      "| Diabetes(1) |          0.4203 |\n",
      "+-------------+-----------------+\n",
      "Probability of having diabetes with more than 11 pregnancies:\n",
      "+-------------+-----------------+\n",
      "| Diabetes    |   phi(Diabetes) |\n",
      "+=============+=================+\n",
      "| Diabetes(0) |          0.3647 |\n",
      "+-------------+-----------------+\n",
      "| Diabetes(1) |          0.6353 |\n",
      "+-------------+-----------------+\n"
     ]
    }
   ],
   "source": [
    "#Causal inference (prediction): probability that the patient has diabetes given her number of pregnancies\n",
    "print('Probability of having diabetes with 0 to 3 pregnancies:')\n",
    "print(infer.query([\"Diabetes\"],evidence={\"Pregnancies\": '0-3'}))\n",
    "\n",
    "print('Probability of having diabetes with more than 11 pregnancies:')\n",
    "print(infer.query([\"Diabetes\"],evidence={\"Pregnancies\": '11+'}))"
   ]
  },
  {
   "cell_type": "code",
   "execution_count": 100,
   "metadata": {},
   "outputs": [
    {
     "name": "stdout",
     "output_type": "stream",
     "text": [
      "+-------------+-----------------+\n",
      "| Diabetes    |   phi(Diabetes) |\n",
      "+=============+=================+\n",
      "| Diabetes(0) |          0.4047 |\n",
      "+-------------+-----------------+\n",
      "| Diabetes(1) |          0.5953 |\n",
      "+-------------+-----------------+\n"
     ]
    }
   ],
   "source": [
    "#Evidential inference (explanation): probability of having diabetes given that the patient has very high insulin level\n",
    "print(infer.query([\"Diabetes\"],evidence={\"Insulin\": '250+'}))"
   ]
  },
  {
   "cell_type": "code",
   "execution_count": 101,
   "metadata": {},
   "outputs": [
    {
     "name": "stdout",
     "output_type": "stream",
     "text": [
      "+------------+------------+\n",
      "| BMI        |   phi(BMI) |\n",
      "+============+============+\n",
      "| BMI(19-25) |     0.1628 |\n",
      "+------------+------------+\n",
      "| BMI(25-30) |     0.3293 |\n",
      "+------------+------------+\n",
      "| BMI(30+)   |     0.5078 |\n",
      "+------------+------------+\n"
     ]
    }
   ],
   "source": [
    "#Intercausal inference (explaining away): why she has high blood pressure given the fact that she hasn't diabetes\n",
    "print(infer.query([\"BMI\"],evidence={\"BloodPressure\": '100-110' , \"Diabetes\": 0}))"
   ]
  },
  {
   "cell_type": "markdown",
   "metadata": {},
   "source": [
    "The maximum a posteriori (MAP) queries boil down to finding the most probable configuration (called MAP configuration) of some specific variables of interest (also called MAP variables), given observations of some evidence variables. This is sometimes also referred to as partial abductive inference.\n",
    "\n",
    "The result of MAP queries is (in case of discrete random variables) a single value rather than a probability which encodes the instantiation of the MAP variable with higher probability given the evidence."
   ]
  },
  {
   "cell_type": "code",
   "execution_count": 102,
   "metadata": {},
   "outputs": [
    {
     "name": "stderr",
     "output_type": "stream",
     "text": [
      "Finding Elimination Order: : 100%|██████████| 5/5 [00:00<00:00, 1462.96it/s]\n",
      "Eliminating: Pregnancies: 100%|██████████| 5/5 [00:00<00:00, 362.53it/s]    \n"
     ]
    },
    {
     "name": "stdout",
     "output_type": "stream",
     "text": [
      "{'Insulin': '50-120'}\n"
     ]
    },
    {
     "name": "stderr",
     "output_type": "stream",
     "text": [
      "Finding Elimination Order: : 100%|██████████| 5/5 [00:00<00:00, 1677.32it/s]\n",
      "Eliminating: Diabetes: 100%|██████████| 5/5 [00:00<00:00, 351.91it/s]       \n"
     ]
    },
    {
     "name": "stdout",
     "output_type": "stream",
     "text": [
      "{'Insulin': '50-120'}\n"
     ]
    },
    {
     "name": "stderr",
     "output_type": "stream",
     "text": [
      "Finding Elimination Order: : : 0it [00:00, ?it/s]\n",
      "0it [00:00, ?it/s]"
     ]
    },
    {
     "name": "stdout",
     "output_type": "stream",
     "text": [
      "{'Insulin': '150-250'}\n"
     ]
    },
    {
     "name": "stderr",
     "output_type": "stream",
     "text": [
      "\n"
     ]
    }
   ],
   "source": [
    "#Infer MAP queries\n",
    "print(infer.map_query([\"Insulin\"]))\n",
    "print(infer.map_query([\"Insulin\"], evidence={'Glucose': '70-100'}))\n",
    "print(infer.map_query([\"Insulin\"], evidence={'Diabetes': 1}))"
   ]
  },
  {
   "cell_type": "markdown",
   "metadata": {},
   "source": [
    "## Approximate Inference"
   ]
  },
  {
   "cell_type": "code",
   "execution_count": 76,
   "metadata": {},
   "outputs": [],
   "source": [
    "from pgmpy.inference import ApproxInference\n",
    "from pgmpy.sampling import BayesianModelSampling"
   ]
  },
  {
   "cell_type": "code",
   "execution_count": 77,
   "metadata": {},
   "outputs": [],
   "source": [
    "infer = ApproxInference(model)\n",
    "inference = BayesianModelSampling(model)"
   ]
  },
  {
   "cell_type": "code",
   "execution_count": 2,
   "metadata": {},
   "outputs": [],
   "source": [
    "from pgmpy.estimators import ParameterEstimator"
   ]
  },
  {
   "cell_type": "code",
   "execution_count": null,
   "metadata": {},
   "outputs": [],
   "source": []
  }
 ],
 "metadata": {
  "kernelspec": {
   "display_name": "Python 3.10.7 64-bit ('3.10.7')",
   "language": "python",
   "name": "python3"
  },
  "language_info": {
   "codemirror_mode": {
    "name": "ipython",
    "version": 3
   },
   "file_extension": ".py",
   "mimetype": "text/x-python",
   "name": "python",
   "nbconvert_exporter": "python",
   "pygments_lexer": "ipython3",
   "version": "3.10.7"
  },
  "orig_nbformat": 4,
  "vscode": {
   "interpreter": {
    "hash": "cdd5f81cb89828b42cf0d7750b31b62535b1f52d8f9efda919694d5028cccc65"
   }
  }
 },
 "nbformat": 4,
 "nbformat_minor": 2
}
