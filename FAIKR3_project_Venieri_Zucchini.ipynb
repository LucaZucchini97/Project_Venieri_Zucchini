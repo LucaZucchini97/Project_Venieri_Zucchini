{
 "cells": [
  {
   "cell_type": "markdown",
   "metadata": {},
   "source": [
    "# FAIKR module 3 project\n",
    "\n",
    "### Lorenzo Venieri , Luca Zucchini"
   ]
  },
  {
   "cell_type": "markdown",
   "metadata": {},
   "source": [
    "## Introduction\n",
    "\n",
    "Diabetes is a serious disease affecting millions of people across the entire world. Thus, correct and timely prediction of this disease is very important due to the complications it can have in the case of other life-threatening diseases.\n",
    "\n",
    "Objective of this project is to apply the studied notions about Bayesian Networks to implement a probabilistic model on a dataset built from patients with diabetes."
   ]
  },
  {
   "cell_type": "markdown",
   "metadata": {},
   "source": [
    "## Dataset\n",
    "\n",
    "This dataset is originally from the National Institute of Diabetes and Digestive and Kidney Diseases. The objective of the dataset is to diagnostically predict whether a patient has diabetes, based on certain diagnostic measurements included in the dataset. Several constraints were placed on the selection of these instances from a larger database. In particular, all patients here are females\n",
    "at least 21 years old of Pima Indian heritage.  \n",
    "The Pima (or Akimel O'odham, also spelled Akimel Oʼotham, \"River People,\" formerly known as Pima) are a group of Native Americans living in an area consisting of what is now central and southern Arizona, as well as northwestern Mexico in the states of Sonora and Chihuahua.\n",
    "The diversion of the water and the introduction of non-native diet is said to have been the leading contributing factor in the high rate of diabetes among the Akimel Oʼodham tribe. They have the highest prevalence of type 2 diabetes in the world, much more than is observed in other U.S. populations.    \n",
    "The general increased diabetes prevalence among Native Americans has been hypothesized as the result of the interaction of genetic predisposition (the thrifty phenotype or thrifty genotype), as suggested by anthropologist Robert Ferrell in 1984[13] and a sudden shift in diet during the last century from traditional agricultural crops to processed foods, together with a decline in physical activity.  \n",
    "Between U.S. Pima indians, 34.2% of men and 40.8% of women suffer from diabetes as reported in https://doi.org/10.2337/dc06-0138."
   ]
  },
  {
   "cell_type": "markdown",
   "metadata": {},
   "source": [
    "From the dataset in the .csv file we can find several variables, some of them are independent\n",
    "(several medical predictor variables) and only one target dependent variable (Outcome). It must be emphasized that the dataset makes no distinction between type 1 Diabetes and type 2 Diabetes, during the analysis we tackle this by splitting the '1' values in the Outcome column into two different columns representing, respectively, type 1 and type 2 Diabetes.\n",
    "\n",
    "We have 9 different attributes:\n",
    "1. Pregnancies: number of pregnancies\n",
    "2. Glucose: plasma glucose concentrarion \n",
    "3. BloodPressure: diastolic blood pressure mm/Hg\n",
    "4. SkinThickness: triceps skin fold thickness (mm)\n",
    "5. Insulin: insulin in U/mL\n",
    "6. BMI: Body mass index (weight in kg/(height in m)^2)\n",
    "7. Diabetes Pedigree Function: scores likelihood of diabetes based on family history\n",
    "8. Age: age of the person (years)\n",
    "9. Outcome: patient has diabetes (0 = No, 1 = Yes)\n",
    "\n",
    "The dataset contains info about 768 patients."
   ]
  },
  {
   "cell_type": "code",
   "execution_count": null,
   "metadata": {},
   "outputs": [],
   "source": [
    "%pip install pgmpy"
   ]
  },
  {
   "cell_type": "code",
   "execution_count": 1,
   "metadata": {},
   "outputs": [
    {
     "data": {
      "text/html": [
       "<div>\n",
       "<style scoped>\n",
       "    .dataframe tbody tr th:only-of-type {\n",
       "        vertical-align: middle;\n",
       "    }\n",
       "\n",
       "    .dataframe tbody tr th {\n",
       "        vertical-align: top;\n",
       "    }\n",
       "\n",
       "    .dataframe thead th {\n",
       "        text-align: right;\n",
       "    }\n",
       "</style>\n",
       "<table border=\"1\" class=\"dataframe\">\n",
       "  <thead>\n",
       "    <tr style=\"text-align: right;\">\n",
       "      <th></th>\n",
       "      <th>Pregnancies</th>\n",
       "      <th>Glucose</th>\n",
       "      <th>BloodPressure</th>\n",
       "      <th>SkinThickness</th>\n",
       "      <th>Insulin</th>\n",
       "      <th>BMI</th>\n",
       "      <th>DiabetesPedigreeFunction</th>\n",
       "      <th>Age</th>\n",
       "      <th>Outcome</th>\n",
       "    </tr>\n",
       "  </thead>\n",
       "  <tbody>\n",
       "    <tr>\n",
       "      <th>0</th>\n",
       "      <td>6</td>\n",
       "      <td>148</td>\n",
       "      <td>72</td>\n",
       "      <td>35</td>\n",
       "      <td>0</td>\n",
       "      <td>33.6</td>\n",
       "      <td>0.627</td>\n",
       "      <td>50</td>\n",
       "      <td>1</td>\n",
       "    </tr>\n",
       "    <tr>\n",
       "      <th>1</th>\n",
       "      <td>1</td>\n",
       "      <td>85</td>\n",
       "      <td>66</td>\n",
       "      <td>29</td>\n",
       "      <td>0</td>\n",
       "      <td>26.6</td>\n",
       "      <td>0.351</td>\n",
       "      <td>31</td>\n",
       "      <td>0</td>\n",
       "    </tr>\n",
       "    <tr>\n",
       "      <th>2</th>\n",
       "      <td>8</td>\n",
       "      <td>183</td>\n",
       "      <td>64</td>\n",
       "      <td>0</td>\n",
       "      <td>0</td>\n",
       "      <td>23.3</td>\n",
       "      <td>0.672</td>\n",
       "      <td>32</td>\n",
       "      <td>1</td>\n",
       "    </tr>\n",
       "    <tr>\n",
       "      <th>3</th>\n",
       "      <td>1</td>\n",
       "      <td>89</td>\n",
       "      <td>66</td>\n",
       "      <td>23</td>\n",
       "      <td>94</td>\n",
       "      <td>28.1</td>\n",
       "      <td>0.167</td>\n",
       "      <td>21</td>\n",
       "      <td>0</td>\n",
       "    </tr>\n",
       "    <tr>\n",
       "      <th>4</th>\n",
       "      <td>0</td>\n",
       "      <td>137</td>\n",
       "      <td>40</td>\n",
       "      <td>35</td>\n",
       "      <td>168</td>\n",
       "      <td>43.1</td>\n",
       "      <td>2.288</td>\n",
       "      <td>33</td>\n",
       "      <td>1</td>\n",
       "    </tr>\n",
       "  </tbody>\n",
       "</table>\n",
       "</div>"
      ],
      "text/plain": [
       "   Pregnancies  Glucose  BloodPressure  SkinThickness  Insulin   BMI  \\\n",
       "0            6      148             72             35        0  33.6   \n",
       "1            1       85             66             29        0  26.6   \n",
       "2            8      183             64              0        0  23.3   \n",
       "3            1       89             66             23       94  28.1   \n",
       "4            0      137             40             35      168  43.1   \n",
       "\n",
       "   DiabetesPedigreeFunction  Age  Outcome  \n",
       "0                     0.627   50        1  \n",
       "1                     0.351   31        0  \n",
       "2                     0.672   32        1  \n",
       "3                     0.167   21        0  \n",
       "4                     2.288   33        1  "
      ]
     },
     "execution_count": 1,
     "metadata": {},
     "output_type": "execute_result"
    }
   ],
   "source": [
    "import pandas as pd\n",
    "import numpy as np\n",
    "import seaborn as sns\n",
    "import matplotlib.pyplot as plt\n",
    "\n",
    "df_raw = pd.read_csv(\"data/diabetes.csv\")\n",
    "df_raw.head()"
   ]
  },
  {
   "cell_type": "markdown",
   "metadata": {},
   "source": [
    "## Exploratory Data Analysis"
   ]
  },
  {
   "cell_type": "code",
   "execution_count": 2,
   "metadata": {},
   "outputs": [
    {
     "data": {
      "text/plain": [
       "0    500\n",
       "1    268\n",
       "Name: Outcome, dtype: int64"
      ]
     },
     "execution_count": 2,
     "metadata": {},
     "output_type": "execute_result"
    }
   ],
   "source": [
    "#Diabetes distribution in the dataset\n",
    "\n",
    "df_raw['Outcome'].value_counts()"
   ]
  },
  {
   "cell_type": "markdown",
   "metadata": {},
   "source": [
    "In the dataset there are 268 patients with diabetes and 500 without. The Outcome column is imbalanced: only about 35% of the entries have diabetes. We will check, after the cleaning of the dataset, if this will still be the case."
   ]
  },
  {
   "cell_type": "code",
   "execution_count": null,
   "metadata": {},
   "outputs": [],
   "source": [
    "#Visualization of the other 8 (continuous) features\n",
    "\n",
    "fig, axs = plt.subplots(4, 2, figsize=(18,16))\n",
    "axs = axs.flatten()\n",
    "sns.distplot(df_raw['Pregnancies'],rug=True,ax=axs[0])\n",
    "sns.distplot(df_raw['Glucose'],rug=True,ax=axs[1])\n",
    "sns.distplot(df_raw['BloodPressure'],rug=True,ax=axs[2])\n",
    "sns.distplot(df_raw['SkinThickness'],rug=True,ax=axs[3])\n",
    "sns.distplot(df_raw['Insulin'],rug=True,ax=axs[4])\n",
    "sns.distplot(df_raw['BMI'],rug=True,ax=axs[5])\n",
    "sns.distplot(df_raw['DiabetesPedigreeFunction'],rug=True,ax=axs[6])\n",
    "sns.distplot(df_raw['Age'],rug=True,ax=axs[7])\n",
    "plt.show()"
   ]
  },
  {
   "cell_type": "markdown",
   "metadata": {},
   "source": [
    "The dataset has the column representing the presence of diabetes in the patient named as \"Outcome\" and in the description of the dataset there is no indication whether it takes in consideration type 1 Diabetes, type 2 Diabetes or both of them. To resolve this ambiguity we check if there are positives outcomes in rows with very low values of \"Insulin\": clear indication of type 1 Diabetes presence.\n"
   ]
  },
  {
   "cell_type": "code",
   "execution_count": 3,
   "metadata": {},
   "outputs": [
    {
     "name": "stdout",
     "output_type": "stream",
     "text": [
      "In the dataset there are 138 patients with type 1 diabetes among the total 268 patients with diabetes\n"
     ]
    }
   ],
   "source": [
    "count = 0\n",
    "for i in range(df_raw.shape[0]):\n",
    "    if df_raw[\"Insulin\"][i] < 1 and df_raw[\"Outcome\"][i] == 1 :\n",
    "        count += 1\n",
    "print(\"In the dataset there are\",count,\"patients with type 1 diabetes among the total\",df_raw[\"Outcome\"].value_counts()[1],\"patients with diabetes\")"
   ]
  },
  {
   "cell_type": "markdown",
   "metadata": {},
   "source": [
    "We will deal with this \"ambiguity\" later on during the cleaning and preparation of the dataset."
   ]
  },
  {
   "cell_type": "markdown",
   "metadata": {},
   "source": [
    "### Data cleaning and preparation"
   ]
  },
  {
   "cell_type": "markdown",
   "metadata": {},
   "source": [
    "In this chapter we take care of cleaning up the dataset. In particular, we ensure that the data can be used in a proper way by the model that we will use to perform our analysis.  \n",
    "We will look for missing/null values and we will transform the data in order to model a bayesian network and to work with it, therefore we need to create columns populated by bins starting from columns of continuous values."
   ]
  },
  {
   "cell_type": "code",
   "execution_count": 4,
   "metadata": {},
   "outputs": [
    {
     "data": {
      "text/plain": [
       "Pregnancies                 0\n",
       "Glucose                     0\n",
       "BloodPressure               0\n",
       "SkinThickness               0\n",
       "Insulin                     0\n",
       "BMI                         0\n",
       "DiabetesPedigreeFunction    0\n",
       "Age                         0\n",
       "Outcome                     0\n",
       "dtype: int64"
      ]
     },
     "execution_count": 4,
     "metadata": {},
     "output_type": "execute_result"
    }
   ],
   "source": [
    "df_raw.isnull().sum()"
   ]
  },
  {
   "cell_type": "code",
   "execution_count": 5,
   "metadata": {},
   "outputs": [
    {
     "name": "stdout",
     "output_type": "stream",
     "text": [
      "In the column Pregnancies there are 111 null values\n",
      "In the column Glucose there are 5 null values\n",
      "In the column BloodPressure there are 35 null values\n",
      "In the column SkinThickness there are 227 null values\n",
      "In the column Insulin there are 374 null values\n",
      "In the column BMI there are 11 null values\n",
      "In the column DiabetesPedigreeFunction there are 0 null values\n",
      "In the column Age there are 0 null values\n"
     ]
    }
   ],
   "source": [
    "for item in df_raw.columns :\n",
    "    if item != \"Outcome\":\n",
    "        print(\"In the column\", item,\"there are\",(df_raw[item].values == 0).sum(),\"null values\")"
   ]
  },
  {
   "cell_type": "markdown",
   "metadata": {},
   "source": [
    "In the dataset there are many null values appearing in the form of '0' rather than NaN. We need to underline that the assumption that a value '0' is a NaN value is obviously not general but it holds in this case since almost all of the columns cannot have a '0' value since it would make no sense (it is impossible to register a value of Glucose in the blood equal to 0).\n",
    "\n",
    " We decided to remove them instead of using statistical methods to predict the missing values, since we have few data and we want them to be as much predictive as possible. By the way, we have to consider that null values of Insulin are interesting as stated before.  \n",
    "\n",
    " We proceed with the removal of rows that have a null value in the columns: 'Glucose', 'BloodPressure', 'SkinThickness', 'BMI'.  \n",
    "Previous analysis showed that DiabetesPedigreeFunction column and Age column don't contain any null values."
   ]
  },
  {
   "cell_type": "code",
   "execution_count": 6,
   "metadata": {},
   "outputs": [],
   "source": [
    "df_clean = df_raw.copy(deep=True)"
   ]
  },
  {
   "cell_type": "code",
   "execution_count": 7,
   "metadata": {},
   "outputs": [
    {
     "name": "stdout",
     "output_type": "stream",
     "text": [
      "Column Glucose has been cleaned\n",
      "Column BloodPressure has been cleaned\n",
      "Column SkinThickness has been cleaned\n",
      "Column BMI has been cleaned\n"
     ]
    }
   ],
   "source": [
    "columns_to_clean = ['Glucose', 'BloodPressure', 'SkinThickness','BMI'] \n",
    "#A null value in these columns is surely an error since it's impossible to have value zero for these fetures\n",
    "for item in columns_to_clean:\n",
    "    drop_list = []\n",
    "    for i in range(len(df_clean[item])):\n",
    "        if df_clean[item][i] == 0 :\n",
    "            drop_list.append(i)\n",
    "    print(\"Column\",item,\"has been cleaned\")\n",
    "    df_clean.drop(labels= drop_list, axis= 0, inplace= True)\n",
    "    df_clean.reset_index(drop=True, inplace=True)\n",
    "    "
   ]
  },
  {
   "cell_type": "markdown",
   "metadata": {},
   "source": [
    "With regard to the Insulin column we consider the fact that a null value of insulin in the blood is a sure sign of the presence of type 1 Diabetes, so we proceed with removing all the rows that have a null value of both Insulin and Outcome, since it's impossible to have no insulin without having diabetes. (source: https://medlineplus.gov/lab-tests/insulin-in-blood/)"
   ]
  },
  {
   "cell_type": "code",
   "execution_count": 8,
   "metadata": {},
   "outputs": [
    {
     "name": "stdout",
     "output_type": "stream",
     "text": [
      "Column 'Insulin' has been cleaned\n"
     ]
    }
   ],
   "source": [
    "for i in range(len(df_clean[\"Insulin\"])):\n",
    "    if df_clean[\"Insulin\"][i] == 0 and df_clean[\"Outcome\"][i] == 0:\n",
    "        df_clean.drop(labels= i, axis= 0, inplace= True)\n",
    "print(\"Column 'Insulin' has been cleaned\")\n",
    "df_clean.reset_index(drop=True, inplace=True)"
   ]
  },
  {
   "cell_type": "markdown",
   "metadata": {},
   "source": [
    "Another important step in the artificial intelligence field is to check whether the dataset is balanced with regard to the Target column, in this case the Outcome column. This is very important when dealing, for example, with neural networks or with common machine learning techniques, but in the case of probabilistic models, in this case bayesian network, the relation between imbalance of dataset and poor results is not trivial. There have been works that test the capability of some bayesian networks to work well also in the case of unbalanced dataset, but on the other hand researchers were not able to state that in general baesyan network are not influenced by imbalancing of dataset. (source : https://www.google.com/url?sa=t&rct=j&q=&esrc=s&source=web&cd=&cad=rja&uact=8&ved=2ahUKEwjL7ZrBz8b7AhXKg_0HHQFuDP8QFnoECAoQAQ&url=https%3A%2F%2Fwww.scitepress.org%2Fpapers%2F2015%2F52011%2F52011.pdf&usg=AOvVaw0erSA4Ha2SYrw13LgLnJ-j)  \n",
    "  \n",
    "  \n",
    "For such reason, we check now if the dataset is balanced with respect to the Diabetes column."
   ]
  },
  {
   "cell_type": "code",
   "execution_count": 9,
   "metadata": {},
   "outputs": [
    {
     "name": "stdout",
     "output_type": "stream",
     "text": [
      "There are 177 patients with diabetes\n",
      "There are 262 patients without diabetes\n"
     ]
    }
   ],
   "source": [
    "print(\"There are\",(df_clean[\"Outcome\"].values == 1).sum(),\"patients with diabetes\")\n",
    "print(\"There are\",(df_clean[\"Outcome\"].values == 0).sum(),\"patients without diabetes\")"
   ]
  },
  {
   "cell_type": "markdown",
   "metadata": {},
   "source": [
    "The number of patients that suffer from diabetes is about 40% of the total population sample analyzed. This respects the data we have available regarding the incidence of diabetes in women belonging to the Pima tribe in the United States.  \n",
    "For this reason we don't need to balance the dataset: it already represents the incidence of diabetes in the population under analysis."
   ]
  },
  {
   "cell_type": "markdown",
   "metadata": {},
   "source": [
    "Now we deal with splitting the Outcome column between type 1 and type 2 diabetes to better encode the relationships between risk factors and effects of diabetes into the network. To do so, we build two columns from our Outcome column: Diabetes_1 and Diabetes_2, respectively for patients with very low levels of insulin and positive Outcome, and for patients with diabetes but not low levels of insulin."
   ]
  },
  {
   "cell_type": "code",
   "execution_count": 10,
   "metadata": {},
   "outputs": [
    {
     "name": "stderr",
     "output_type": "stream",
     "text": [
      "C:\\Users\\Luca\\AppData\\Local\\Temp\\ipykernel_14928\\2479219504.py:5: SettingWithCopyWarning: \n",
      "A value is trying to be set on a copy of a slice from a DataFrame\n",
      "\n",
      "See the caveats in the documentation: https://pandas.pydata.org/pandas-docs/stable/user_guide/indexing.html#returning-a-view-versus-a-copy\n",
      "  df_clean[\"Outcome\"][i] = 0\n",
      "C:\\Users\\Luca\\AppData\\Local\\Temp\\ipykernel_14928\\2479219504.py:6: SettingWithCopyWarning: \n",
      "A value is trying to be set on a copy of a slice from a DataFrame\n",
      "\n",
      "See the caveats in the documentation: https://pandas.pydata.org/pandas-docs/stable/user_guide/indexing.html#returning-a-view-versus-a-copy\n",
      "  df_clean[\"Diabetes_1\"][i] = 1\n"
     ]
    },
    {
     "data": {
      "text/html": [
       "<div>\n",
       "<style scoped>\n",
       "    .dataframe tbody tr th:only-of-type {\n",
       "        vertical-align: middle;\n",
       "    }\n",
       "\n",
       "    .dataframe tbody tr th {\n",
       "        vertical-align: top;\n",
       "    }\n",
       "\n",
       "    .dataframe thead th {\n",
       "        text-align: right;\n",
       "    }\n",
       "</style>\n",
       "<table border=\"1\" class=\"dataframe\">\n",
       "  <thead>\n",
       "    <tr style=\"text-align: right;\">\n",
       "      <th></th>\n",
       "      <th>Pregnancies</th>\n",
       "      <th>Glucose</th>\n",
       "      <th>BloodPressure</th>\n",
       "      <th>SkinThickness</th>\n",
       "      <th>Insulin</th>\n",
       "      <th>BMI</th>\n",
       "      <th>DiabetesPedigreeFunction</th>\n",
       "      <th>Age</th>\n",
       "      <th>Diabetes_2</th>\n",
       "      <th>Diabetes_1</th>\n",
       "    </tr>\n",
       "  </thead>\n",
       "  <tbody>\n",
       "    <tr>\n",
       "      <th>0</th>\n",
       "      <td>6</td>\n",
       "      <td>148</td>\n",
       "      <td>72</td>\n",
       "      <td>35</td>\n",
       "      <td>0</td>\n",
       "      <td>33.6</td>\n",
       "      <td>0.627</td>\n",
       "      <td>50</td>\n",
       "      <td>0</td>\n",
       "      <td>1</td>\n",
       "    </tr>\n",
       "    <tr>\n",
       "      <th>1</th>\n",
       "      <td>1</td>\n",
       "      <td>89</td>\n",
       "      <td>66</td>\n",
       "      <td>23</td>\n",
       "      <td>94</td>\n",
       "      <td>28.1</td>\n",
       "      <td>0.167</td>\n",
       "      <td>21</td>\n",
       "      <td>0</td>\n",
       "      <td>0</td>\n",
       "    </tr>\n",
       "    <tr>\n",
       "      <th>2</th>\n",
       "      <td>0</td>\n",
       "      <td>137</td>\n",
       "      <td>40</td>\n",
       "      <td>35</td>\n",
       "      <td>168</td>\n",
       "      <td>43.1</td>\n",
       "      <td>2.288</td>\n",
       "      <td>33</td>\n",
       "      <td>1</td>\n",
       "      <td>0</td>\n",
       "    </tr>\n",
       "    <tr>\n",
       "      <th>3</th>\n",
       "      <td>3</td>\n",
       "      <td>78</td>\n",
       "      <td>50</td>\n",
       "      <td>32</td>\n",
       "      <td>88</td>\n",
       "      <td>31.0</td>\n",
       "      <td>0.248</td>\n",
       "      <td>26</td>\n",
       "      <td>1</td>\n",
       "      <td>0</td>\n",
       "    </tr>\n",
       "    <tr>\n",
       "      <th>4</th>\n",
       "      <td>2</td>\n",
       "      <td>197</td>\n",
       "      <td>70</td>\n",
       "      <td>45</td>\n",
       "      <td>543</td>\n",
       "      <td>30.5</td>\n",
       "      <td>0.158</td>\n",
       "      <td>53</td>\n",
       "      <td>1</td>\n",
       "      <td>0</td>\n",
       "    </tr>\n",
       "  </tbody>\n",
       "</table>\n",
       "</div>"
      ],
      "text/plain": [
       "   Pregnancies  Glucose  BloodPressure  SkinThickness  Insulin   BMI  \\\n",
       "0            6      148             72             35        0  33.6   \n",
       "1            1       89             66             23       94  28.1   \n",
       "2            0      137             40             35      168  43.1   \n",
       "3            3       78             50             32       88  31.0   \n",
       "4            2      197             70             45      543  30.5   \n",
       "\n",
       "   DiabetesPedigreeFunction  Age  Diabetes_2  Diabetes_1  \n",
       "0                     0.627   50           0           1  \n",
       "1                     0.167   21           0           0  \n",
       "2                     2.288   33           1           0  \n",
       "3                     0.248   26           1           0  \n",
       "4                     0.158   53           1           0  "
      ]
     },
     "execution_count": 10,
     "metadata": {},
     "output_type": "execute_result"
    }
   ],
   "source": [
    "df_clean[\"Diabetes_1\"] = np.zeros(df_clean.shape[0])\n",
    "\n",
    "for i in range(df_clean.shape[0]):\n",
    "    if df_clean[\"Insulin\"][i] <= 5 and df_clean[\"Outcome\"][i] == 1:\n",
    "        df_clean[\"Outcome\"][i] = 0\n",
    "        df_clean[\"Diabetes_1\"][i] = 1\n",
    "\n",
    "df_clean['Diabetes_1'] = df_clean['Diabetes_1'].apply(np.int64)\n",
    "df_clean.rename(columns={\"Outcome\": \"Diabetes_2\"},inplace=True)\n",
    "\n",
    "df_clean.head()"
   ]
  },
  {
   "cell_type": "code",
   "execution_count": 11,
   "metadata": {},
   "outputs": [
    {
     "name": "stdout",
     "output_type": "stream",
     "text": [
      "Number of patients with type 1 diabetes:  47\n",
      "Number of patients with type 2 diabetes:  130\n",
      "Total number of patients with diabetes:  177\n",
      "Number of patients without diabetes:  262\n"
     ]
    }
   ],
   "source": [
    "num_diab_1 = (df_clean[\"Diabetes_1\"] == 1).sum()\n",
    "num_diab_2 = (df_clean[\"Diabetes_2\"] == 1).sum()\n",
    "num_diab = num_diab_1 + num_diab_2\n",
    "\n",
    "print('Number of patients with type 1 diabetes: ', num_diab_1)\n",
    "print('Number of patients with type 2 diabetes: ', num_diab_2)\n",
    "print('Total number of patients with diabetes: ', num_diab)\n",
    "print('Number of patients without diabetes: ', df_clean.shape[0] - num_diab)"
   ]
  },
  {
   "cell_type": "markdown",
   "metadata": {},
   "source": [
    "### Binning\n",
    "The final step regarding the dataset cleaning and preparation is to discretize our continuous features, transforming each column of the dataset into columns of bins so that we will be able to use them to perform parameter learning on our network using pgmpy.\n",
    "\n",
    "The binning was made trying to group values ​​into ranges of interest, rather than simply splitting them into 'n' number of bins.  "
   ]
  },
  {
   "cell_type": "code",
   "execution_count": 12,
   "metadata": {},
   "outputs": [],
   "source": [
    "df_bin = df_clean.copy(deep=True)"
   ]
  },
  {
   "cell_type": "code",
   "execution_count": 13,
   "metadata": {},
   "outputs": [],
   "source": [
    "#configuration dictionary for binning\n",
    "\n",
    "conf = {\"Pregnancies\" :{\n",
    "            \"bins\" : [-1,3,6,9,18],\n",
    "            \"labels\": [\"0-3\",\"3-6\",\"6-9\",\"9+\"]},\n",
    "\n",
    "        \"Glucose\" :{\n",
    "            \"bins\" : [50,100,140,np.max(df_clean[\"Glucose\"])],\n",
    "            \"labels\" : [\"50-100\",\"100-140\",\"140-200\"]}, #low, medium and high levels of glucose\n",
    "\n",
    "        \"BloodPressure\" :{\n",
    "            \"bins\" : [20,60,80,110],\n",
    "            \"labels\" : [\"20-60\",\"60-80\",\"80-110\"]}, #low, medium and high levels of blood pressure\n",
    "\n",
    "        \"SkinThickness\" :{\n",
    "            \"bins\" : [6,15,30,40,np.max(df_clean[\"SkinThickness\"])],\n",
    "            \"labels\" : [\"7-15\",\"15-30\",\"30-40\",\"40+\"]},\n",
    "\n",
    "        \"Insulin\" : {\n",
    "            \"bins\" : [-1,5,50,120,150,np.max(df_clean[\"Insulin\"])],\n",
    "            \"labels\" : [\"0-5\",\"5-50\",\"50-120\",\"120-150\",\"150+\"]},\n",
    "            \n",
    "        \"BMI\" :{\n",
    "            \"bins\" : [18,25,30,np.max(df_clean[\"BMI\"])],\n",
    "            \"labels\" : [\"18-25\",\"25-30\",\"30+\"]},\n",
    "\n",
    "        \"DiabetesPedigreeFunction\" :{\n",
    "            \"bins\" : [-1,0.2,0.3,0.5,0.7,0.9,np.max(df_clean[\"DiabetesPedigreeFunction\"])],\n",
    "            \"labels\" : [\"0-0.2\",\"0.2-0.3\",\"0.3-0.5\",\"0.5-0.7\",\"0.7-0.9\",\"0.9+\"]},\n",
    "            \n",
    "        \"Age\" :{\n",
    "            \"bins\" : [20,30,40,50,60,np.max(df_clean[\"Age\"])],\n",
    "            \"labels\" : [\"20-30\",\"30-40\",\"40-50\",\"50-60\",\"60+\"]}\n",
    "        }       \n"
   ]
  },
  {
   "cell_type": "code",
   "execution_count": 14,
   "metadata": {},
   "outputs": [],
   "source": [
    "for item in conf.keys():\n",
    "    df_bin[item] = pd.cut(x=df_clean[item], bins=conf[item][\"bins\"],\n",
    "                        labels=conf[item][\"labels\"])"
   ]
  },
  {
   "cell_type": "code",
   "execution_count": null,
   "metadata": {},
   "outputs": [],
   "source": [
    "#Visualization of the binned features distributions\n",
    "\n",
    "fig, axs = plt.subplots(2, 5, figsize=(20,10))\n",
    "axs = axs.flatten()\n",
    "for n,column_name in enumerate(df_bin.columns):\n",
    "    df_bin[column_name].value_counts().plot(kind='bar', title = column_name, ax = axs[n-1], rot = 45)\n"
   ]
  },
  {
   "cell_type": "markdown",
   "metadata": {},
   "source": [
    "Now that bins have been correctly created, we move to designing the network"
   ]
  },
  {
   "cell_type": "markdown",
   "metadata": {},
   "source": [
    "# Network\n"
   ]
  },
  {
   "cell_type": "markdown",
   "metadata": {},
   "source": [
    "In this chapter we will build the network by analyzing both correlations between the columns of our dataframe and scientific literature (internal medicine knowledge) related to the topic. We will then explore a variety of methods related to the analysis of Bayesian Networks.  \n",
    "Connections between nodes have been implemented from scratch referring to a variety of scientific medical sources. \n",
    "In the medical field causal links are particularly challenging to model (often a huge variety of features are interlaced, causing directly or indirectly effects on each others), in this work only links that have been considered particularly relevant were defined.\n",
    "\n",
    "The connections defined will be explained below."
   ]
  },
  {
   "cell_type": "markdown",
   "metadata": {},
   "source": [
    "Analyzing the correlations between columns of the dataframe can help us reasoning about the causal relationships between them. "
   ]
  },
  {
   "cell_type": "code",
   "execution_count": null,
   "metadata": {},
   "outputs": [],
   "source": [
    "corr = df_clean.corr()\n",
    "plt.figure(figsize=(10,5))\n",
    "sns.heatmap(corr, annot=True)"
   ]
  },
  {
   "cell_type": "markdown",
   "metadata": {},
   "source": [
    "Let's analyze the most interesting correlations we found with the correlation matrix, we'll use these considerations to build the structure of our Bayesian Network.\n",
    "\n",
    "- **Age - Pregnancies** : As age increases it's more likely to have had more pregnancies.\n",
    "- **Diabetes_2 - Glucose** : Suffering from diabetes makes it difficult to manage blood glucose levels. The same should apply for **Diabetes_1** but we don't have such a strong correlation, we will nonetheless put this causal link in our network.\n",
    "- **Glucose - Insulin**: In normal conditions glucose and insulin levels are positively correlated because our body produces insulin in response to rising levels of glucose to absorb it.  \n",
    "- **BMI - BloodPressure** : It's well established in medicine literature that being overweight causes hypertension. (https://www.ahajournals.org/doi/10.1161/circresaha.116.305697)\n",
    "- **Insulin - SkinThickness** : SkinThickness is a measure of how much fat is stored in skin cells. We know that insulin promotes the storage of sugars triggering the metabolic process called lipogenesis. This process is how our body converts fatty acids and glycerol into fats. This is why high levels of insulin correlate with higher SkinThickness. (https://www.sciencedirect.com/topics/agricultural-and-biological-sciences/lipogenesis#:~:text=Insulin%20promotes%20lipogenesis%2C%20thereby%20resulting,Fig.)\n",
    "- **BMI - SkinThickness** : Of course being overweight increses the chance of having more fat in the skin and vice versa.\n",
    "- **Insulin - Diabetes_1** : Having type 1 diabetes means having problems producing insulin. This high negative correlation was expected since we built the Diabetes_1 column filtering for Diabetes cases with low insulin level.\n",
    "- **Insulin - Diabetes_2** The same applies for Diabetes_2: it was expected to have high correlation since we selected only the cases of diabetes with not-low insulin level to build the Diabetes_2 column. Moreover, if a patient suffers from type 2 diabetes, her body still breaks down carbohydrate from her food and turns it into glucose. The pancreas then responds to this by releasing insulin. But because this insulin can't work properly, her blood sugar levels keep rising. This means more insulin is released."
   ]
  },
  {
   "cell_type": "markdown",
   "metadata": {},
   "source": [
    "### Showing the network\n",
    "\n",
    "We show a graphical preliminary overview of the network using the visual library daft of pgmpy.  \n",
    "The acronyms related to dataset attributes are the followings:\n",
    "\n",
    "\n"
   ]
  },
  {
   "cell_type": "code",
   "execution_count": null,
   "metadata": {},
   "outputs": [],
   "source": [
    "%pip install daft"
   ]
  },
  {
   "cell_type": "code",
   "execution_count": 15,
   "metadata": {},
   "outputs": [
    {
     "data": {
      "image/png": "[encoded data removed]",
      "text/plain": [
       "<Figure size 323.15x266.457 with 1 Axes>"
      ]
     },
     "metadata": {},
     "output_type": "display_data"
    }
   ],
   "source": [
    "import daft\n",
    "import matplotlib.pyplot as plt\n",
    "from daft import PGM\n",
    "\n",
    "pgm = PGM()\n",
    "\n",
    "pgm.add_node(daft.Node('Age', \"Age\", 2, 5))\n",
    "pgm.add_node(daft.Node('DPF', \"DPF\", 4, 5))\n",
    "pgm.add_node(daft.Node('BMI', \"BMI\", 6, 5))\n",
    "\n",
    "pgm.add_node(daft.Node('Pr', \"Pr\", 1, 4.5))\n",
    "\n",
    "pgm.add_node(daft.Node('Diab_2', \"D_2\", 2, 4))\n",
    "pgm.add_node(daft.Node('Diab_1', \"D_1\", 4, 4))\n",
    "\n",
    "pgm.add_node(daft.Node('Glu', \"Glu\", 2, 3))\n",
    "\n",
    "pgm.add_node(daft.Node('Ins', \"Ins\", 4, 2))\n",
    "\n",
    "pgm.add_node(daft.Node('BP', \"BP\", 4, 1))\n",
    "pgm.add_node(daft.Node('ST', \"ST\", 6, 1))\n",
    "\n",
    "pgm.add_edge('Age', 'Pr')\n",
    "pgm.add_edge('Pr', 'Diab_2')\n",
    "pgm.add_edge('DPF', 'Diab_2')\n",
    "pgm.add_edge('DPF', 'Diab_1')\n",
    "pgm.add_edge('Age', 'Diab_2')\n",
    "pgm.add_edge('Age', 'Diab_1')\n",
    "pgm.add_edge('BMI','Diab_2')\n",
    "pgm.add_edge('BMI','ST')\n",
    "pgm.add_edge('BMI', 'BP')\n",
    "pgm.add_edge('Diab_2', 'Glu')\n",
    "pgm.add_edge('Diab_2', 'Ins')\n",
    "pgm.add_edge('Diab_1', 'Glu')\n",
    "pgm.add_edge('Diab_1', 'Ins')\n",
    "pgm.add_edge('Glu', 'BP')\n",
    "pgm.add_edge('Glu','Ins')\n",
    "pgm.add_edge('Ins', 'BP')\n",
    "pgm.add_edge('Ins','ST')\n",
    "\n",
    "pgm.render()\n",
    "plt.show()"
   ]
  },
  {
   "cell_type": "markdown",
   "metadata": {},
   "source": [
    "We already explained the reason behind some of the edges of the network when we analyzed the correlation matrix, now we will discuss about the other edges we put in the network:\n",
    "\n",
    "- **Insulin - BloodPressure**: High value of Insulin in the blood can increase blood pressure via several mechanisms: increased renal sodium reabsorption, activation of the sympathetic nervous system, alteration of transmembrane ion transport, and hypertrophy of resistance vessels. https://pubmed.ncbi.nlm.nih.gov/7512468/#:~:text=Insulin%20can%20increase%20blood%20pressure,and%20hypertrophy%20of%20resistance%20vessels.\n",
    "\n",
    "- **Age - Diabetes_1** and **Age - Diabetes_2**: The risk of developing diabetes increases with age. This risk is present for both types of diabetes with different weight: aging has the effect of increasing insulin resistance and lower the function of insulin-producing cells in pancreas.\n",
    "\n",
    "- **Pregnancies - Diabetes_2**: Gestational Diabetes  \n",
    "This is a type of diabetes that is first seen in a pregnant woman who did not have diabetes before she was pregnant. For most women with gestational diabetes, the diabetes goes away soon after delivery. When it does not go away, the diabetes is called type 2 diabetes. Even if the diabetes does go away after the baby is born, half of all women who had gestational diabetes develop type 2 diabetes later. https://www.cdc.gov/diabetes/basics/gestational.html\n",
    "\n",
    "- **DiabetesPedigreeFunction - Diabetes_1** and **DiabetesPedigreeFunction - Diabetes_2**: Both types of diabetes have a genetic predisposition risk factor. The Diabetes Pedigree Function is an index that takes the family history of the patient into account to predict the likelihood of diabetes insurgence.\n",
    "\n",
    "- **Glucose - BloodPressure** : Hyperglycemia can contribute to hypertension. High blood sugar can increase blood pressure through two primary means. First, untreated hyperglycemia can lead to nerve and blood vessel damage. Damage to the blood vessels causes the walls to stiffen, narrow, and accumulate plaque. Plaque buildup narrows the vessels, increasing pressure and contributing to hypertension. Second, chronic hyperglycemia leads to chronic hyperinsulinemia, that we have already seen causes hypertension. (https://www.endocrineweb.com/conditions/diabetes/can-blood-sugar-affect-blood-pressure)"
   ]
  },
  {
   "cell_type": "markdown",
   "metadata": {},
   "source": [
    "## Creating the network"
   ]
  },
  {
   "cell_type": "code",
   "execution_count": 16,
   "metadata": {},
   "outputs": [
    {
     "name": "stderr",
     "output_type": "stream",
     "text": [
      "c:\\Users\\Luca\\.virtualenvs\\ML4downsyndrome-D1DocbTt\\lib\\site-packages\\tqdm\\auto.py:22: TqdmWarning: IProgress not found. Please update jupyter and ipywidgets. See https://ipywidgets.readthedocs.io/en/stable/user_install.html\n",
      "  from .autonotebook import tqdm as notebook_tqdm\n"
     ]
    }
   ],
   "source": [
    "import pgmpy\n",
    "from pgmpy.models import BayesianNetwork\n",
    "\n",
    "model = BayesianNetwork(\n",
    "    [('Age','Pregnancies'),('Pregnancies', 'Diabetes_2'),('DiabetesPedigreeFunction', 'Diabetes_1'),('DiabetesPedigreeFunction', 'Diabetes_2'),\n",
    "    ('Age', 'Diabetes_1'), ('Age', 'Diabetes_2'),('BMI','Diabetes_2'), ('BMI','SkinThickness'),('BMI', 'BloodPressure'),\n",
    "    ('Diabetes_1', 'Glucose'),('Diabetes_1', 'Insulin'), ('Diabetes_2', 'Glucose'),('Diabetes_2', 'Insulin'),\n",
    "    ('Glucose', 'BloodPressure'),('Glucose', 'Insulin'),('Insulin','BloodPressure'),('Insulin','SkinThickness')])"
   ]
  },
  {
   "cell_type": "markdown",
   "metadata": {},
   "source": [
    "### Analyzing the network\n",
    "\n",
    "Follows a series of experiments done on the network by applying a variety of methods provided by the pgmpy library in order to see in practice all the concepts addressed during the course."
   ]
  },
  {
   "cell_type": "code",
   "execution_count": null,
   "metadata": {},
   "outputs": [],
   "source": [
    "# Showing all the nodes of the model\n",
    "model.nodes()"
   ]
  },
  {
   "cell_type": "code",
   "execution_count": null,
   "metadata": {},
   "outputs": [],
   "source": [
    "# Showing all the edges of the model\n",
    "model.edges()"
   ]
  },
  {
   "cell_type": "code",
   "execution_count": null,
   "metadata": {},
   "outputs": [],
   "source": [
    "# Local independencies of a single node\n",
    "model.local_independencies(\"Diabetes_1\")"
   ]
  },
  {
   "cell_type": "code",
   "execution_count": null,
   "metadata": {},
   "outputs": [],
   "source": [
    "model.local_independencies(\"SkinThickness\")"
   ]
  },
  {
   "cell_type": "code",
   "execution_count": 17,
   "metadata": {},
   "outputs": [
    {
     "name": "stdout",
     "output_type": "stream",
     "text": [
      "True\n",
      "True\n",
      "False\n"
     ]
    }
   ],
   "source": [
    "# Checking d-separation between variables with and without evidence\n",
    "# Two sets of nodes X, Y are d-separated given Z if there is no active trail between any x ∈ X and y ∈ Y given Z\n",
    "\n",
    "print(model.is_dconnected(\"BloodPressure\", \"SkinThickness\"))\n",
    "print(model.is_dconnected(\"BloodPressure\", \"SkinThickness\",observed=[\"BMI\"] ))\n",
    "print(model.is_dconnected(\"BloodPressure\", \"SkinThickness\",observed=[\"BMI\", 'Insulin'] ))"
   ]
  },
  {
   "cell_type": "code",
   "execution_count": 19,
   "metadata": {},
   "outputs": [
    {
     "name": "stdout",
     "output_type": "stream",
     "text": [
      "Node Glucose is irrelevant with resepect to Insulin given the evidence Diabetes_1\n"
     ]
    }
   ],
   "source": [
    "# Function is_irrelevant recalls the definition of irrelevance given during the course \n",
    "\n",
    "def is_irrelevant(node1,node2,evidence):\n",
    "  if ((node2 in (model.get_ancestral_graph(node1)and model.get_ancestral_graph(evidence))) and model.is_dconnected(node1, node2,observed=evidence )):\n",
    "    print(\"Node\", node1, \"is not irrelevant with resepect to\", node2, \"given the evidence\", evidence)\n",
    "  else:\n",
    "    print(\"Node\", node1, \"is irrelevant with resepect to\", node2, \"given the evidence\", evidence)\n",
    "\n",
    "is_irrelevant(\"Glucose\", \"Insulin\", \"Diabetes_1\")"
   ]
  },
  {
   "cell_type": "code",
   "execution_count": 20,
   "metadata": {},
   "outputs": [
    {
     "data": {
      "text/plain": [
       "{'BloodPressure': {'Age',\n",
       "  'BMI',\n",
       "  'BloodPressure',\n",
       "  'DiabetesPedigreeFunction',\n",
       "  'Diabetes_2',\n",
       "  'Glucose',\n",
       "  'Insulin',\n",
       "  'Pregnancies',\n",
       "  'SkinThickness'}}"
      ]
     },
     "execution_count": 20,
     "metadata": {},
     "output_type": "execute_result"
    }
   ],
   "source": [
    "# Checking active trails from blood pressure given the evidence diabetes\n",
    "model.active_trail_nodes('BloodPressure', observed='Diabetes_1')"
   ]
  },
  {
   "cell_type": "code",
   "execution_count": 21,
   "metadata": {},
   "outputs": [
    {
     "data": {
      "text/plain": [
       "['Glucose', 'Insulin', 'BMI']"
      ]
     },
     "execution_count": 21,
     "metadata": {},
     "output_type": "execute_result"
    }
   ],
   "source": [
    "# Checking the markov blanket of the node BloodPressure\n",
    "model.get_markov_blanket(\"BloodPressure\")"
   ]
  },
  {
   "cell_type": "markdown",
   "metadata": {},
   "source": [
    "### Parameter learning\n",
    "\n",
    "The task of parameter estimation consists of learning the CPTs of the bayesian network knowing its structure. We already built the the structure of our network from preliminary analysis of internal medicine knowledge, now we'll use our data to find the parameters of the network.\n",
    "\n",
    "A variety of estimators are available in pgmpy library and priors to use. We will use BayesianEstimator with Bayesian Dirichlet equivalent uniform prior (BDeu). "
   ]
  },
  {
   "cell_type": "code",
   "execution_count": 22,
   "metadata": {},
   "outputs": [],
   "source": [
    "from pgmpy.estimators import BayesianEstimator\n",
    "\n",
    "df = df_bin"
   ]
  },
  {
   "cell_type": "code",
   "execution_count": 23,
   "metadata": {},
   "outputs": [
    {
     "name": "stdout",
     "output_type": "stream",
     "text": [
      "CPT of Age:\n",
      "+------------+-----------+\n",
      "| Age(20-30) | 0.594595  |\n",
      "+------------+-----------+\n",
      "| Age(30-40) | 0.198198  |\n",
      "+------------+-----------+\n",
      "| Age(40-50) | 0.128378  |\n",
      "+------------+-----------+\n",
      "| Age(50-60) | 0.0653153 |\n",
      "+------------+-----------+\n",
      "| Age(60+)   | 0.0135135 |\n",
      "+------------+-----------+ \n",
      "\n",
      "CPT of Pregnancies:\n",
      "+------------------+-----+---------------------+\n",
      "| Age              | ... | Age(60+)            |\n",
      "+------------------+-----+---------------------+\n",
      "| Pregnancies(0-3) | ... | 0.20833333333333334 |\n",
      "+------------------+-----+---------------------+\n",
      "| Pregnancies(3-6) | ... | 0.20833333333333334 |\n",
      "+------------------+-----+---------------------+\n",
      "| Pregnancies(6-9) | ... | 0.375               |\n",
      "+------------------+-----+---------------------+\n",
      "| Pregnancies(9+)  | ... | 0.20833333333333334 |\n",
      "+------------------+-----+---------------------+ \n",
      "\n",
      "CPT of Diabetes_2:\n",
      "+--------------------------+-----+--------------------------------+\n",
      "| Age                      | ... | Age(60+)                       |\n",
      "+--------------------------+-----+--------------------------------+\n",
      "| BMI                      | ... | BMI(30+)                       |\n",
      "+--------------------------+-----+--------------------------------+\n",
      "| DiabetesPedigreeFunction | ... | DiabetesPedigreeFunction(0.9+) |\n",
      "+--------------------------+-----+--------------------------------+\n",
      "| Pregnancies              | ... | Pregnancies(9+)                |\n",
      "+--------------------------+-----+--------------------------------+\n",
      "| Diabetes_2(0)            | ... | 0.5                            |\n",
      "+--------------------------+-----+--------------------------------+\n",
      "| Diabetes_2(1)            | ... | 0.5                            |\n",
      "+--------------------------+-----+--------------------------------+ \n",
      "\n",
      "CPT of DiabetesPedigreeFunction:\n",
      "+-----------------------------------+----------+\n",
      "| DiabetesPedigreeFunction(0-0.2)   | 0.109985 |\n",
      "+-----------------------------------+----------+\n",
      "| DiabetesPedigreeFunction(0.2-0.3) | 0.188814 |\n",
      "+-----------------------------------+----------+\n",
      "| DiabetesPedigreeFunction(0.3-0.5) | 0.26539  |\n",
      "+-----------------------------------+----------+\n",
      "| DiabetesPedigreeFunction(0.5-0.7) | 0.202327 |\n",
      "+-----------------------------------+----------+\n",
      "| DiabetesPedigreeFunction(0.7-0.9) | 0.114489 |\n",
      "+-----------------------------------+----------+\n",
      "| DiabetesPedigreeFunction(0.9+)    | 0.118994 |\n",
      "+-----------------------------------+----------+ \n",
      "\n",
      "CPT of Diabetes_1:\n",
      "+--------------------------+-----+--------------------------------+\n",
      "| Age                      | ... | Age(60+)                       |\n",
      "+--------------------------+-----+--------------------------------+\n",
      "| DiabetesPedigreeFunction | ... | DiabetesPedigreeFunction(0.9+) |\n",
      "+--------------------------+-----+--------------------------------+\n",
      "| Diabetes_1(0)            | ... | 0.5                            |\n",
      "+--------------------------+-----+--------------------------------+\n",
      "| Diabetes_1(1)            | ... | 0.5                            |\n",
      "+--------------------------+-----+--------------------------------+ \n",
      "\n",
      "CPT of BMI:\n",
      "+------------+----------+\n",
      "| BMI(18-25) | 0.107357 |\n",
      "+------------+----------+\n",
      "| BMI(25-30) | 0.222222 |\n",
      "+------------+----------+\n",
      "| BMI(30+)   | 0.67042  |\n",
      "+------------+----------+ \n",
      "\n",
      "CPT of SkinThickness:\n",
      "+----------------------+-----+----------------------+\n",
      "| BMI                  | ... | BMI(30+)             |\n",
      "+----------------------+-----+----------------------+\n",
      "| Insulin              | ... | Insulin(50-120)      |\n",
      "+----------------------+-----+----------------------+\n",
      "| SkinThickness(15-30) | ... | 0.45270270270270274  |\n",
      "+----------------------+-----+----------------------+\n",
      "| SkinThickness(30-40) | ... | 0.33687258687258687  |\n",
      "+----------------------+-----+----------------------+\n",
      "| SkinThickness(40+)   | ... | 0.19787644787644787  |\n",
      "+----------------------+-----+----------------------+\n",
      "| SkinThickness(7-15)  | ... | 0.012548262548262547 |\n",
      "+----------------------+-----+----------------------+ \n",
      "\n",
      "CPT of BloodPressure:\n",
      "+-----------------------+-----+---------------------+\n",
      "| BMI                   | ... | BMI(30+)            |\n",
      "+-----------------------+-----+---------------------+\n",
      "| Glucose               | ... | Glucose(50-100)     |\n",
      "+-----------------------+-----+---------------------+\n",
      "| Insulin               | ... | Insulin(50-120)     |\n",
      "+-----------------------+-----+---------------------+\n",
      "| BloodPressure(20-60)  | ... | 0.22530009233610337 |\n",
      "+-----------------------+-----+---------------------+\n",
      "| BloodPressure(60-80)  | ... | 0.6491228070175439  |\n",
      "+-----------------------+-----+---------------------+\n",
      "| BloodPressure(80-110) | ... | 0.12557710064635272 |\n",
      "+-----------------------+-----+---------------------+ \n",
      "\n",
      "CPT of Glucose:\n",
      "+------------------+-----+---------------------+\n",
      "| Diabetes_1       | ... | Diabetes_1(1)       |\n",
      "+------------------+-----+---------------------+\n",
      "| Diabetes_2       | ... | Diabetes_2(1)       |\n",
      "+------------------+-----+---------------------+\n",
      "| Glucose(100-140) | ... | 0.33333333333333337 |\n",
      "+------------------+-----+---------------------+\n",
      "| Glucose(140-200) | ... | 0.33333333333333337 |\n",
      "+------------------+-----+---------------------+\n",
      "| Glucose(50-100)  | ... | 0.33333333333333337 |\n",
      "+------------------+-----+---------------------+ \n",
      "\n",
      "CPT of Insulin:\n",
      "+------------------+-----+-----------------+\n",
      "| Diabetes_1       | ... | Diabetes_1(1)   |\n",
      "+------------------+-----+-----------------+\n",
      "| Diabetes_2       | ... | Diabetes_2(1)   |\n",
      "+------------------+-----+-----------------+\n",
      "| Glucose          | ... | Glucose(50-100) |\n",
      "+------------------+-----+-----------------+\n",
      "| Insulin(0-5)     | ... | 0.2             |\n",
      "+------------------+-----+-----------------+\n",
      "| Insulin(120-150) | ... | 0.2             |\n",
      "+------------------+-----+-----------------+\n",
      "| Insulin(150+)    | ... | 0.2             |\n",
      "+------------------+-----+-----------------+\n",
      "| Insulin(5-50)    | ... | 0.2             |\n",
      "+------------------+-----+-----------------+\n",
      "| Insulin(50-120)  | ... | 0.2             |\n",
      "+------------------+-----+-----------------+ \n",
      "\n",
      "CPT of Age:\n",
      "+------------+-----------+\n",
      "| Age(20-30) | 0.594595  |\n",
      "+------------+-----------+\n",
      "| Age(30-40) | 0.198198  |\n",
      "+------------+-----------+\n",
      "| Age(40-50) | 0.128378  |\n",
      "+------------+-----------+\n",
      "| Age(50-60) | 0.0653153 |\n",
      "+------------+-----------+\n",
      "| Age(60+)   | 0.0135135 |\n",
      "+------------+-----------+ \n",
      "\n",
      "CPT of Pregnancies:\n",
      "+------------------+-----+---------------------+\n",
      "| Age              | ... | Age(60+)            |\n",
      "+------------------+-----+---------------------+\n",
      "| Pregnancies(0-3) | ... | 0.20833333333333334 |\n",
      "+------------------+-----+---------------------+\n",
      "| Pregnancies(3-6) | ... | 0.20833333333333334 |\n",
      "+------------------+-----+---------------------+\n",
      "| Pregnancies(6-9) | ... | 0.375               |\n",
      "+------------------+-----+---------------------+\n",
      "| Pregnancies(9+)  | ... | 0.20833333333333334 |\n",
      "+------------------+-----+---------------------+ \n",
      "\n",
      "CPT of Diabetes_2:\n",
      "+--------------------------+-----+--------------------------------+\n",
      "| Age                      | ... | Age(60+)                       |\n",
      "+--------------------------+-----+--------------------------------+\n",
      "| BMI                      | ... | BMI(30+)                       |\n",
      "+--------------------------+-----+--------------------------------+\n",
      "| DiabetesPedigreeFunction | ... | DiabetesPedigreeFunction(0.9+) |\n",
      "+--------------------------+-----+--------------------------------+\n",
      "| Pregnancies              | ... | Pregnancies(9+)                |\n",
      "+--------------------------+-----+--------------------------------+\n",
      "| Diabetes_2(0)            | ... | 0.5                            |\n",
      "+--------------------------+-----+--------------------------------+\n",
      "| Diabetes_2(1)            | ... | 0.5                            |\n",
      "+--------------------------+-----+--------------------------------+ \n",
      "\n",
      "CPT of DiabetesPedigreeFunction:\n",
      "+-----------------------------------+----------+\n",
      "| DiabetesPedigreeFunction(0-0.2)   | 0.109985 |\n",
      "+-----------------------------------+----------+\n",
      "| DiabetesPedigreeFunction(0.2-0.3) | 0.188814 |\n",
      "+-----------------------------------+----------+\n",
      "| DiabetesPedigreeFunction(0.3-0.5) | 0.26539  |\n",
      "+-----------------------------------+----------+\n",
      "| DiabetesPedigreeFunction(0.5-0.7) | 0.202327 |\n",
      "+-----------------------------------+----------+\n",
      "| DiabetesPedigreeFunction(0.7-0.9) | 0.114489 |\n",
      "+-----------------------------------+----------+\n",
      "| DiabetesPedigreeFunction(0.9+)    | 0.118994 |\n",
      "+-----------------------------------+----------+ \n",
      "\n",
      "CPT of Diabetes_1:\n",
      "+--------------------------+-----+--------------------------------+\n",
      "| Age                      | ... | Age(60+)                       |\n",
      "+--------------------------+-----+--------------------------------+\n",
      "| DiabetesPedigreeFunction | ... | DiabetesPedigreeFunction(0.9+) |\n",
      "+--------------------------+-----+--------------------------------+\n",
      "| Diabetes_1(0)            | ... | 0.5                            |\n",
      "+--------------------------+-----+--------------------------------+\n",
      "| Diabetes_1(1)            | ... | 0.5                            |\n",
      "+--------------------------+-----+--------------------------------+ \n",
      "\n",
      "CPT of BMI:\n",
      "+------------+----------+\n",
      "| BMI(18-25) | 0.107357 |\n",
      "+------------+----------+\n",
      "| BMI(25-30) | 0.222222 |\n",
      "+------------+----------+\n",
      "| BMI(30+)   | 0.67042  |\n",
      "+------------+----------+ \n",
      "\n",
      "CPT of SkinThickness:\n",
      "+----------------------+-----+----------------------+\n",
      "| BMI                  | ... | BMI(30+)             |\n",
      "+----------------------+-----+----------------------+\n",
      "| Insulin              | ... | Insulin(50-120)      |\n",
      "+----------------------+-----+----------------------+\n",
      "| SkinThickness(15-30) | ... | 0.45270270270270274  |\n",
      "+----------------------+-----+----------------------+\n",
      "| SkinThickness(30-40) | ... | 0.33687258687258687  |\n",
      "+----------------------+-----+----------------------+\n",
      "| SkinThickness(40+)   | ... | 0.19787644787644787  |\n",
      "+----------------------+-----+----------------------+\n",
      "| SkinThickness(7-15)  | ... | 0.012548262548262547 |\n",
      "+----------------------+-----+----------------------+ \n",
      "\n",
      "CPT of BloodPressure:\n",
      "+-----------------------+-----+---------------------+\n",
      "| BMI                   | ... | BMI(30+)            |\n",
      "+-----------------------+-----+---------------------+\n",
      "| Glucose               | ... | Glucose(50-100)     |\n",
      "+-----------------------+-----+---------------------+\n",
      "| Insulin               | ... | Insulin(50-120)     |\n",
      "+-----------------------+-----+---------------------+\n",
      "| BloodPressure(20-60)  | ... | 0.22530009233610337 |\n",
      "+-----------------------+-----+---------------------+\n",
      "| BloodPressure(60-80)  | ... | 0.6491228070175439  |\n",
      "+-----------------------+-----+---------------------+\n",
      "| BloodPressure(80-110) | ... | 0.12557710064635272 |\n",
      "+-----------------------+-----+---------------------+ \n",
      "\n",
      "CPT of Glucose:\n",
      "+------------------+-----+---------------------+\n",
      "| Diabetes_1       | ... | Diabetes_1(1)       |\n",
      "+------------------+-----+---------------------+\n",
      "| Diabetes_2       | ... | Diabetes_2(1)       |\n",
      "+------------------+-----+---------------------+\n",
      "| Glucose(100-140) | ... | 0.33333333333333337 |\n",
      "+------------------+-----+---------------------+\n",
      "| Glucose(140-200) | ... | 0.33333333333333337 |\n",
      "+------------------+-----+---------------------+\n",
      "| Glucose(50-100)  | ... | 0.33333333333333337 |\n",
      "+------------------+-----+---------------------+ \n",
      "\n",
      "CPT of Insulin:\n",
      "+------------------+-----+-----------------+\n",
      "| Diabetes_1       | ... | Diabetes_1(1)   |\n",
      "+------------------+-----+-----------------+\n",
      "| Diabetes_2       | ... | Diabetes_2(1)   |\n",
      "+------------------+-----+-----------------+\n",
      "| Glucose          | ... | Glucose(50-100) |\n",
      "+------------------+-----+-----------------+\n",
      "| Insulin(0-5)     | ... | 0.2             |\n",
      "+------------------+-----+-----------------+\n",
      "| Insulin(120-150) | ... | 0.2             |\n",
      "+------------------+-----+-----------------+\n",
      "| Insulin(150+)    | ... | 0.2             |\n",
      "+------------------+-----+-----------------+\n",
      "| Insulin(5-50)    | ... | 0.2             |\n",
      "+------------------+-----+-----------------+\n",
      "| Insulin(50-120)  | ... | 0.2             |\n",
      "+------------------+-----+-----------------+ \n",
      "\n"
     ]
    }
   ],
   "source": [
    "model.cpds = []\n",
    "model.fit(data=df, estimator=BayesianEstimator, prior_type=\"BDeu\")\n",
    "\n",
    "for cpd in model.get_cpds():\n",
    "    print(f'CPT of {cpd.variable}:')\n",
    "    print(cpd, '\\n')\n",
    "model.cpds = []\n",
    "model.fit(data=df, estimator=BayesianEstimator, prior_type=\"BDeu\")\n",
    "\n",
    "for cpd in model.get_cpds():\n",
    "    print(f'CPT of {cpd.variable}:')\n",
    "    print(cpd, '\\n')"
   ]
  },
  {
   "cell_type": "code",
   "execution_count": 24,
   "metadata": {},
   "outputs": [
    {
     "data": {
      "text/plain": [
       "True"
      ]
     },
     "execution_count": 24,
     "metadata": {},
     "output_type": "execute_result"
    }
   ],
   "source": [
    "# Checking the validity of the model \n",
    "# This method checks if the sum of the probabilities for each state is equal to 1 (tol=0.01) and if the CPDs associated with nodes are consistent with their parents.\n",
    "model.check_model()"
   ]
  },
  {
   "cell_type": "code",
   "execution_count": null,
   "metadata": {},
   "outputs": [],
   "source": [
    "#Cardinality of all model nodes\n",
    "model.get_cardinality()"
   ]
  },
  {
   "cell_type": "markdown",
   "metadata": {},
   "source": [
    "## Inferences\n",
    "\n",
    "Pgmpy allows to develop both exact and approximate inference on the Bayesian Network, in particular in this section both are presented exploring a variety of different methods related."
   ]
  },
  {
   "cell_type": "markdown",
   "metadata": {},
   "source": [
    "### Exact inference\n",
    "\n",
    "Exact Inference in pgmpy is implemented through the Variable Elimination Method and Belief Propagation rather than with simple enumeration; being one of the purpouses of this work exploring topics seen in class, the former is choosen.\n"
   ]
  },
  {
   "cell_type": "code",
   "execution_count": 25,
   "metadata": {},
   "outputs": [],
   "source": [
    "from pgmpy.inference import VariableElimination\n",
    "infer = VariableElimination(model)"
   ]
  },
  {
   "cell_type": "markdown",
   "metadata": {},
   "source": [
    "Let's see some examples of reasoning patterns: \n",
    "\n",
    "- Causal (prediction): given evidence from one/some ancestral node/s find the probability distribution for a descendant node.\n",
    "\n",
    "- Evidential (explanation): given evidence on a/some descendent node/s find the probability distribution for an ancestor node. \n",
    "\n",
    "- Intercausal (explaining away): given evidence of a/some descendant node/s and one (or some) of its ancestors find the probability distribution for another of its ancestors."
   ]
  },
  {
   "cell_type": "code",
   "execution_count": null,
   "metadata": {},
   "outputs": [],
   "source": [
    "#Causal inference (prediction): probability that the patient has diabetes given her number of pregnancies\n",
    "\n",
    "print('Prior probability distribution of type 2 diabetes:')\n",
    "print(infer.query([\"Diabetes_2\"]))\n",
    "\n",
    "print('Probability of having type 2 diabetes with 0 to 3 pregnancies:')\n",
    "print(infer.query([\"Diabetes_2\"],evidence={\"Pregnancies\": '0-3'}))\n",
    "\n",
    "print('Probability of having type 2 diabetes with more than 9 pregnancies:')\n",
    "print(infer.query([\"Diabetes_2\"],evidence={\"Pregnancies\": '9+'}))"
   ]
  },
  {
   "cell_type": "markdown",
   "metadata": {},
   "source": [
    "As expected, we can see that it is more likely to develop type 2 diabetes with a higher number of pregnancies."
   ]
  },
  {
   "cell_type": "code",
   "execution_count": null,
   "metadata": {},
   "outputs": [],
   "source": [
    "print('Prior probability distribution of type 1 diabetes:')\n",
    "print(infer.query([\"Diabetes_1\"]))\n",
    "\n",
    "print('Probability of having type 1 diabetes with 0 to 3 pregnancies:')\n",
    "print(infer.query([\"Diabetes_1\"],evidence={\"Pregnancies\": '0-3'}))\n",
    "\n",
    "print('Probability of having type 1 diabetes with more than 9 pregnancies:')\n",
    "print(infer.query([\"Diabetes_1\"],evidence={\"Pregnancies\": '9+'}))"
   ]
  },
  {
   "cell_type": "markdown",
   "metadata": {},
   "source": [
    "We can see that even if the node Pregnancies does not directly influence the node Diabetes_1, its effect can be observed on the latter: the probability of having diabetes_1 increses with the number of Pregnancies. This may be explained by the influence of Age over both Pregnancies and Diabetes_1."
   ]
  },
  {
   "cell_type": "code",
   "execution_count": null,
   "metadata": {},
   "outputs": [],
   "source": [
    "#Evidential inference (explanation): probability of having diabetes given that the patient has very low/high insulin level\n",
    "print('Prior probability distribution of type 2 diabetes:')\n",
    "print(infer.query([\"Diabetes_2\"]))\n",
    "\n",
    "print('Probability of having type 2 diabetes given low insulin level:')\n",
    "print(infer.query([\"Diabetes_2\"],evidence={\"Insulin\": '0-5'}))\n",
    "\n",
    "print('Probability of having type 2 diabetes given high insulin level:')\n",
    "print(infer.query([\"Diabetes_2\"],evidence={\"Insulin\": '150+'}))"
   ]
  },
  {
   "cell_type": "code",
   "execution_count": null,
   "metadata": {},
   "outputs": [],
   "source": [
    "print('Prior probability distribution of type 1 diabetes:')\n",
    "print(infer.query([\"Diabetes_1\"]))\n",
    "\n",
    "print('Probability of having type 1 diabetes given low insulin level:')\n",
    "print(infer.query([\"Diabetes_1\"],evidence={\"Insulin\": '0-5'}))\n",
    "\n",
    "print('Probability of having type 1 diabetes given high insulin level:')\n",
    "print(infer.query([\"Diabetes_1\"],evidence={\"Insulin\": '150+'}))"
   ]
  },
  {
   "cell_type": "markdown",
   "metadata": {},
   "source": [
    "Having a very low insulin level is almost a sure sign of having type 1 diabetes. This was expected as we built the Diabetes_1 column with this consideration in mind."
   ]
  },
  {
   "cell_type": "code",
   "execution_count": null,
   "metadata": {},
   "outputs": [],
   "source": [
    "#Intercausal inference (explaining away):\n",
    "# what's the probability that she has type 1 or 2 diabetes given that she has high blood pressure but she's not overweight?\n",
    "\n",
    "print('Prior probability distribution of type 2 diabetes:')\n",
    "print(infer.query([\"Diabetes_2\"]))\n",
    "\n",
    "print('Probability of having type 2 diabetes given that she has high blood pressure:')\n",
    "print(infer.query([\"Diabetes_2\"],evidence={\"BloodPressure\": '80-110'}))\n",
    "\n",
    "print('Probability of having type 2 diabetes given that she has high blood pressure but she is not overweight:')\n",
    "print(infer.query([\"Diabetes_2\"],evidence={\"BloodPressure\": '80-110', 'BMI': '18-25' }))\n",
    "\n",
    "print('Probability of having type 2 diabetes given that she has high blood pressure and she is overweight:')\n",
    "print(infer.query([\"Diabetes_2\"],evidence={\"BloodPressure\": '80-110', 'BMI': '30+' }))"
   ]
  },
  {
   "cell_type": "code",
   "execution_count": null,
   "metadata": {},
   "outputs": [],
   "source": [
    "print('Prior probability distribution of BMI:')\n",
    "print(infer.query([\"BMI\"]))\n",
    "\n",
    "print('Probability of levels of BMI given that she has high blood pressure:')\n",
    "print(infer.query([\"BMI\"],evidence={\"BloodPressure\": '80-110'}))\n",
    "\n",
    "print('Probability of levels of BMI given that she has high blood pressure and normal Glucose:')\n",
    "print(infer.query([\"BMI\"],evidence={\"BloodPressure\": '80-110', 'Glucose': '50-100' }))\n",
    "\n",
    "print('Probability of levels of BMI given that she has high blood pressure and high value of Glucose:')\n",
    "print(infer.query([\"BMI\"],evidence={\"BloodPressure\": '80-110', 'Glucose': '140-200' }))"
   ]
  },
  {
   "cell_type": "markdown",
   "metadata": {},
   "source": [
    "#### MAP queries\n",
    "\n",
    "Maximum a posteriori (MAP) queries find the most probable configuration (called MAP configuration) of some specific variables of interest (also called MAP variable), given observations of some evidence variables.\n",
    "The result of MAP queries is (in case of discrete random variables) a single value rather than a probability which encodes the instantiation of the MAP variable with higher probability given the evidence."
   ]
  },
  {
   "cell_type": "code",
   "execution_count": null,
   "metadata": {},
   "outputs": [],
   "source": [
    "# let's see how the most likely insulin level changes as we change evidence\n",
    "\n",
    "print(infer.map_query([\"Insulin\"]))\n",
    "print(infer.map_query([\"Insulin\"], evidence={'Glucose': '70-100'}))\n",
    "print(infer.map_query([\"Insulin\"], evidence={'Diabetes_2': 1}))\n",
    "print(infer.map_query([\"Insulin\"], evidence={'Diabetes_1': 1}))"
   ]
  },
  {
   "cell_type": "markdown",
   "metadata": {},
   "source": [
    "## Approximate Inference"
   ]
  },
  {
   "cell_type": "markdown",
   "metadata": {},
   "source": [
    "Approximate Inference in pgmpy is implemented with a number of different sampling methods, in particular in this section the main focus is on the ones seen during the course: Sampling from an empty network, likelihood weighting and rejection sampling"
   ]
  },
  {
   "cell_type": "code",
   "execution_count": 27,
   "metadata": {},
   "outputs": [],
   "source": [
    "from pgmpy.inference import ApproxInference\n",
    "from pgmpy.sampling import BayesianModelSampling"
   ]
  },
  {
   "cell_type": "code",
   "execution_count": 28,
   "metadata": {},
   "outputs": [],
   "source": [
    "infer = ApproxInference(model)\n",
    "inference = BayesianModelSampling(model)"
   ]
  },
  {
   "cell_type": "code",
   "execution_count": null,
   "metadata": {},
   "outputs": [],
   "source": [
    "# Sampling from an empty network\n",
    "\n",
    "print(infer.query(variables=[\"Diabetes_2\"], n_samples=100)) "
   ]
  },
  {
   "cell_type": "code",
   "execution_count": null,
   "metadata": {},
   "outputs": [],
   "source": [
    "# Showing the convergence increasing number of samples\n",
    "print(infer.query(variables=[\"BloodPressure\"], n_samples=10)) #approximate probability with a low number of samples\n",
    "\n",
    "print(infer.query(variables=[\"BloodPressure\"], n_samples=10000)) #approximate probability with an high number of samples\n",
    "\n",
    "print(\"True probability\")\n",
    "print(VariableElimination(model).query([\"BloodPressure\"]))      #true probability"
   ]
  },
  {
   "cell_type": "markdown",
   "metadata": {},
   "source": [
    "We can observe that with a small number of samples we don't even find all the possible events for BloodPressure."
   ]
  },
  {
   "cell_type": "code",
   "execution_count": null,
   "metadata": {},
   "outputs": [],
   "source": [
    "print(infer.query(variables=[\"Diabetes_2\"], n_samples=10)) #approximate probability with a low number of samples\n",
    "\n",
    "print(infer.query(variables=[\"Diabetes_2\"], n_samples=100)) #approximate probability with a medium number of samples\n",
    "\n",
    "print(infer.query(variables=[\"Diabetes_2\"], n_samples=10000)) #approximate probability with an high number of samples\n",
    "\n",
    "print('True probability:')\n",
    "print(VariableElimination(model).query([\"Diabetes_2\"]))      #true probability"
   ]
  },
  {
   "cell_type": "code",
   "execution_count": null,
   "metadata": {},
   "outputs": [],
   "source": [
    "#Likelihood weighting\n",
    "#let's see the results of a sampling process\n",
    "print(inference.likelihood_weighted_sample(size=10)) #size: number of samples\n"
   ]
  },
  {
   "cell_type": "code",
   "execution_count": null,
   "metadata": {},
   "outputs": [],
   "source": [
    "# We can observe the distribution obtained to derive the approx probabilities\n",
    "print(infer.get_distribution(inference.likelihood_weighted_sample( size=1000), [\"Diabetes_2\"], joint=True))\n",
    "print(infer.get_distribution(inference.likelihood_weighted_sample( size=1000), [\"Diabetes_1\"], joint=True))"
   ]
  },
  {
   "cell_type": "code",
   "execution_count": null,
   "metadata": {},
   "outputs": [],
   "source": [
    "# Rejection sampling\n",
    "print(infer.get_distribution(inference.rejection_sample( size=1000), [\"Diabetes_2\"]))\n",
    "print(infer.get_distribution(inference.rejection_sample( size=1000), [\"Diabetes_1\"]))"
   ]
  },
  {
   "cell_type": "markdown",
   "metadata": {},
   "source": [
    "We observe that, given the same number of samples, sampling from an empty network, likelihood weighting and rejection sampling give us different results. This was expected as we would need more samples to reach convergence for all theese three methods."
   ]
  },
  {
   "cell_type": "markdown",
   "metadata": {},
   "source": [
    "# Conclusions\n",
    "\n",
    "In this final section we will explore our model to see what useful insights about diabetes, and its relation with the features of the dataset, the model has learned. We will show queries of interest and discuss about the results."
   ]
  },
  {
   "cell_type": "code",
   "execution_count": null,
   "metadata": {},
   "outputs": [],
   "source": [
    "conf"
   ]
  },
  {
   "cell_type": "markdown",
   "metadata": {},
   "source": [
    "Query 1 : Diabetes and Glucose"
   ]
  },
  {
   "cell_type": "code",
   "execution_count": null,
   "metadata": {},
   "outputs": [],
   "source": [
    "for i in conf[\"Glucose\"][\"labels\"]:\n",
    "    print(\"Probability of having type 1 Diabetes with a value of glucose between\",i)\n",
    "    print(infer.query([\"Diabetes_1\"],evidence={\"Glucose\": i}))\n",
    "    print(\"Probability of having type 2 Diabetes with a value of glucose between\",i)\n",
    "    print(infer.query([\"Diabetes_2\"],evidence={\"Glucose\": i}))"
   ]
  },
  {
   "cell_type": "markdown",
   "metadata": {},
   "source": [
    "As we can see there is a close correlation between increasing glucose levels and the probability of developing diabetes. This correlation is clearer with regard to type 2 diabetes, in particular we can notice that the probability of having diabetes grows considerably when the value of glucose in the blood gets high."
   ]
  },
  {
   "cell_type": "code",
   "execution_count": null,
   "metadata": {},
   "outputs": [],
   "source": [
    "##non so se metterlo perche ha senso dal punto di vista clinico ma i risultati non sono cosi belli, la probabilità del diabete 2 non cresce cosi tanto...\n",
    "for i in conf[\"BMI\"][\"labels\"]:\n",
    "    print(\"Probability of having type 1 Diabetes with a value of BMI between\",i)\n",
    "    print(infer.query([\"Diabetes_1\"],evidence={\"BMI\": i}))\n",
    "    print(\"Probability of having type 2 Diabetes with a value of BMI between\",i)\n",
    "    print(infer.query([\"Diabetes_2\"],evidence={\"BMI\": i}))"
   ]
  },
  {
   "cell_type": "markdown",
   "metadata": {},
   "source": [
    "Query 2 : Diabetes and Blood pressure"
   ]
  },
  {
   "cell_type": "code",
   "execution_count": null,
   "metadata": {},
   "outputs": [],
   "source": [
    "for i in conf[\"BloodPressure\"][\"labels\"]:\n",
    "    print(\"Probability of having type 1 Diabetes with a value of BloodPressure between\",i)\n",
    "    print(infer.query([\"Diabetes_1\"],evidence={\"BloodPressure\": i}))\n",
    "    print(\"Probability of having type 2 Diabetes with a value of BloodPressure between\",i)\n",
    "    print(infer.query([\"Diabetes_2\"],evidence={\"BloodPressure\": i}))"
   ]
  },
  {
   "cell_type": "markdown",
   "metadata": {},
   "source": [
    "We notice that also the value of Blood pressure can be a signal of onset of diabetes"
   ]
  },
  {
   "cell_type": "markdown",
   "metadata": {},
   "source": [
    "Query 3 : Diabetes and number of pregnancies"
   ]
  },
  {
   "cell_type": "code",
   "execution_count": null,
   "metadata": {},
   "outputs": [],
   "source": [
    "for i in conf[\"Pregnancies\"][\"labels\"]:\n",
    "    print(\"Probability of having type 1 Diabetes with a value of Pregnancies between\",i)\n",
    "    print(infer.query([\"Diabetes_1\"],evidence={\"Pregnancies\": i}))\n",
    "    print(\"Probability of having type 2 Diabetes with a value of Pregnancies between\",i)\n",
    "    print(infer.query([\"Diabetes_2\"],evidence={\"Pregnancies\": i}))"
   ]
  },
  {
   "cell_type": "markdown",
   "metadata": {},
   "source": [
    "As the number of maternities for a woman grows, the same goes for the probability of developping gestational diabetes wich can become type 2 diabetes. This notion of internal medicine is mirrored in our results from the model."
   ]
  },
  {
   "cell_type": "markdown",
   "metadata": {},
   "source": [
    "Query 4 : Diabetes and Insulin"
   ]
  },
  {
   "cell_type": "code",
   "execution_count": null,
   "metadata": {},
   "outputs": [],
   "source": [
    "for i in conf[\"Insulin\"][\"labels\"]:\n",
    "    print(\"Probability of having type 1 Diabetes with a value of Insulin between\",i)\n",
    "    print(infer.query([\"Diabetes_1\"],evidence={\"Insulin\": i}))\n",
    "    print(\"Probability of having type 2 Diabetes with a value of Insulin between\",i)\n",
    "    print(infer.query([\"Diabetes_2\"],evidence={\"Insulin\": i}))"
   ]
  },
  {
   "cell_type": "markdown",
   "metadata": {},
   "source": [
    "At last but not least we get the most significant (and expected) result : the correlation between tha values of insulin in the blood and the probability of having diabetes. It is clear the difference in predictive significance of insulin with respect to the two diabetes. "
   ]
  },
  {
   "cell_type": "markdown",
   "metadata": {},
   "source": [
    "In line with basic knowledge of internal medicine, we can state that the most indicative features ( among the avaible ones ) to detect the presence of Diabetes in patients are: Glucose, number of pregnancies and Insulin. Of course we have to consider that the number of pregnacies is relevant only while considering female patients, so we can assert that Glucose and Insulin are the most general and significative data to indicate the presence of Diabetes starting from a blood analysis."
   ]
  }
 ],
 "metadata": {
  "kernelspec": {
   "display_name": "Python 3.9.10 ('ML4downsyndrome-D1DocbTt')",
   "language": "python",
   "name": "python3"
  },
  "language_info": {
   "codemirror_mode": {
    "name": "ipython",
    "version": 3
   },
   "file_extension": ".py",
   "mimetype": "text/x-python",
   "name": "python",
   "nbconvert_exporter": "python",
   "pygments_lexer": "ipython3",
   "version": "3.9.10"
  },
  "orig_nbformat": 4,
  "vscode": {
   "interpreter": {
    "hash": "e765655f724514810ca5f5619b481f72aea2afcac92a9986adb907bce56ced13"
   }
  }
 },
 "nbformat": 4,
 "nbformat_minor": 2
}
